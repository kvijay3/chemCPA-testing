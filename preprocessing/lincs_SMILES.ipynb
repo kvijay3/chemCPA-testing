{
 "cells": [
  {
   "cell_type": "code",
   "execution_count": 1,
   "source": [
    "import os \n",
    "import scanpy as sc\n",
    "import matplotlib.pyplot as plt\n",
    "import numpy as np \n",
    "import pandas as pd\n",
    "sc.set_figure_params(dpi=80, frameon=False)\n",
    "sc.logging.print_header()\n",
    "os.getcwd()"
   ],
   "outputs": [
    {
     "output_type": "stream",
     "name": "stdout",
     "text": [
      "scanpy==1.8.1 anndata==0.7.6 umap==0.5.1 numpy==1.19.2 scipy==1.6.2 pandas==1.2.4 scikit-learn==0.24.2 statsmodels==0.12.2 python-igraph==0.9.1 louvain==0.7.0 pynndescent==0.5.2\n"
     ]
    },
    {
     "output_type": "execute_result",
     "data": {
      "text/plain": [
       "'/home/icb/leon.hetzel/git/CPA_graphs/preprocessing'"
      ]
     },
     "metadata": {},
     "execution_count": 1
    }
   ],
   "metadata": {}
  },
  {
   "cell_type": "code",
   "execution_count": 2,
   "source": [
    "%load_ext autoreload\n",
    "%autoreload 2"
   ],
   "outputs": [],
   "metadata": {}
  },
  {
   "cell_type": "markdown",
   "source": [
    "### Loading LINCS and reference data"
   ],
   "metadata": {}
  },
  {
   "cell_type": "code",
   "execution_count": 3,
   "source": [
    "full = True\n",
    "load_adata = True \n",
    "if full:\n",
    "    adata_in = '../datasets/lincs_full_pp.h5ad'\n",
    "    adata_out = '../datasets/lincs_full_smiles.h5ad' \n",
    "else: \n",
    "    adata_in = '../datasets/lincs.h5ad'\n",
    "    adata_out = '../datasets/lincs_smiles.h5ad'  \n",
    "adata = sc.read(adata_in) if load_adata else None\n"
   ],
   "outputs": [],
   "metadata": {}
  },
  {
   "cell_type": "markdown",
   "source": [
    "Checking number of drugs for LINCS"
   ],
   "metadata": {}
  },
  {
   "cell_type": "code",
   "execution_count": 4,
   "source": [
    "pert_id_unique = pd.Series(np.unique(adata.obs.pert_id))\n",
    "print(f\"# of unique perturbations: {len(pert_id_unique)}\")"
   ],
   "outputs": [
    {
     "output_type": "stream",
     "name": "stdout",
     "text": [
      "# of unique perturbations: 18743\n"
     ]
    }
   ],
   "metadata": {}
  },
  {
   "cell_type": "markdown",
   "source": [
    "Loading reference dataframe and restricting to `'pert_id'` and `'canonical_smiles'`"
   ],
   "metadata": {}
  },
  {
   "cell_type": "code",
   "execution_count": 5,
   "source": [
    "reference_df = pd.read_csv('../datasets/GSE92742_Broad_LINCS_pert_info.txt', delimiter = \"\\t\")\n",
    "reference_df = reference_df.loc[reference_df.pert_id.isin(pert_id_unique), ['pert_id', 'canonical_smiles']]\n",
    "reference_df.canonical_smiles.value_counts()"
   ],
   "outputs": [
    {
     "output_type": "execute_result",
     "data": {
      "text/plain": [
       "-666                                                                                                                                                  63\n",
       "restricted                                                                                                                                            14\n",
       "CCC1=C[C@@H]2C[N@](C1)Cc1c([nH]c3ccccc13)[C@@](C2)(C(=O)OC)c1cc2c(cc1OC)N(C)[C@@H]1[C@]22CCN3CC=C[C@@](CC)([C@@H]23)[C@@H](OC(C)=O)[C@]1(O)C(=O)OC     2\n",
       "CN(\\N=C\\c1cnc2ccc(Br)cn12)S(=O)(=O)c1cc(ccc1C)[N+]([O-])=O                                                                                             2\n",
       "CCOC(=O)C1=C(NC(=C(C1C2=CC=CC=C2Cl)C(=O)OC)C)COCCN                                                                                                     2\n",
       "                                                                                                                                                      ..\n",
       "CC(C)(C)[S@@](=O)N1Cc2cc(nc(c2[C@H]1CCO)-c1cccc(c1)-c1cccnc1)C(=O)N[C@H]1CCN(Cc2ccccc2)C1                                                              1\n",
       "C[C@H](CO)N1C[C@H](C)[C@H](CN(C)Cc2ccccc2)OCCCC[C@@H](C)Oc3ccc(NS(=O)(=O)c4cccs4)cc3C1=O                                                               1\n",
       "COc1ccc(Cl)cc1Nc2nnc(s2)c3ccncc3                                                                                                                       1\n",
       "C[C@@H](NC(=O)C[C@H]1C[C@@H]2[C@@H](Oc3ccc(NC(=O)c4cccnc4)cc23)[C@H](CO)O1)c5ccccc5                                                                    1\n",
       "Cc1ccc2N=C3N(CCC3(O)C(=O)c2c1)c1ccccc1                                                                                                                 1\n",
       "Name: canonical_smiles, Length: 17770, dtype: int64"
      ]
     },
     "metadata": {},
     "execution_count": 5
    }
   ],
   "metadata": {}
  },
  {
   "cell_type": "code",
   "execution_count": 6,
   "source": [
    "cond = ~pert_id_unique.isin(reference_df.pert_id)\n",
    "print(f\"From {len(pert_id_unique)} total drugs, {cond.sum()} were not part of the reference dataframe.\")"
   ],
   "outputs": [
    {
     "output_type": "stream",
     "name": "stdout",
     "text": [
      "From 18743 total drugs, 890 were not part of the reference dataframe.\n"
     ]
    }
   ],
   "metadata": {}
  },
  {
   "cell_type": "markdown",
   "source": [
    "Adding `'canoncical_smiles'` column to `adata.obs` via `pd.merge`"
   ],
   "metadata": {}
  },
  {
   "cell_type": "code",
   "execution_count": 7,
   "source": [
    "adata.obs = adata.obs.reset_index().merge(reference_df, how=\"left\").set_index('index')"
   ],
   "outputs": [],
   "metadata": {}
  },
  {
   "cell_type": "markdown",
   "source": [
    "Removing invalid SMILES strings "
   ],
   "metadata": {}
  },
  {
   "cell_type": "code",
   "execution_count": 8,
   "source": [
    "adata.obs.canonical_smiles = adata.obs.canonical_smiles.astype('str')\n",
    "invalid_smiles = adata.obs.canonical_smiles.isin(['-666', 'restricted', 'nan'])\n",
    "print(f'Among {len(adata)} observations, {100*invalid_smiles.sum()/len(adata):.2f}% ({invalid_smiles.sum()}) do not have a valid SMILES string')\n",
    "adata = adata[~invalid_smiles]"
   ],
   "outputs": [
    {
     "output_type": "stream",
     "name": "stdout",
     "text": [
      "Among 1023036 observations, 13.66% (139764) do not have a valid SMILES string\n"
     ]
    }
   ],
   "metadata": {}
  },
  {
   "cell_type": "markdown",
   "source": [
    "Remove invalid `'pert_dose'` value: `-666`"
   ],
   "metadata": {}
  },
  {
   "cell_type": "code",
   "execution_count": 9,
   "source": [
    "cond = adata.obs.pert_dose.isin([-666])\n",
    "adata = adata[~cond]\n",
    "print(f\"A total of {cond.sum()} observations have invalid dose values\")"
   ],
   "outputs": [
    {
     "output_type": "stream",
     "name": "stdout",
     "text": [
      "A total of 42592 observations have invalid dose values\n"
     ]
    }
   ],
   "metadata": {}
  },
  {
   "cell_type": "code",
   "execution_count": 10,
   "source": [
    "drugs_validation = adata.obs.canonical_smiles.value_counts() < 6\n",
    "valid_drugs = drugs_validation.index[~drugs_validation]\n",
    "cond = adata.obs.canonical_smiles.isin(valid_drugs)\n",
    "print(f\"A total of {(~cond).sum()} observation belong to drugs which do not have enough replicates\")\n",
    "adata = adata[cond]"
   ],
   "outputs": [
    {
     "output_type": "stream",
     "name": "stdout",
     "text": [
      "A total of 3 observation belong to drugs which do not have enough replicates\n"
     ]
    }
   ],
   "metadata": {}
  },
  {
   "cell_type": "markdown",
   "source": [
    "Checking that SMILES are valid according to `rdkit` "
   ],
   "metadata": {}
  },
  {
   "cell_type": "code",
   "execution_count": 11,
   "source": [
    "from rdkit import Chem\n",
    "\n",
    "def check_smiles(smiles):\n",
    "    m = Chem.MolFromSmiles(smiles,sanitize=False)\n",
    "    if m is None:\n",
    "        print('invalid SMILES')\n",
    "        return False\n",
    "    else:\n",
    "        try:\n",
    "            Chem.SanitizeMol(m)\n",
    "        except:\n",
    "            print('invalid chemistry')\n",
    "            return False\n",
    "    return True\n",
    "\n",
    "def remove_invalid_smiles(dataframe, smiles_key: str = 'SMILES', return_condition: bool = False):\n",
    "    unique_drugs = pd.Series(np.unique(dataframe[smiles_key]))\n",
    "    valid_drugs = unique_drugs.apply(check_smiles)\n",
    "    print(f\"A total of {(~valid_drugs).sum()} have invalid SMILES strings\")\n",
    "    _validation_map = dict(zip(unique_drugs, valid_drugs))\n",
    "    cond = dataframe[smiles_key].apply(lambda x: _validation_map[x])\n",
    "    if return_condition: \n",
    "        return cond\n",
    "    dataframe = dataframe[cond].copy()\n",
    "    return dataframe\n",
    "\n",
    "adata"
   ],
   "outputs": [
    {
     "output_type": "execute_result",
     "data": {
      "text/plain": [
       "View of AnnData object with n_obs × n_vars = 840677 × 978\n",
       "    obs: 'cell_id', 'det_plate', 'det_well', 'lincs_phase', 'pert_dose', 'pert_dose_unit', 'pert_id', 'pert_iname', 'pert_mfc_id', 'pert_time', 'pert_time_unit', 'pert_type', 'rna_plate', 'rna_well', 'condition', 'cell_type', 'dose_val', 'cov_drug_dose_name', 'control', 'split', 'canonical_smiles'\n",
       "    var: 'pr_gene_title', 'pr_is_lm', 'pr_is_bing'\n",
       "    uns: 'cydata_pull', 'rank_genes_groups_cov'"
      ]
     },
     "metadata": {},
     "execution_count": 11
    }
   ],
   "metadata": {}
  },
  {
   "cell_type": "code",
   "execution_count": 12,
   "source": [
    "cond = remove_invalid_smiles(adata.obs, smiles_key='canonical_smiles', return_condition=True)\n",
    "adata = adata[cond]"
   ],
   "outputs": [
    {
     "output_type": "stream",
     "name": "stdout",
     "text": [
      "A total of 0 have invalid SMILES strings\n"
     ]
    }
   ],
   "metadata": {}
  },
  {
   "cell_type": "markdown",
   "source": [
    "### Add additional drugbank info to `adata.obs`"
   ],
   "metadata": {}
  },
  {
   "cell_type": "code",
   "execution_count": 13,
   "source": [
    "from os.path import exists\n",
    "\n",
    "drugbank_path = '../datasets/drug_bank/drugbank_all.csv'\n",
    "if exists(drugbank_path): \n",
    "    drugbank_df = pd.read_csv(drugbank_path)\n",
    "else: \n",
    "    print(f'Invalid path: {drugbank_path}')"
   ],
   "outputs": [
    {
     "output_type": "stream",
     "name": "stderr",
     "text": [
      "/home/icb/leon.hetzel/miniconda3/envs/py38/lib/python3.8/site-packages/IPython/core/interactiveshell.py:3165: DtypeWarning: Columns (54,62) have mixed types.Specify dtype option on import or set low_memory=False.\n",
      "  has_raised = await self.run_ast_nodes(code_ast.body, cell_name,\n"
     ]
    }
   ],
   "metadata": {}
  },
  {
   "cell_type": "code",
   "execution_count": 14,
   "source": [
    "from rdkit.Chem import CanonSmiles\n",
    "\n",
    "drugs_canonical = pd.Series(np.unique(adata.obs.canonical_smiles)).apply(CanonSmiles)\n",
    "db_canonical_smiles = drugbank_df.SMILES.apply(CanonSmiles)\n",
    "n_overlap = drugs_canonical.isin(db_canonical_smiles).sum()\n",
    "print(f'From a total of {len(drugs_canonical)}, {100*n_overlap/len(drugs_canonical):.2f}% ({n_overlap}) is also available in drugbank.')"
   ],
   "outputs": [
    {
     "output_type": "stream",
     "name": "stdout",
     "text": [
      "From a total of 17767, 7.72% (1371) is also available in drugbank.\n"
     ]
    },
    {
     "output_type": "stream",
     "name": "stderr",
     "text": [
      "RDKit WARNING: [11:57:09] WARNING: not removing hydrogen atom without neighbors\n",
      "RDKit WARNING: [11:57:09] WARNING: not removing hydrogen atom without neighbors\n",
      "RDKit WARNING: [11:57:09] WARNING: not removing hydrogen atom without neighbors\n"
     ]
    }
   ],
   "metadata": {}
  },
  {
   "cell_type": "code",
   "execution_count": 15,
   "source": [
    "cond = db_canonical_smiles.isin(drugs_canonical)\n",
    "drugbank_df.loc[cond, ['ATC_level_1']].value_counts()"
   ],
   "outputs": [
    {
     "output_type": "execute_result",
     "data": {
      "text/plain": [
       "ATC_level_1                               \n",
       "an                                            393\n",
       "NERVOUS SYSTEM                                184\n",
       "CARDIOVASCULAR SYSTEM                         152\n",
       "ANTINEOPLASTIC AND IMMUNOMODULATING AGENTS     98\n",
       "ALIMENTARY TRACT AND METABOLISM                93\n",
       "ANTIINFECTIVES FOR SYSTEMIC USE                81\n",
       "RESPIRATORY SYSTEM                             78\n",
       "GENITO URINARY SYSTEM AND SEX HORMONES         60\n",
       "MUSCULO-SKELETAL SYSTEM                        58\n",
       "DERMATOLOGICALS                                51\n",
       "SENSORY ORGANS                                 47\n",
       "INSECTICIDES AND REPELLENTS                    29\n",
       "VARIOUS                                        21\n",
       "BLOOD AND BLOOD FORMING ORGANS                 17\n",
       "EXCL. SEX HORMONES AND INSULINS                 7\n",
       "dtype: int64"
      ]
     },
     "metadata": {},
     "execution_count": 15
    }
   ],
   "metadata": {}
  },
  {
   "cell_type": "markdown",
   "source": [
    "### Add `train`, `test`, `ood` split for full lincs dataset (if not already part in `adata.obs`)"
   ],
   "metadata": {}
  },
  {
   "cell_type": "code",
   "execution_count": 16,
   "source": [
    "from sklearn.model_selection import train_test_split\n",
    "\n",
    "if 'split' not in list(adata.obs):\n",
    "    print(\"Addig 'split' to 'adata.obs'.\")\n",
    "    unique_drugs = np.unique(adata.obs.canonical_smiles)\n",
    "    drugs_train, drugs_tmp = train_test_split(unique_drugs, test_size=0.2)\n",
    "    drugs_val, drugs_test = train_test_split(drugs_tmp, test_size=0.5)\n",
    "\n",
    "    adata.obs['split'] = 'train'\n",
    "    adata.obs.loc[adata.obs.canonical_smiles.isin(drugs_val), 'split'] = 'test'\n",
    "    adata.obs.loc[adata.obs.canonical_smiles.isin(drugs_test), 'split'] = 'ood'"
   ],
   "outputs": [],
   "metadata": {}
  },
  {
   "cell_type": "markdown",
   "source": [
    "### Check that `.obs.split=='test'` has sufficient samples for `pert_id` and `cell_id`"
   ],
   "metadata": {}
  },
  {
   "cell_type": "code",
   "execution_count": 17,
   "source": [
    "adata.obs.split.value_counts()"
   ],
   "outputs": [
    {
     "output_type": "execute_result",
     "data": {
      "text/plain": [
       "train    699463\n",
       "test     133383\n",
       "ood        7831\n",
       "Name: split, dtype: int64"
      ]
     },
     "metadata": {},
     "execution_count": 17
    }
   ],
   "metadata": {
    "scrolled": true
   }
  },
  {
   "cell_type": "code",
   "execution_count": 18,
   "source": [
    "cond_test = adata.obs.split.isin(['test'])\n",
    "adata.obs.loc[cond_test, 'cell_id'].value_counts()"
   ],
   "outputs": [
    {
     "output_type": "execute_result",
     "data": {
      "text/plain": [
       "MCF7        18766\n",
       "VCAP        17841\n",
       "PC3         17414\n",
       "A375        11188\n",
       "HT29        10970\n",
       "            ...  \n",
       "HUES3          93\n",
       "SNUC5          89\n",
       "NCIH1694       86\n",
       "SKMEL28        77\n",
       "HS27A           9\n",
       "Name: cell_id, Length: 82, dtype: int64"
      ]
     },
     "metadata": {},
     "execution_count": 18
    }
   ],
   "metadata": {}
  },
  {
   "cell_type": "code",
   "execution_count": 19,
   "source": [
    "adata.obs.loc[cond_test, 'pert_id'].value_counts()"
   ],
   "outputs": [
    {
     "output_type": "execute_result",
     "data": {
      "text/plain": [
       "BRD-K60230970    904\n",
       "BRD-K50691590    882\n",
       "BRD-K81418486    694\n",
       "DMSO             618\n",
       "BRD-A19500257    538\n",
       "                ... \n",
       "BRD-K15466057      1\n",
       "BRD-K11528380      1\n",
       "BRD-K16621373      1\n",
       "BRD-K40628295      1\n",
       "BRD-K55232867      1\n",
       "Name: pert_id, Length: 15649, dtype: int64"
      ]
     },
     "metadata": {},
     "execution_count": 19
    }
   ],
   "metadata": {}
  },
  {
   "cell_type": "code",
   "execution_count": 20,
   "source": [
    "pert_count_treshold = 5\n",
    "cov_count_treshold = 20\n",
    "\n",
    "pert_id_neg = adata.obs.loc[cond_test, 'pert_id'].value_counts() < pert_count_treshold\n",
    "print(f\"pert_id: {pert_id_neg.sum()}/{len(pert_id_neg)} converted back to 'train' due to insufficient # of samples.\")\n",
    "\n",
    "cov_id_neg = adata.obs.loc[cond_test, 'cell_id'].value_counts() < cov_count_treshold\n",
    "print(f\"cell_id: {cov_id_neg.sum()}/{len(cov_id_neg)} converted back to 'train' due to insufficient # of samples.\")\n",
    "\n",
    "cond = cond_test & adata.obs.pert_id.isin(pert_id_neg.index[pert_id_neg])\n",
    "cond |= cond_test & adata.obs.cell_id.isin(cov_id_neg.index[cov_id_neg])"
   ],
   "outputs": [
    {
     "output_type": "stream",
     "name": "stdout",
     "text": [
      "pert_id: 9257/15649 converted back to 'train' due to insufficient # of samples.\n",
      "cell_id: 1/82 converted back to 'train' due to insufficient # of samples.\n"
     ]
    }
   ],
   "metadata": {}
  },
  {
   "cell_type": "code",
   "execution_count": 21,
   "source": [
    "adata.obs['split1'] = adata.obs.split.copy()\n",
    "adata.obs.loc[cond, 'split1'] = 'train'\n",
    "print(f\"split['test']: {cond.sum()}/{len(cond)} samples are converted back to 'train'.\")"
   ],
   "outputs": [
    {
     "output_type": "stream",
     "name": "stderr",
     "text": [
      "Trying to set attribute `.obs` of view, copying.\n"
     ]
    },
    {
     "output_type": "stream",
     "name": "stdout",
     "text": [
      "split['test']: 18885/840677 samples are converted back to 'train'.\n"
     ]
    }
   ],
   "metadata": {}
  },
  {
   "cell_type": "code",
   "execution_count": 22,
   "source": [
    "adata.obs.split1.value_counts()"
   ],
   "outputs": [
    {
     "output_type": "execute_result",
     "data": {
      "text/plain": [
       "train    718348\n",
       "test     114498\n",
       "ood        7831\n",
       "Name: split1, dtype: int64"
      ]
     },
     "metadata": {},
     "execution_count": 22
    }
   ],
   "metadata": {}
  },
  {
   "cell_type": "code",
   "execution_count": 23,
   "source": [
    "adata.write(adata_out)\n",
    "adata"
   ],
   "outputs": [
    {
     "output_type": "stream",
     "name": "stderr",
     "text": [
      "... storing 'pert_id' as categorical\n",
      "... storing 'canonical_smiles' as categorical\n"
     ]
    },
    {
     "output_type": "execute_result",
     "data": {
      "text/plain": [
       "AnnData object with n_obs × n_vars = 840677 × 978\n",
       "    obs: 'cell_id', 'det_plate', 'det_well', 'lincs_phase', 'pert_dose', 'pert_dose_unit', 'pert_id', 'pert_iname', 'pert_mfc_id', 'pert_time', 'pert_time_unit', 'pert_type', 'rna_plate', 'rna_well', 'condition', 'cell_type', 'dose_val', 'cov_drug_dose_name', 'control', 'split', 'canonical_smiles', 'split1'\n",
       "    var: 'pr_gene_title', 'pr_is_lm', 'pr_is_bing'\n",
       "    uns: 'cydata_pull', 'rank_genes_groups_cov'"
      ]
     },
     "metadata": {},
     "execution_count": 23
    }
   ],
   "metadata": {}
  },
  {
   "cell_type": "markdown",
   "source": [
    "### Loading the result for `adata_out`"
   ],
   "metadata": {}
  },
  {
   "cell_type": "code",
   "execution_count": 24,
   "source": [
    "adata = sc.read(adata_out)"
   ],
   "outputs": [],
   "metadata": {}
  },
  {
   "cell_type": "markdown",
   "source": [
    "### Check that `adata.uns[rank_genes_groups_cov]` has all entries in `adata.obs.cov_drug_dose_name` as keys"
   ],
   "metadata": {}
  },
  {
   "cell_type": "code",
   "execution_count": 26,
   "source": [
    "for i, k in enumerate(adata.obs.cov_drug_dose_name.unique()):\n",
    "    try: \n",
    "        adata.uns['rank_genes_groups_cov'][k]\n",
    "    except: \n",
    "        print(f\"{i}: {k}\") if 'DMSO' not in k else None"
   ],
   "outputs": [],
   "metadata": {}
  },
  {
   "cell_type": "code",
   "execution_count": null,
   "source": [],
   "outputs": [],
   "metadata": {}
  }
 ],
 "metadata": {
  "kernelspec": {
   "name": "python3",
   "display_name": "Python 3.8.8 64-bit ('py38': conda)"
  },
  "language_info": {
   "codemirror_mode": {
    "name": "ipython",
    "version": 3
   },
   "file_extension": ".py",
   "mimetype": "text/x-python",
   "name": "python",
   "nbconvert_exporter": "python",
   "pygments_lexer": "ipython3",
   "version": "3.8.8"
  },
  "interpreter": {
   "hash": "6ea99325af0b09b2c098ddbe7d13703f3e2b6f04181042d146addb2812ce9602"
  }
 },
 "nbformat": 4,
 "nbformat_minor": 5
}