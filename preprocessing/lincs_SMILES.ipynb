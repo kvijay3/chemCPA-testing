{
 "cells": [
  {
   "cell_type": "markdown",
   "id": "c45d57e2-bbfc-4b75-ab78-a933dc12464b",
   "metadata": {},
   "source": [
    "**Requires**\n",
    "\n",
    "**Output**\n",
    "\n",
    "## Imports"
   ]
  },
  {
   "cell_type": "code",
   "execution_count": 1,
   "id": "9ec76d6e",
   "metadata": {},
   "outputs": [
    {
     "name": "stdout",
     "output_type": "stream",
     "text": [
      "scanpy==1.9.0.dev41+g58f4904c anndata==0.7.6 umap==0.5.1 numpy==1.19.2 scipy==1.6.2 pandas==1.2.4 scikit-learn==0.24.2 statsmodels==0.12.2 python-igraph==0.9.1 louvain==0.7.0 pynndescent==0.5.2\n"
     ]
    }
   ],
   "source": [
    "import scanpy as sc\n",
    "import matplotlib.pyplot as plt\n",
    "import numpy as np \n",
    "import pandas as pd\n",
    "\n",
    "from compert.paths import DATA_DIR, PROJECT_DIR\n",
    "\n",
    "sc.set_figure_params(dpi=80, frameon=False)\n",
    "sc.logging.print_header()"
   ]
  },
  {
   "cell_type": "code",
   "execution_count": 2,
   "id": "ed549136",
   "metadata": {},
   "outputs": [],
   "source": [
    "%load_ext autoreload\n",
    "%autoreload 2"
   ]
  },
  {
   "cell_type": "markdown",
   "id": "cffabb10",
   "metadata": {},
   "source": [
    "### Loading LINCS and reference data"
   ]
  },
  {
   "cell_type": "code",
   "execution_count": 3,
   "id": "62696a78",
   "metadata": {},
   "outputs": [],
   "source": [
    "full = True\n",
    "load_adata = True \n",
    "\n",
    "if full:\n",
    "    adata_in = DATA_DIR / 'lincs_full_pp.h5ad'\n",
    "    adata_out =  PROJECT_DIR / 'datasets' / 'lincs_full_smiles.h5ad' \n",
    "else: \n",
    "    adata_in = DATA_DIR / 'lincs_pp.h5ad'\n",
    "    adata_out = PROJECT_DIR / 'datasets' / 'lincs_smiles.h5ad'  \n",
    "\n",
    "    \n",
    "adata = sc.read(adata_in) if load_adata else None"
   ]
  },
  {
   "cell_type": "markdown",
   "id": "a5668114",
   "metadata": {},
   "source": [
    "Checking number of drugs for LINCS"
   ]
  },
  {
   "cell_type": "code",
   "execution_count": 4,
   "id": "32a9060f",
   "metadata": {},
   "outputs": [
    {
     "name": "stdout",
     "output_type": "stream",
     "text": [
      "# of unique perturbations: 18743\n"
     ]
    }
   ],
   "source": [
    "pert_id_unique = pd.Series(np.unique(adata.obs.pert_id))\n",
    "print(f\"# of unique perturbations: {len(pert_id_unique)}\")"
   ]
  },
  {
   "cell_type": "markdown",
   "id": "7e9d475f",
   "metadata": {},
   "source": [
    "Loading reference dataframe that contains SMILES \n",
    "restricting to `'pert_id'` and `'canonical_smiles'`"
   ]
  },
  {
   "cell_type": "code",
   "execution_count": 5,
   "id": "b21dc82f",
   "metadata": {},
   "outputs": [
    {
     "data": {
      "text/plain": [
       "-666                                                                                                                                                             63\n",
       "restricted                                                                                                                                                       14\n",
       "COc1ccc(C[C@H](C)NC[C@@H](O)c2ccc(O)c(NC=O)c2)cc1                                                                                                                 2\n",
       "CO[C@H]1\\C=C\\O[C@@]2(C)Oc3c(C2=O)c2c(O)c(\\C=N\\N4CCN(C)CC4)c(NC(=O)\\C(C)=C/C=C/[C@H](C)[C@H](O)[C@@H](C)[C@@H](O)[C@@H](C)[C@H](OC(C)=O)[C@@H]1C)c(O)c2c(O)c3C     2\n",
       "CCOC(=O)C1=C(NC(=C(C1C2=CC=CC=C2Cl)C(=O)OC)C)COCCN                                                                                                                2\n",
       "                                                                                                                                                                 ..\n",
       "COc1cccc(CNC(=O)c2cc3CN([C@H](CCO)c3c(n2)-c2cccc(\\C=C\\C)c2)[S@](=O)C(C)(C)C)c1                                                                                    1\n",
       "CS(=O)(=O)c1ccc(cc1)C1=C(C(=O)OC1)c1ccccc1                                                                                                                        1\n",
       "COc1cccc(NC(=O)N(C)C[C@H]2OCc3ccccc3-c4c(C(=O)N(C[C@H]2C)[C@@H](C)CO)n(C)c5ccccc45)c1                                                                             1\n",
       "OC[C@H]1O[C@@H](CCn2cc(nn2)-c2ccccc2F)CC[C@H]1NC(=O)c1ccc2OCOc2c1                                                                                                 1\n",
       "CO[C@H]1CN(C)C(=O)c2ccc(NC(=O)C3CC3)cc2OC[C@H](C)N(Cc2cc(F)ccc2F)C[C@H]1C                                                                                         1\n",
       "Name: canonical_smiles, Length: 17770, dtype: int64"
      ]
     },
     "execution_count": 5,
     "metadata": {},
     "output_type": "execute_result"
    }
   ],
   "source": [
    "reference_df = pd.read_csv(DATA_DIR /'GSE92742_Broad_LINCS_pert_info.txt', delimiter = \"\\t\")\n",
    "reference_df = reference_df.loc[reference_df.pert_id.isin(pert_id_unique), ['pert_id', 'canonical_smiles']]\n",
    "reference_df.canonical_smiles.value_counts()"
   ]
  },
  {
   "cell_type": "code",
   "execution_count": 6,
   "id": "af89b017",
   "metadata": {},
   "outputs": [
    {
     "name": "stdout",
     "output_type": "stream",
     "text": [
      "From 18743 total drugs, 890 were not part of the reference dataframe.\n"
     ]
    }
   ],
   "source": [
    "cond = ~pert_id_unique.isin(reference_df.pert_id)\n",
    "print(f\"From {len(pert_id_unique)} total drugs, {cond.sum()} were not part of the reference dataframe.\")"
   ]
  },
  {
   "cell_type": "markdown",
   "id": "5e902563",
   "metadata": {},
   "source": [
    "Adding `'canoncical_smiles'` column to `adata.obs` via `pd.merge`"
   ]
  },
  {
   "cell_type": "code",
   "execution_count": 7,
   "id": "af46b57e",
   "metadata": {},
   "outputs": [],
   "source": [
    "adata.obs = adata.obs.reset_index().merge(reference_df, how=\"left\").set_index('index')"
   ]
  },
  {
   "cell_type": "markdown",
   "id": "522909ba",
   "metadata": {},
   "source": [
    "Removing invalid SMILES strings "
   ]
  },
  {
   "cell_type": "code",
   "execution_count": 8,
   "id": "90662571-a7c4-46ce-a233-2b126c693d6c",
   "metadata": {},
   "outputs": [
    {
     "data": {
      "text/plain": [
       "index\n",
       "REP.A001_A375_24H_X1_B22:A03-2             DMSO\n",
       "REP.A001_A375_24H_X1_B22:A04-2             DMSO\n",
       "REP.A001_A375_24H_X1_B22:A05-2             DMSO\n",
       "REP.A001_A375_24H_X1_B22:A06-2             DMSO\n",
       "REP.A001_A375_24H_X1_B22:A07-2    BRD-K25114078\n",
       "                                      ...      \n",
       "PCLB003_PC3_24H_X3_B13:P20-1      BRD-A75409952\n",
       "PCLB003_PC3_24H_X3_B13:P21-1      BRD-A75409952\n",
       "PCLB003_PC3_24H_X3_B13:P22-1      BRD-A75409952\n",
       "PCLB003_PC3_24H_X3_B13:P23-1      BRD-A75409952\n",
       "PCLB003_PC3_24H_X3_B13:P24-1      BRD-A75409952\n",
       "Name: pert_id, Length: 1023036, dtype: object"
      ]
     },
     "execution_count": 8,
     "metadata": {},
     "output_type": "execute_result"
    }
   ],
   "source": [
    "adata.obs.pert_id"
   ]
  },
  {
   "cell_type": "code",
   "execution_count": 9,
   "id": "dbba4b46-adf1-42d1-a630-b75da49fc70a",
   "metadata": {},
   "outputs": [
    {
     "data": {
      "text/html": [
       "<div>\n",
       "<style scoped>\n",
       "    .dataframe tbody tr th:only-of-type {\n",
       "        vertical-align: middle;\n",
       "    }\n",
       "\n",
       "    .dataframe tbody tr th {\n",
       "        vertical-align: top;\n",
       "    }\n",
       "\n",
       "    .dataframe thead th {\n",
       "        text-align: right;\n",
       "    }\n",
       "</style>\n",
       "<table border=\"1\" class=\"dataframe\">\n",
       "  <thead>\n",
       "    <tr style=\"text-align: right;\">\n",
       "      <th></th>\n",
       "      <th>pert_id</th>\n",
       "      <th>canonical_smiles</th>\n",
       "    </tr>\n",
       "  </thead>\n",
       "  <tbody>\n",
       "    <tr>\n",
       "      <th>98</th>\n",
       "      <td>BRD-A00100033</td>\n",
       "      <td>CC1CS(=O)(=O)CCN1N=Cc1ccc(o1)[N+]([O-])=O</td>\n",
       "    </tr>\n",
       "    <tr>\n",
       "      <th>99</th>\n",
       "      <td>BRD-A00150179</td>\n",
       "      <td>NC(Cc1c[nH]c2cccc(O)c12)C(O)=O</td>\n",
       "    </tr>\n",
       "    <tr>\n",
       "      <th>100</th>\n",
       "      <td>BRD-A00267231</td>\n",
       "      <td>CCCCC#Cc1nc(NC)c2ncn(C3OC(CO)C(O)C3O)c2n1</td>\n",
       "    </tr>\n",
       "    <tr>\n",
       "      <th>101</th>\n",
       "      <td>BRD-A00420644</td>\n",
       "      <td>CCN1C2C(C(=NC2Nc3ccccc13)OC)c4ccccc4</td>\n",
       "    </tr>\n",
       "    <tr>\n",
       "      <th>102</th>\n",
       "      <td>BRD-A00474148</td>\n",
       "      <td>Oc1ccc(cc1)N1CCN(CC1)[S+]([O-])(=O)c1ccc2NC(=O...</td>\n",
       "    </tr>\n",
       "    <tr>\n",
       "      <th>...</th>\n",
       "      <td>...</td>\n",
       "      <td>...</td>\n",
       "    </tr>\n",
       "    <tr>\n",
       "      <th>26389</th>\n",
       "      <td>CMAP-PRISM-TP7</td>\n",
       "      <td>-666</td>\n",
       "    </tr>\n",
       "    <tr>\n",
       "      <th>26401</th>\n",
       "      <td>CMAP-T2DTUNICAMYCIN</td>\n",
       "      <td>-666</td>\n",
       "    </tr>\n",
       "    <tr>\n",
       "      <th>30250</th>\n",
       "      <td>DMSO</td>\n",
       "      <td>CS(=O)C</td>\n",
       "    </tr>\n",
       "    <tr>\n",
       "      <th>30365</th>\n",
       "      <td>H2O</td>\n",
       "      <td>-666</td>\n",
       "    </tr>\n",
       "    <tr>\n",
       "      <th>30471</th>\n",
       "      <td>PBS</td>\n",
       "      <td>-666</td>\n",
       "    </tr>\n",
       "  </tbody>\n",
       "</table>\n",
       "<p>17853 rows × 2 columns</p>\n",
       "</div>"
      ],
      "text/plain": [
       "                   pert_id                                   canonical_smiles\n",
       "98           BRD-A00100033          CC1CS(=O)(=O)CCN1N=Cc1ccc(o1)[N+]([O-])=O\n",
       "99           BRD-A00150179                     NC(Cc1c[nH]c2cccc(O)c12)C(O)=O\n",
       "100          BRD-A00267231          CCCCC#Cc1nc(NC)c2ncn(C3OC(CO)C(O)C3O)c2n1\n",
       "101          BRD-A00420644               CCN1C2C(C(=NC2Nc3ccccc13)OC)c4ccccc4\n",
       "102          BRD-A00474148  Oc1ccc(cc1)N1CCN(CC1)[S+]([O-])(=O)c1ccc2NC(=O...\n",
       "...                    ...                                                ...\n",
       "26389       CMAP-PRISM-TP7                                               -666\n",
       "26401  CMAP-T2DTUNICAMYCIN                                               -666\n",
       "30250                 DMSO                                            CS(=O)C\n",
       "30365                  H2O                                               -666\n",
       "30471                  PBS                                               -666\n",
       "\n",
       "[17853 rows x 2 columns]"
      ]
     },
     "execution_count": 9,
     "metadata": {},
     "output_type": "execute_result"
    }
   ],
   "source": [
    "reference_df"
   ]
  },
  {
   "cell_type": "code",
   "execution_count": 10,
   "id": "bf671352",
   "metadata": {},
   "outputs": [
    {
     "name": "stdout",
     "output_type": "stream",
     "text": [
      "Among 1023036 observations, 13.66% (139764) have an invalid SMILES string\n"
     ]
    }
   ],
   "source": [
    "adata.obs.loc[:, 'canonical_smiles'] = adata.obs.canonical_smiles.astype('str')\n",
    "invalid_smiles = adata.obs.canonical_smiles.isin(['-666', 'restricted', 'nan'])\n",
    "print(f'Among {len(adata)} observations, {100*invalid_smiles.sum()/len(adata):.2f}% ({invalid_smiles.sum()}) have an invalid SMILES string')\n",
    "adata = adata[~invalid_smiles]"
   ]
  },
  {
   "cell_type": "markdown",
   "id": "414ffd2c",
   "metadata": {},
   "source": [
    "Remove invalid `'pert_dose'` value: `-666`"
   ]
  },
  {
   "cell_type": "code",
   "execution_count": 11,
   "id": "de7b41c1",
   "metadata": {},
   "outputs": [
    {
     "name": "stdout",
     "output_type": "stream",
     "text": [
      "A total of 42592 observations have invalid dose values\n"
     ]
    }
   ],
   "source": [
    "cond = adata.obs.pert_dose.isin([-666])\n",
    "adata = adata[~cond]\n",
    "print(f\"A total of {cond.sum()} observations have invalid dose values\")"
   ]
  },
  {
   "cell_type": "code",
   "execution_count": 12,
   "id": "ec9936f6",
   "metadata": {},
   "outputs": [
    {
     "name": "stdout",
     "output_type": "stream",
     "text": [
      "A total of 3 observation belong to drugs which do not have enough replicates\n"
     ]
    }
   ],
   "source": [
    "drugs_validation = adata.obs.canonical_smiles.value_counts() < 6\n",
    "valid_drugs = drugs_validation.index[~drugs_validation]\n",
    "cond = adata.obs.canonical_smiles.isin(valid_drugs)\n",
    "print(f\"A total of {(~cond).sum()} observation belong to drugs which do not have enough replicates\")\n",
    "adata = adata[cond]"
   ]
  },
  {
   "cell_type": "markdown",
   "id": "9dcfc0cf",
   "metadata": {},
   "source": [
    "Checking that SMILES are valid according to `rdkit` "
   ]
  },
  {
   "cell_type": "code",
   "execution_count": 13,
   "id": "5dddf7db",
   "metadata": {},
   "outputs": [
    {
     "data": {
      "text/plain": [
       "View of AnnData object with n_obs × n_vars = 840677 × 978\n",
       "    obs: 'cell_id', 'det_plate', 'det_well', 'lincs_phase', 'pert_dose', 'pert_dose_unit', 'pert_id', 'pert_iname', 'pert_mfc_id', 'pert_time', 'pert_time_unit', 'pert_type', 'rna_plate', 'rna_well', 'condition', 'cell_type', 'dose_val', 'cov_drug_dose_name', 'control', 'split', 'canonical_smiles'\n",
       "    var: 'pr_gene_title', 'pr_is_lm', 'pr_is_bing'\n",
       "    uns: 'cydata_pull', 'rank_genes_groups_cov'"
      ]
     },
     "execution_count": 13,
     "metadata": {},
     "output_type": "execute_result"
    }
   ],
   "source": [
    "from rdkit import Chem\n",
    "\n",
    "def check_smiles(smiles):\n",
    "    m = Chem.MolFromSmiles(smiles,sanitize=False)\n",
    "    if m is None:\n",
    "        print('invalid SMILES')\n",
    "        return False\n",
    "    else:\n",
    "        try:\n",
    "            Chem.SanitizeMol(m)\n",
    "        except:\n",
    "            print('invalid chemistry')\n",
    "            return False\n",
    "    return True\n",
    "\n",
    "def remove_invalid_smiles(dataframe, smiles_key: str = 'SMILES', return_condition: bool = False):\n",
    "    unique_drugs = pd.Series(np.unique(dataframe[smiles_key]))\n",
    "    valid_drugs = unique_drugs.apply(check_smiles)\n",
    "    print(f\"A total of {(~valid_drugs).sum()} have invalid SMILES strings\")\n",
    "    _validation_map = dict(zip(unique_drugs, valid_drugs))\n",
    "    cond = dataframe[smiles_key].apply(lambda x: _validation_map[x])\n",
    "    if return_condition: \n",
    "        return cond\n",
    "    dataframe = dataframe[cond].copy()\n",
    "    return dataframe\n",
    "\n",
    "adata"
   ]
  },
  {
   "cell_type": "code",
   "execution_count": 14,
   "id": "d0eebfcf",
   "metadata": {},
   "outputs": [
    {
     "name": "stdout",
     "output_type": "stream",
     "text": [
      "A total of 0 have invalid SMILES strings\n"
     ]
    }
   ],
   "source": [
    "cond = remove_invalid_smiles(adata.obs, smiles_key='canonical_smiles', return_condition=True)\n",
    "adata = adata[cond]"
   ]
  },
  {
   "cell_type": "markdown",
   "id": "8a0913c7",
   "metadata": {},
   "source": [
    "### Add additional drugbank info to `adata.obs`"
   ]
  },
  {
   "cell_type": "code",
   "execution_count": 15,
   "id": "fee11b5a",
   "metadata": {},
   "outputs": [
    {
     "name": "stderr",
     "output_type": "stream",
     "text": [
      "/home/icb/leon.hetzel/miniconda3/envs/py38/lib/python3.8/site-packages/IPython/core/interactiveshell.py:3165: DtypeWarning: Columns (54,62) have mixed types.Specify dtype option on import or set low_memory=False.\n",
      "  has_raised = await self.run_ast_nodes(code_ast.body, cell_name,\n"
     ]
    }
   ],
   "source": [
    "from os.path import exists\n",
    "\n",
    "drugbank_path = DATA_DIR / 'drug_bank'/ 'drugbank_all.csv'\n",
    "if exists(drugbank_path): \n",
    "    drugbank_df = pd.read_csv(drugbank_path)\n",
    "else: \n",
    "    print(f'Invalid path: {drugbank_path}')"
   ]
  },
  {
   "cell_type": "code",
   "execution_count": 16,
   "id": "359f5d79",
   "metadata": {},
   "outputs": [
    {
     "name": "stdout",
     "output_type": "stream",
     "text": [
      "From a total of 17767, 7.72% (1371) is also available in drugbank.\n"
     ]
    },
    {
     "name": "stderr",
     "output_type": "stream",
     "text": [
      "RDKit WARNING: [15:14:11] WARNING: not removing hydrogen atom without neighbors\n",
      "RDKit WARNING: [15:14:11] WARNING: not removing hydrogen atom without neighbors\n",
      "RDKit WARNING: [15:14:11] WARNING: not removing hydrogen atom without neighbors\n"
     ]
    }
   ],
   "source": [
    "from rdkit.Chem import CanonSmiles\n",
    "\n",
    "drugs_canonical = pd.Series(np.unique(adata.obs.canonical_smiles)).apply(CanonSmiles)\n",
    "db_canonical_smiles = drugbank_df.SMILES.apply(CanonSmiles)\n",
    "n_overlap = drugs_canonical.isin(db_canonical_smiles).sum()\n",
    "print(f'From a total of {len(drugs_canonical)}, {100*n_overlap/len(drugs_canonical):.2f}% ({n_overlap}) is also available in drugbank.')"
   ]
  },
  {
   "cell_type": "code",
   "execution_count": 17,
   "id": "9ee53d92",
   "metadata": {},
   "outputs": [
    {
     "data": {
      "text/plain": [
       "ATC_level_1                               \n",
       "an                                            393\n",
       "NERVOUS SYSTEM                                184\n",
       "CARDIOVASCULAR SYSTEM                         152\n",
       "ANTINEOPLASTIC AND IMMUNOMODULATING AGENTS     98\n",
       "ALIMENTARY TRACT AND METABOLISM                93\n",
       "ANTIINFECTIVES FOR SYSTEMIC USE                81\n",
       "RESPIRATORY SYSTEM                             78\n",
       "GENITO URINARY SYSTEM AND SEX HORMONES         60\n",
       "MUSCULO-SKELETAL SYSTEM                        58\n",
       "DERMATOLOGICALS                                51\n",
       "SENSORY ORGANS                                 47\n",
       "INSECTICIDES AND REPELLENTS                    29\n",
       "VARIOUS                                        21\n",
       "BLOOD AND BLOOD FORMING ORGANS                 17\n",
       "EXCL. SEX HORMONES AND INSULINS                 7\n",
       "dtype: int64"
      ]
     },
     "execution_count": 17,
     "metadata": {},
     "output_type": "execute_result"
    }
   ],
   "source": [
    "cond = db_canonical_smiles.isin(drugs_canonical)\n",
    "drugbank_df.loc[cond, ['ATC_level_1']].value_counts()"
   ]
  },
  {
   "cell_type": "markdown",
   "id": "7c9b067f",
   "metadata": {},
   "source": [
    "### Add `train`, `test`, `ood` split for full lincs dataset (if not already part in `adata.obs`)"
   ]
  },
  {
   "cell_type": "code",
   "execution_count": 18,
   "id": "95863255",
   "metadata": {},
   "outputs": [],
   "source": [
    "from sklearn.model_selection import train_test_split\n",
    "\n",
    "if 'split' not in list(adata.obs):\n",
    "    print(\"Addig 'split' to 'adata.obs'.\")\n",
    "    unique_drugs = np.unique(adata.obs.canonical_smiles)\n",
    "    drugs_train, drugs_tmp = train_test_split(unique_drugs, test_size=0.2)\n",
    "    drugs_val, drugs_test = train_test_split(drugs_tmp, test_size=0.5)\n",
    "\n",
    "    adata.obs['split'] = 'train'\n",
    "    adata.obs.loc[adata.obs.canonical_smiles.isin(drugs_val), 'split'] = 'test'\n",
    "    adata.obs.loc[adata.obs.canonical_smiles.isin(drugs_test), 'split'] = 'ood'"
   ]
  },
  {
   "cell_type": "markdown",
   "id": "78ff6d72",
   "metadata": {},
   "source": [
    "### Check that `.obs.split=='test'` has sufficient samples for `pert_id` and `cell_id`"
   ]
  },
  {
   "cell_type": "code",
   "execution_count": 19,
   "id": "c722736d",
   "metadata": {
    "scrolled": true
   },
   "outputs": [
    {
     "data": {
      "text/plain": [
       "train    699463\n",
       "test     133383\n",
       "ood        7831\n",
       "Name: split, dtype: int64"
      ]
     },
     "execution_count": 19,
     "metadata": {},
     "output_type": "execute_result"
    }
   ],
   "source": [
    "adata.obs.split.value_counts()"
   ]
  },
  {
   "cell_type": "code",
   "execution_count": 20,
   "id": "32c75e98",
   "metadata": {},
   "outputs": [
    {
     "data": {
      "text/plain": [
       "MCF7        18766\n",
       "VCAP        17841\n",
       "PC3         17414\n",
       "A375        11188\n",
       "HT29        10970\n",
       "            ...  \n",
       "HUES3          93\n",
       "SNUC5          89\n",
       "NCIH1694       86\n",
       "SKMEL28        77\n",
       "HS27A           9\n",
       "Name: cell_id, Length: 82, dtype: int64"
      ]
     },
     "execution_count": 20,
     "metadata": {},
     "output_type": "execute_result"
    }
   ],
   "source": [
    "cond_test = adata.obs.split.isin(['test'])\n",
    "adata.obs.loc[cond_test, 'cell_id'].value_counts()"
   ]
  },
  {
   "cell_type": "code",
   "execution_count": 21,
   "id": "c81c0887",
   "metadata": {},
   "outputs": [
    {
     "data": {
      "text/plain": [
       "BRD-K60230970    904\n",
       "BRD-K50691590    882\n",
       "BRD-K81418486    694\n",
       "DMSO             618\n",
       "BRD-A19500257    538\n",
       "                ... \n",
       "BRD-K79746073      1\n",
       "BRD-K01751906      1\n",
       "BRD-K10558099      1\n",
       "BRD-K29360016      1\n",
       "BRD-K23208702      1\n",
       "Name: pert_id, Length: 15649, dtype: int64"
      ]
     },
     "execution_count": 21,
     "metadata": {},
     "output_type": "execute_result"
    }
   ],
   "source": [
    "adata.obs.loc[cond_test, 'pert_id'].value_counts()"
   ]
  },
  {
   "cell_type": "code",
   "execution_count": 22,
   "id": "afae53ff",
   "metadata": {},
   "outputs": [
    {
     "name": "stdout",
     "output_type": "stream",
     "text": [
      "pert_id: 9257/15649 converted back to 'train' due to insufficient # of samples.\n",
      "cell_id: 1/82 converted back to 'train' due to insufficient # of samples.\n"
     ]
    }
   ],
   "source": [
    "pert_count_treshold = 5\n",
    "cov_count_treshold = 20\n",
    "\n",
    "pert_id_neg = adata.obs.loc[cond_test, 'pert_id'].value_counts() < pert_count_treshold\n",
    "print(f\"pert_id: {pert_id_neg.sum()}/{len(pert_id_neg)} converted back to 'train' due to insufficient # of samples.\")\n",
    "\n",
    "cov_id_neg = adata.obs.loc[cond_test, 'cell_id'].value_counts() < cov_count_treshold\n",
    "print(f\"cell_id: {cov_id_neg.sum()}/{len(cov_id_neg)} converted back to 'train' due to insufficient # of samples.\")\n",
    "\n",
    "cond = cond_test & adata.obs.pert_id.isin(pert_id_neg.index[pert_id_neg])\n",
    "cond |= cond_test & adata.obs.cell_id.isin(cov_id_neg.index[cov_id_neg])"
   ]
  },
  {
   "cell_type": "code",
   "execution_count": 24,
   "id": "40e07beb",
   "metadata": {},
   "outputs": [
    {
     "name": "stdout",
     "output_type": "stream",
     "text": [
      "split['test']: 18885/840677 samples are converted back to 'train'.\n"
     ]
    }
   ],
   "source": [
    "adata.obs['split1'] = adata.obs.split.copy()\n",
    "adata.obs.loc[cond, 'split1'] = 'train'\n",
    "print(f\"split['test']: {cond.sum()}/{len(cond)} samples are converted back to 'train'.\")"
   ]
  },
  {
   "cell_type": "code",
   "execution_count": 25,
   "id": "c61c2bb5",
   "metadata": {},
   "outputs": [
    {
     "data": {
      "text/plain": [
       "train    718348\n",
       "test     114498\n",
       "ood        7831\n",
       "Name: split1, dtype: int64"
      ]
     },
     "execution_count": 25,
     "metadata": {},
     "output_type": "execute_result"
    }
   ],
   "source": [
    "adata.obs.split1.value_counts()"
   ]
  },
  {
   "cell_type": "markdown",
   "id": "78183892-2ca1-438d-81d8-755ae4594786",
   "metadata": {},
   "source": [
    "### Add random split"
   ]
  },
  {
   "cell_type": "code",
   "execution_count": 26,
   "id": "1a98bfd9-5b73-4ead-a3b8-aa322aa94d58",
   "metadata": {},
   "outputs": [
    {
     "data": {
      "text/plain": [
       "Index(['REP.A001_A375_24H_X1_B22:B13-2', 'REP.A001_A375_24H_X1_B22:B14-2',\n",
       "       'REP.A001_A375_24H_X1_B22:B15-2', 'REP.A001_A375_24H_X1_B22:B16-2',\n",
       "       'REP.A001_A375_24H_X1_B22:B17-2', 'REP.A001_A375_24H_X1_B22:B18-2',\n",
       "       'REP.A001_A375_24H_X1_B22:B19-2', 'REP.A001_A375_24H_X1_B22:B20-2',\n",
       "       'REP.A001_A375_24H_X1_B22:B21-2', 'REP.A001_A375_24H_X1_B22:B22-2',\n",
       "       ...\n",
       "       'PCLB003_PC3_24H_X3_B13:P15-1', 'PCLB003_PC3_24H_X3_B13:P16-1',\n",
       "       'PCLB003_PC3_24H_X3_B13:P17-1', 'PCLB003_PC3_24H_X3_B13:P18-1',\n",
       "       'PCLB003_PC3_24H_X3_B13:P19-1', 'PCLB003_PC3_24H_X3_B13:P20-1',\n",
       "       'PCLB003_PC3_24H_X3_B13:P21-1', 'PCLB003_PC3_24H_X3_B13:P22-1',\n",
       "       'PCLB003_PC3_24H_X3_B13:P23-1', 'PCLB003_PC3_24H_X3_B13:P24-1'],\n",
       "      dtype='object', name='index', length=840677)"
      ]
     },
     "execution_count": 26,
     "metadata": {},
     "output_type": "execute_result"
    }
   ],
   "source": [
    "adata.obs_names"
   ]
  },
  {
   "cell_type": "code",
   "execution_count": 27,
   "id": "34d1a18d-4bf8-4ca9-8d15-941f133dd0bd",
   "metadata": {},
   "outputs": [],
   "source": [
    "train_obs, val_test_obs = train_test_split(adata.obs_names, test_size=0.15)\n",
    "val_obs, test_obs = train_test_split(val_test_obs, test_size=0.5)"
   ]
  },
  {
   "cell_type": "code",
   "execution_count": 28,
   "id": "78043233-07ad-4f63-ba04-71bae3a1b651",
   "metadata": {},
   "outputs": [
    {
     "data": {
      "text/plain": [
       "train    714575\n",
       "test      63051\n",
       "ood       63051\n",
       "Name: random_split, dtype: int64"
      ]
     },
     "execution_count": 28,
     "metadata": {},
     "output_type": "execute_result"
    }
   ],
   "source": [
    "adata.obs['random_split'] = ''\n",
    "adata.obs.loc[train_obs, 'random_split'] = 'train'\n",
    "adata.obs.loc[val_obs, 'random_split'] = 'test'\n",
    "adata.obs.loc[test_obs, 'random_split'] = 'ood'\n",
    "\n",
    "\n",
    "adata.obs['random_split'].value_counts() "
   ]
  },
  {
   "cell_type": "markdown",
   "id": "d2f7bde3-b929-4424-b2c0-7ba59240984b",
   "metadata": {},
   "source": [
    "Check that perturbations occur in train split (no explicit ood!)"
   ]
  },
  {
   "cell_type": "code",
   "execution_count": 29,
   "id": "242ded38-28f0-4c33-a6b9-87e0e25c8513",
   "metadata": {},
   "outputs": [
    {
     "data": {
      "text/plain": [
       "17775"
      ]
     },
     "execution_count": 29,
     "metadata": {},
     "output_type": "execute_result"
    }
   ],
   "source": [
    "len(adata.obs.loc[adata.obs.random_split == 'train', 'pert_id'].unique()) "
   ]
  },
  {
   "cell_type": "code",
   "execution_count": 30,
   "id": "7a9ecf12-6a7b-4fec-845c-080c0195b096",
   "metadata": {},
   "outputs": [
    {
     "data": {
      "text/plain": [
       "17775"
      ]
     },
     "execution_count": 30,
     "metadata": {},
     "output_type": "execute_result"
    }
   ],
   "source": [
    "len(adata.obs.pert_id.unique())"
   ]
  },
  {
   "cell_type": "markdown",
   "id": "00686c82-c4aa-4d4c-924a-d15978885303",
   "metadata": {},
   "source": [
    "## Safe adata"
   ]
  },
  {
   "cell_type": "code",
   "execution_count": 31,
   "id": "095e119c",
   "metadata": {},
   "outputs": [
    {
     "name": "stderr",
     "output_type": "stream",
     "text": [
      "... storing 'pert_id' as categorical\n",
      "... storing 'canonical_smiles' as categorical\n",
      "... storing 'random_split' as categorical\n"
     ]
    },
    {
     "data": {
      "text/plain": [
       "AnnData object with n_obs × n_vars = 840677 × 978\n",
       "    obs: 'cell_id', 'det_plate', 'det_well', 'lincs_phase', 'pert_dose', 'pert_dose_unit', 'pert_id', 'pert_iname', 'pert_mfc_id', 'pert_time', 'pert_time_unit', 'pert_type', 'rna_plate', 'rna_well', 'condition', 'cell_type', 'dose_val', 'cov_drug_dose_name', 'control', 'split', 'canonical_smiles', 'split1', 'random_split'\n",
       "    var: 'pr_gene_title', 'pr_is_lm', 'pr_is_bing'\n",
       "    uns: 'cydata_pull', 'rank_genes_groups_cov'"
      ]
     },
     "execution_count": 31,
     "metadata": {},
     "output_type": "execute_result"
    }
   ],
   "source": [
    "adata.write(adata_out)\n",
    "adata"
   ]
  },
  {
   "cell_type": "code",
   "execution_count": 32,
   "id": "f0a38b13",
   "metadata": {},
   "outputs": [],
   "source": [
    "# adata.obs['drug_dose_name']"
   ]
  },
  {
   "cell_type": "markdown",
   "id": "6a17866a",
   "metadata": {},
   "source": [
    "### Loading the result for `adata_out`"
   ]
  },
  {
   "cell_type": "code",
   "execution_count": 33,
   "id": "3cc86c78",
   "metadata": {},
   "outputs": [],
   "source": [
    "adata = sc.read(adata_out)"
   ]
  },
  {
   "cell_type": "markdown",
   "id": "3591acc0",
   "metadata": {},
   "source": [
    "**Additional**: Check that `adata.uns[rank_genes_groups_cov]` has all entries in `adata.obs.cov_drug_dose_name` as keys"
   ]
  },
  {
   "cell_type": "code",
   "execution_count": 34,
   "id": "13c39c39",
   "metadata": {},
   "outputs": [],
   "source": [
    "for i, k in enumerate(adata.obs.cov_drug_dose_name.unique()):\n",
    "    try: \n",
    "        adata.uns['rank_genes_groups_cov'][k]\n",
    "    except: \n",
    "        print(f\"{i}: {k}\") if 'DMSO' not in k else None"
   ]
  },
  {
   "cell_type": "code",
   "execution_count": null,
   "id": "f2f4bee2",
   "metadata": {},
   "outputs": [],
   "source": []
  }
 ],
 "metadata": {
  "interpreter": {
   "hash": "ad25c9354f8cefdf5a943c25e67813a21d2807e3af4d6d0915e47390a83b57ce"
  },
  "kernelspec": {
   "display_name": "Python 3",
   "language": "python",
   "name": "python3"
  },
  "language_info": {
   "codemirror_mode": {
    "name": "ipython",
    "version": 3
   },
   "file_extension": ".py",
   "mimetype": "text/x-python",
   "name": "python",
   "nbconvert_exporter": "python",
   "pygments_lexer": "ipython3",
   "version": "3.8.8"
  }
 },
 "nbformat": 4,
 "nbformat_minor": 5
}
