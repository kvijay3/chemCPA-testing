{
 "cells": [
  {
   "cell_type": "code",
   "execution_count": 1,
   "source": [
    "import pandas as pd\n",
    "import scanpy as sc\n",
    "sc.set_figure_params(dpi=100, frameon=False)\n",
    "sc.logging.print_header()"
   ],
   "outputs": [
    {
     "output_type": "stream",
     "name": "stdout",
     "text": [
      "scanpy==1.8.1 anndata==0.7.6 umap==0.5.1 numpy==1.19.2 scipy==1.6.2 pandas==1.2.4 scikit-learn==0.24.2 statsmodels==0.12.2 python-igraph==0.9.1 louvain==0.7.0 pynndescent==0.5.2\n"
     ]
    }
   ],
   "metadata": {}
  },
  {
   "cell_type": "code",
   "execution_count": 2,
   "source": [
    "import os\n",
    "os.chdir('./../')\n",
    "from compert.helper import rank_genes_groups_by_cov"
   ],
   "outputs": [
    {
     "output_type": "stream",
     "name": "stderr",
     "text": [
      "Using backend: pytorch\n"
     ]
    }
   ],
   "metadata": {}
  },
  {
   "cell_type": "code",
   "execution_count": 3,
   "source": [
    "import warnings\n",
    "warnings.filterwarnings('ignore')   "
   ],
   "outputs": [],
   "metadata": {}
  },
  {
   "cell_type": "code",
   "execution_count": 4,
   "source": [
    "full = True \n",
    "load_adata = True \n",
    "adata_in = 'datasets/lincs_full.h5ad' if full else 'datasets/lincs.h5ad'\n",
    "adata = sc.read(adata_in) if load_adata else None\n",
    "\n",
    "adata_out = ''.join(adata_in.split('.')[:-1]) + '_pp.h5ad'\n",
    "adata_out"
   ],
   "outputs": [
    {
     "output_type": "execute_result",
     "data": {
      "text/plain": [
       "'datasets/lincs_full_pp.h5ad'"
      ]
     },
     "metadata": {},
     "execution_count": 4
    }
   ],
   "metadata": {}
  },
  {
   "cell_type": "code",
   "execution_count": 5,
   "source": [
    "adata.obs['condition'] = adata.obs['pert_iname']\n",
    "adata.obs['condition'] = adata.obs['condition'].str.replace('/','|')\n",
    "\n",
    "adata.obs['cell_type'] = adata.obs['cell_id']\n",
    "adata.obs['dose_val'] = adata.obs['pert_dose']\n",
    "adata.obs['cov_drug_dose_name'] = adata.obs.cell_type.astype(str) + '_' + adata.obs.condition.astype(str) + '_' + adata.obs.dose_val.astype(str)\n",
    "adata.obs['control'] = (adata.obs['condition'] == 'DMSO').astype(int)\n",
    "\n",
    "# adata.obs['cov_drug_dose_name'] = adata.obs['cov_drug_dose_name'].str.replace('/','|')"
   ],
   "outputs": [],
   "metadata": {}
  },
  {
   "cell_type": "code",
   "execution_count": 6,
   "source": [
    "pd.crosstab(adata.obs.condition, adata.obs.cell_type)"
   ],
   "outputs": [
    {
     "output_type": "execute_result",
     "data": {
      "text/plain": [
       "cell_type                                         A375  A549  A673  AGS  ASC  \\\n",
       "condition                                                                      \n",
       "(+)-3-(1-propyl-piperidin-3-yl)-phenol               0     0     0    0    0   \n",
       "(+|-)-7-hydroxy-2-(N,N-di-n-propylamino)tetralin     0     0     0    0    0   \n",
       "1,2,3,4,5,6-hexabromocyclohexane                     5     5     0    0    3   \n",
       "1,2,3,4-tetrahydroisoquinoline                       0     0     0    0    0   \n",
       "1,2-dichlorobenzene                                  3     6     0    0    4   \n",
       "...                                                ...   ...   ...  ...  ...   \n",
       "zonisamide                                          23     6     0    0    0   \n",
       "zopiclone                                            0     0     0    0    0   \n",
       "zosuquidar                                          20     6     0    0    3   \n",
       "zoxazolamine                                         6     5     0    0    4   \n",
       "zuclopenthixol                                       3     6     0    0    4   \n",
       "\n",
       "cell_type                                         ASC.C  BT20  CD34  CL34  \\\n",
       "condition                                                                   \n",
       "(+)-3-(1-propyl-piperidin-3-yl)-phenol                0     0     0     0   \n",
       "(+|-)-7-hydroxy-2-(N,N-di-n-propylamino)tetralin      0     0     0     0   \n",
       "1,2,3,4,5,6-hexabromocyclohexane                      0     0     0     0   \n",
       "1,2,3,4-tetrahydroisoquinoline                        0     0     0     0   \n",
       "1,2-dichlorobenzene                                   0     0     0     0   \n",
       "...                                                 ...   ...   ...   ...   \n",
       "zonisamide                                            0     0     0     0   \n",
       "zopiclone                                             0     0     0     0   \n",
       "zosuquidar                                            0     0     0     0   \n",
       "zoxazolamine                                          0     0     0     0   \n",
       "zuclopenthixol                                        0     0     0     0   \n",
       "\n",
       "cell_type                                         CORL23  ...  SW620  SW948  \\\n",
       "condition                                                 ...                 \n",
       "(+)-3-(1-propyl-piperidin-3-yl)-phenol                 0  ...      0      0   \n",
       "(+|-)-7-hydroxy-2-(N,N-di-n-propylamino)tetralin       0  ...      0      0   \n",
       "1,2,3,4,5,6-hexabromocyclohexane                       0  ...      0      0   \n",
       "1,2,3,4-tetrahydroisoquinoline                         0  ...      0      0   \n",
       "1,2-dichlorobenzene                                    0  ...      0      0   \n",
       "...                                                  ...  ...    ...    ...   \n",
       "zonisamide                                             0  ...      0      0   \n",
       "zopiclone                                              0  ...      0      0   \n",
       "zosuquidar                                             0  ...      0      0   \n",
       "zoxazolamine                                           0  ...      0      0   \n",
       "zuclopenthixol                                         0  ...      0      0   \n",
       "\n",
       "cell_type                                         T3M10  THP1  TYKNU  U266  \\\n",
       "condition                                                                    \n",
       "(+)-3-(1-propyl-piperidin-3-yl)-phenol                0     0      0     0   \n",
       "(+|-)-7-hydroxy-2-(N,N-di-n-propylamino)tetralin      0     0      0     0   \n",
       "1,2,3,4,5,6-hexabromocyclohexane                      0     0      0     0   \n",
       "1,2,3,4-tetrahydroisoquinoline                        0     0      0     0   \n",
       "1,2-dichlorobenzene                                   0     0      0     0   \n",
       "...                                                 ...   ...    ...   ...   \n",
       "zonisamide                                            0     0      0     0   \n",
       "zopiclone                                             0     0      0     0   \n",
       "zosuquidar                                            0     0      0     0   \n",
       "zoxazolamine                                          0     0      0     0   \n",
       "zuclopenthixol                                        0     0      0     0   \n",
       "\n",
       "cell_type                                         U937  VCAP  WSUDLCL2  YAPC  \n",
       "condition                                                                     \n",
       "(+)-3-(1-propyl-piperidin-3-yl)-phenol               0     0         0     0  \n",
       "(+|-)-7-hydroxy-2-(N,N-di-n-propylamino)tetralin     0     0         0     0  \n",
       "1,2,3,4,5,6-hexabromocyclohexane                     0     0         0     0  \n",
       "1,2,3,4-tetrahydroisoquinoline                       0     0         0     0  \n",
       "1,2-dichlorobenzene                                  0    12         0     0  \n",
       "...                                                ...   ...       ...   ...  \n",
       "zonisamide                                           0     9         0    18  \n",
       "zopiclone                                            0     0         0     0  \n",
       "zosuquidar                                           0    10         0    17  \n",
       "zoxazolamine                                         0    10         0     0  \n",
       "zuclopenthixol                                       0    12         0     0  \n",
       "\n",
       "[20551 rows x 83 columns]"
      ],
      "text/html": [
       "<div>\n",
       "<style scoped>\n",
       "    .dataframe tbody tr th:only-of-type {\n",
       "        vertical-align: middle;\n",
       "    }\n",
       "\n",
       "    .dataframe tbody tr th {\n",
       "        vertical-align: top;\n",
       "    }\n",
       "\n",
       "    .dataframe thead th {\n",
       "        text-align: right;\n",
       "    }\n",
       "</style>\n",
       "<table border=\"1\" class=\"dataframe\">\n",
       "  <thead>\n",
       "    <tr style=\"text-align: right;\">\n",
       "      <th>cell_type</th>\n",
       "      <th>A375</th>\n",
       "      <th>A549</th>\n",
       "      <th>A673</th>\n",
       "      <th>AGS</th>\n",
       "      <th>ASC</th>\n",
       "      <th>ASC.C</th>\n",
       "      <th>BT20</th>\n",
       "      <th>CD34</th>\n",
       "      <th>CL34</th>\n",
       "      <th>CORL23</th>\n",
       "      <th>...</th>\n",
       "      <th>SW620</th>\n",
       "      <th>SW948</th>\n",
       "      <th>T3M10</th>\n",
       "      <th>THP1</th>\n",
       "      <th>TYKNU</th>\n",
       "      <th>U266</th>\n",
       "      <th>U937</th>\n",
       "      <th>VCAP</th>\n",
       "      <th>WSUDLCL2</th>\n",
       "      <th>YAPC</th>\n",
       "    </tr>\n",
       "    <tr>\n",
       "      <th>condition</th>\n",
       "      <th></th>\n",
       "      <th></th>\n",
       "      <th></th>\n",
       "      <th></th>\n",
       "      <th></th>\n",
       "      <th></th>\n",
       "      <th></th>\n",
       "      <th></th>\n",
       "      <th></th>\n",
       "      <th></th>\n",
       "      <th></th>\n",
       "      <th></th>\n",
       "      <th></th>\n",
       "      <th></th>\n",
       "      <th></th>\n",
       "      <th></th>\n",
       "      <th></th>\n",
       "      <th></th>\n",
       "      <th></th>\n",
       "      <th></th>\n",
       "      <th></th>\n",
       "    </tr>\n",
       "  </thead>\n",
       "  <tbody>\n",
       "    <tr>\n",
       "      <th>(+)-3-(1-propyl-piperidin-3-yl)-phenol</th>\n",
       "      <td>0</td>\n",
       "      <td>0</td>\n",
       "      <td>0</td>\n",
       "      <td>0</td>\n",
       "      <td>0</td>\n",
       "      <td>0</td>\n",
       "      <td>0</td>\n",
       "      <td>0</td>\n",
       "      <td>0</td>\n",
       "      <td>0</td>\n",
       "      <td>...</td>\n",
       "      <td>0</td>\n",
       "      <td>0</td>\n",
       "      <td>0</td>\n",
       "      <td>0</td>\n",
       "      <td>0</td>\n",
       "      <td>0</td>\n",
       "      <td>0</td>\n",
       "      <td>0</td>\n",
       "      <td>0</td>\n",
       "      <td>0</td>\n",
       "    </tr>\n",
       "    <tr>\n",
       "      <th>(+|-)-7-hydroxy-2-(N,N-di-n-propylamino)tetralin</th>\n",
       "      <td>0</td>\n",
       "      <td>0</td>\n",
       "      <td>0</td>\n",
       "      <td>0</td>\n",
       "      <td>0</td>\n",
       "      <td>0</td>\n",
       "      <td>0</td>\n",
       "      <td>0</td>\n",
       "      <td>0</td>\n",
       "      <td>0</td>\n",
       "      <td>...</td>\n",
       "      <td>0</td>\n",
       "      <td>0</td>\n",
       "      <td>0</td>\n",
       "      <td>0</td>\n",
       "      <td>0</td>\n",
       "      <td>0</td>\n",
       "      <td>0</td>\n",
       "      <td>0</td>\n",
       "      <td>0</td>\n",
       "      <td>0</td>\n",
       "    </tr>\n",
       "    <tr>\n",
       "      <th>1,2,3,4,5,6-hexabromocyclohexane</th>\n",
       "      <td>5</td>\n",
       "      <td>5</td>\n",
       "      <td>0</td>\n",
       "      <td>0</td>\n",
       "      <td>3</td>\n",
       "      <td>0</td>\n",
       "      <td>0</td>\n",
       "      <td>0</td>\n",
       "      <td>0</td>\n",
       "      <td>0</td>\n",
       "      <td>...</td>\n",
       "      <td>0</td>\n",
       "      <td>0</td>\n",
       "      <td>0</td>\n",
       "      <td>0</td>\n",
       "      <td>0</td>\n",
       "      <td>0</td>\n",
       "      <td>0</td>\n",
       "      <td>0</td>\n",
       "      <td>0</td>\n",
       "      <td>0</td>\n",
       "    </tr>\n",
       "    <tr>\n",
       "      <th>1,2,3,4-tetrahydroisoquinoline</th>\n",
       "      <td>0</td>\n",
       "      <td>0</td>\n",
       "      <td>0</td>\n",
       "      <td>0</td>\n",
       "      <td>0</td>\n",
       "      <td>0</td>\n",
       "      <td>0</td>\n",
       "      <td>0</td>\n",
       "      <td>0</td>\n",
       "      <td>0</td>\n",
       "      <td>...</td>\n",
       "      <td>0</td>\n",
       "      <td>0</td>\n",
       "      <td>0</td>\n",
       "      <td>0</td>\n",
       "      <td>0</td>\n",
       "      <td>0</td>\n",
       "      <td>0</td>\n",
       "      <td>0</td>\n",
       "      <td>0</td>\n",
       "      <td>0</td>\n",
       "    </tr>\n",
       "    <tr>\n",
       "      <th>1,2-dichlorobenzene</th>\n",
       "      <td>3</td>\n",
       "      <td>6</td>\n",
       "      <td>0</td>\n",
       "      <td>0</td>\n",
       "      <td>4</td>\n",
       "      <td>0</td>\n",
       "      <td>0</td>\n",
       "      <td>0</td>\n",
       "      <td>0</td>\n",
       "      <td>0</td>\n",
       "      <td>...</td>\n",
       "      <td>0</td>\n",
       "      <td>0</td>\n",
       "      <td>0</td>\n",
       "      <td>0</td>\n",
       "      <td>0</td>\n",
       "      <td>0</td>\n",
       "      <td>0</td>\n",
       "      <td>12</td>\n",
       "      <td>0</td>\n",
       "      <td>0</td>\n",
       "    </tr>\n",
       "    <tr>\n",
       "      <th>...</th>\n",
       "      <td>...</td>\n",
       "      <td>...</td>\n",
       "      <td>...</td>\n",
       "      <td>...</td>\n",
       "      <td>...</td>\n",
       "      <td>...</td>\n",
       "      <td>...</td>\n",
       "      <td>...</td>\n",
       "      <td>...</td>\n",
       "      <td>...</td>\n",
       "      <td>...</td>\n",
       "      <td>...</td>\n",
       "      <td>...</td>\n",
       "      <td>...</td>\n",
       "      <td>...</td>\n",
       "      <td>...</td>\n",
       "      <td>...</td>\n",
       "      <td>...</td>\n",
       "      <td>...</td>\n",
       "      <td>...</td>\n",
       "      <td>...</td>\n",
       "    </tr>\n",
       "    <tr>\n",
       "      <th>zonisamide</th>\n",
       "      <td>23</td>\n",
       "      <td>6</td>\n",
       "      <td>0</td>\n",
       "      <td>0</td>\n",
       "      <td>0</td>\n",
       "      <td>0</td>\n",
       "      <td>0</td>\n",
       "      <td>0</td>\n",
       "      <td>0</td>\n",
       "      <td>0</td>\n",
       "      <td>...</td>\n",
       "      <td>0</td>\n",
       "      <td>0</td>\n",
       "      <td>0</td>\n",
       "      <td>0</td>\n",
       "      <td>0</td>\n",
       "      <td>0</td>\n",
       "      <td>0</td>\n",
       "      <td>9</td>\n",
       "      <td>0</td>\n",
       "      <td>18</td>\n",
       "    </tr>\n",
       "    <tr>\n",
       "      <th>zopiclone</th>\n",
       "      <td>0</td>\n",
       "      <td>0</td>\n",
       "      <td>0</td>\n",
       "      <td>0</td>\n",
       "      <td>0</td>\n",
       "      <td>0</td>\n",
       "      <td>0</td>\n",
       "      <td>0</td>\n",
       "      <td>0</td>\n",
       "      <td>0</td>\n",
       "      <td>...</td>\n",
       "      <td>0</td>\n",
       "      <td>0</td>\n",
       "      <td>0</td>\n",
       "      <td>0</td>\n",
       "      <td>0</td>\n",
       "      <td>0</td>\n",
       "      <td>0</td>\n",
       "      <td>0</td>\n",
       "      <td>0</td>\n",
       "      <td>0</td>\n",
       "    </tr>\n",
       "    <tr>\n",
       "      <th>zosuquidar</th>\n",
       "      <td>20</td>\n",
       "      <td>6</td>\n",
       "      <td>0</td>\n",
       "      <td>0</td>\n",
       "      <td>3</td>\n",
       "      <td>0</td>\n",
       "      <td>0</td>\n",
       "      <td>0</td>\n",
       "      <td>0</td>\n",
       "      <td>0</td>\n",
       "      <td>...</td>\n",
       "      <td>0</td>\n",
       "      <td>0</td>\n",
       "      <td>0</td>\n",
       "      <td>0</td>\n",
       "      <td>0</td>\n",
       "      <td>0</td>\n",
       "      <td>0</td>\n",
       "      <td>10</td>\n",
       "      <td>0</td>\n",
       "      <td>17</td>\n",
       "    </tr>\n",
       "    <tr>\n",
       "      <th>zoxazolamine</th>\n",
       "      <td>6</td>\n",
       "      <td>5</td>\n",
       "      <td>0</td>\n",
       "      <td>0</td>\n",
       "      <td>4</td>\n",
       "      <td>0</td>\n",
       "      <td>0</td>\n",
       "      <td>0</td>\n",
       "      <td>0</td>\n",
       "      <td>0</td>\n",
       "      <td>...</td>\n",
       "      <td>0</td>\n",
       "      <td>0</td>\n",
       "      <td>0</td>\n",
       "      <td>0</td>\n",
       "      <td>0</td>\n",
       "      <td>0</td>\n",
       "      <td>0</td>\n",
       "      <td>10</td>\n",
       "      <td>0</td>\n",
       "      <td>0</td>\n",
       "    </tr>\n",
       "    <tr>\n",
       "      <th>zuclopenthixol</th>\n",
       "      <td>3</td>\n",
       "      <td>6</td>\n",
       "      <td>0</td>\n",
       "      <td>0</td>\n",
       "      <td>4</td>\n",
       "      <td>0</td>\n",
       "      <td>0</td>\n",
       "      <td>0</td>\n",
       "      <td>0</td>\n",
       "      <td>0</td>\n",
       "      <td>...</td>\n",
       "      <td>0</td>\n",
       "      <td>0</td>\n",
       "      <td>0</td>\n",
       "      <td>0</td>\n",
       "      <td>0</td>\n",
       "      <td>0</td>\n",
       "      <td>0</td>\n",
       "      <td>12</td>\n",
       "      <td>0</td>\n",
       "      <td>0</td>\n",
       "    </tr>\n",
       "  </tbody>\n",
       "</table>\n",
       "<p>20551 rows × 83 columns</p>\n",
       "</div>"
      ]
     },
     "metadata": {},
     "execution_count": 6
    }
   ],
   "metadata": {}
  },
  {
   "cell_type": "code",
   "execution_count": 7,
   "source": [
    "drug_abundance = adata.obs.condition.value_counts()\n",
    "suff_drug_abundance = drug_abundance.index[drug_abundance>5]"
   ],
   "outputs": [],
   "metadata": {}
  },
  {
   "cell_type": "code",
   "execution_count": 8,
   "source": [
    "# Delete conditions isufficient # of observations\n",
    "adata = adata[adata.obs.condition.isin(suff_drug_abundance)].copy()\n",
    "adata "
   ],
   "outputs": [
    {
     "output_type": "execute_result",
     "data": {
      "text/plain": [
       "AnnData object with n_obs × n_vars = 1023036 × 978\n",
       "    obs: 'cell_id', 'det_plate', 'det_well', 'lincs_phase', 'pert_dose', 'pert_dose_unit', 'pert_id', 'pert_iname', 'pert_mfc_id', 'pert_time', 'pert_time_unit', 'pert_type', 'rna_plate', 'rna_well', 'condition', 'cell_type', 'dose_val', 'cov_drug_dose_name', 'control'\n",
       "    var: 'pr_gene_title', 'pr_is_lm', 'pr_is_bing'\n",
       "    uns: 'cydata_pull'"
      ]
     },
     "metadata": {},
     "execution_count": 8
    }
   ],
   "metadata": {}
  },
  {
   "cell_type": "markdown",
   "source": [
    "Calculate differential genes manually, such that the genes are the same per condition."
   ],
   "metadata": {}
  },
  {
   "cell_type": "code",
   "execution_count": 9,
   "source": [
    "%%time\n",
    "from tqdm.notebook import tqdm\n",
    "import numpy as np \n",
    "\n",
    "de_genes = {}\n",
    "de_genes_quick = {}\n",
    "\n",
    "adata_df = adata.to_df()\n",
    "adata_df['condition'] = adata.obs.condition\n",
    "dmso = adata_df[adata_df.condition == \"DMSO\"].mean()\n",
    "\n",
    "for cond, df in tqdm(adata_df.groupby('condition')): \n",
    "    if cond != 'DMSO':\n",
    "        drug_mean = df.mean()\n",
    "        de_50_idx = np.argsort(abs(drug_mean-dmso))[-50:]\n",
    "        de_genes_quick[cond] = drug_mean.index[de_50_idx].values\n",
    "\n",
    "if full: \n",
    "    de_genes = de_genes_quick\n",
    "\n",
    "else:\n",
    "    sc.tl.rank_genes_groups(\n",
    "        adata,\n",
    "        groupby='condition', \n",
    "        reference='DMSO',\n",
    "        rankby_abs=True,\n",
    "        n_genes=50\n",
    "    )\n",
    "    for cond in tqdm(np.unique(adata.obs['condition'])):\n",
    "        if cond != 'DMSO':\n",
    "            df = sc.get.rank_genes_groups_df(adata, group=cond)  # this takes a while\n",
    "            de_genes[cond] = df['names'][:50].values\n"
   ],
   "outputs": [
    {
     "output_type": "display_data",
     "data": {
      "text/plain": [
       "  0%|          | 0/17990 [00:00<?, ?it/s]"
      ],
      "application/vnd.jupyter.widget-view+json": {
       "version_major": 2,
       "version_minor": 0,
       "model_id": "74e98aa7a092439e84b5babed884e28d"
      }
     },
     "metadata": {}
    },
    {
     "output_type": "stream",
     "name": "stdout",
     "text": [
      "CPU times: user 41.5 s, sys: 877 ms, total: 42.4 s\n",
      "Wall time: 42.4 s\n"
     ]
    }
   ],
   "metadata": {
    "scrolled": true
   }
  },
  {
   "cell_type": "markdown",
   "source": [
    "Mapping from `rank_genes_groups_cov` might cause problems when drug contains '_'"
   ],
   "metadata": {}
  },
  {
   "cell_type": "code",
   "execution_count": 10,
   "source": [
    "def extract_drug(cond): \n",
    "    return '_'.join(cond.split('_')[1:-1])\n",
    "\n",
    "adata.obs['cov_drug_dose_name'].apply(lambda s: len(s.split('_'))).value_counts()"
   ],
   "outputs": [
    {
     "output_type": "execute_result",
     "data": {
      "text/plain": [
       "3    1022382\n",
       "4        654\n",
       "Name: cov_drug_dose_name, dtype: int64"
      ]
     },
     "metadata": {},
     "execution_count": 10
    }
   ],
   "metadata": {}
  },
  {
   "cell_type": "code",
   "execution_count": 11,
   "source": [
    "adata.uns['rank_genes_groups_cov'] = {cond: de_genes_quick[extract_drug(cond)] for cond in adata.obs.cov_drug_dose_name.unique() if extract_drug(cond) != 'DMSO'}"
   ],
   "outputs": [],
   "metadata": {}
  },
  {
   "cell_type": "code",
   "execution_count": 12,
   "source": [
    "adata.obs['split'] = 'train'\n",
    "\n",
    "# take ood from top occurring perturbations to avoid losing data on low occ ones\n",
    "ood_idx = sc.pp.subsample(\n",
    "    adata[adata.obs.condition.isin(list(adata.obs.condition.value_counts().index[1:50]))],\n",
    "    .1,\n",
    "    copy=True\n",
    ").obs.index\n",
    "adata.obs['split'].loc[ood_idx] = 'ood'\n",
    "\n",
    "# take test from a random subsampling of the rest\n",
    "test_idx = sc.pp.subsample(\n",
    "    adata[adata.obs.split != 'ood'],\n",
    "    .16,\n",
    "    copy=True\n",
    ").obs.index\n",
    "adata.obs['split'].loc[test_idx] = 'test'"
   ],
   "outputs": [],
   "metadata": {
    "scrolled": true
   }
  },
  {
   "cell_type": "code",
   "execution_count": 13,
   "source": [
    "pd.crosstab(adata.obs['split'], adata.obs['condition'])"
   ],
   "outputs": [
    {
     "output_type": "execute_result",
     "data": {
      "text/plain": [
       "condition  (+)-3-(1-propyl-piperidin-3-yl)-phenol  \\\n",
       "split                                               \n",
       "ood                                             0   \n",
       "test                                            5   \n",
       "train                                          13   \n",
       "\n",
       "condition  (+|-)-7-hydroxy-2-(N,N-di-n-propylamino)tetralin  \\\n",
       "split                                                         \n",
       "ood                                                       0   \n",
       "test                                                      0   \n",
       "train                                                    18   \n",
       "\n",
       "condition  1,2,3,4,5,6-hexabromocyclohexane  1,2,3,4-tetrahydroisoquinoline  \\\n",
       "split                                                                         \n",
       "ood                                       0                               0   \n",
       "test                                      8                               4   \n",
       "train                                    29                              14   \n",
       "\n",
       "condition  1,2-dichlorobenzene  1,2-propylene-glycol  1-benzylimidazole  \\\n",
       "split                                                                     \n",
       "ood                          0                     0                  0   \n",
       "test                        13                     5                  9   \n",
       "train                       58                    22                 40   \n",
       "\n",
       "condition  1-methylisoquinoline  1-monopalmitin  1-phenylbiguanide  ...  \\\n",
       "split                                                               ...   \n",
       "ood                           0               0                  0  ...   \n",
       "test                          6               7                  3  ...   \n",
       "train                        12              27                 25  ...   \n",
       "\n",
       "condition  ziprasidone  zofenopril-calcium  zolantidine  zolmitriptan  \\\n",
       "split                                                                   \n",
       "ood                  0                   0            0             0   \n",
       "test                37                  23           12            25   \n",
       "train              152                 103           52            87   \n",
       "\n",
       "condition  zolpidem  zonisamide  zopiclone  zosuquidar  zoxazolamine  \\\n",
       "split                                                                  \n",
       "ood               0           0          0           0             0   \n",
       "test             30          38          2          31            13   \n",
       "train           175         185         10         151            79   \n",
       "\n",
       "condition  zuclopenthixol  \n",
       "split                      \n",
       "ood                     0  \n",
       "test                   15  \n",
       "train                  68  \n",
       "\n",
       "[3 rows x 17990 columns]"
      ],
      "text/html": [
       "<div>\n",
       "<style scoped>\n",
       "    .dataframe tbody tr th:only-of-type {\n",
       "        vertical-align: middle;\n",
       "    }\n",
       "\n",
       "    .dataframe tbody tr th {\n",
       "        vertical-align: top;\n",
       "    }\n",
       "\n",
       "    .dataframe thead th {\n",
       "        text-align: right;\n",
       "    }\n",
       "</style>\n",
       "<table border=\"1\" class=\"dataframe\">\n",
       "  <thead>\n",
       "    <tr style=\"text-align: right;\">\n",
       "      <th>condition</th>\n",
       "      <th>(+)-3-(1-propyl-piperidin-3-yl)-phenol</th>\n",
       "      <th>(+|-)-7-hydroxy-2-(N,N-di-n-propylamino)tetralin</th>\n",
       "      <th>1,2,3,4,5,6-hexabromocyclohexane</th>\n",
       "      <th>1,2,3,4-tetrahydroisoquinoline</th>\n",
       "      <th>1,2-dichlorobenzene</th>\n",
       "      <th>1,2-propylene-glycol</th>\n",
       "      <th>1-benzylimidazole</th>\n",
       "      <th>1-methylisoquinoline</th>\n",
       "      <th>1-monopalmitin</th>\n",
       "      <th>1-phenylbiguanide</th>\n",
       "      <th>...</th>\n",
       "      <th>ziprasidone</th>\n",
       "      <th>zofenopril-calcium</th>\n",
       "      <th>zolantidine</th>\n",
       "      <th>zolmitriptan</th>\n",
       "      <th>zolpidem</th>\n",
       "      <th>zonisamide</th>\n",
       "      <th>zopiclone</th>\n",
       "      <th>zosuquidar</th>\n",
       "      <th>zoxazolamine</th>\n",
       "      <th>zuclopenthixol</th>\n",
       "    </tr>\n",
       "    <tr>\n",
       "      <th>split</th>\n",
       "      <th></th>\n",
       "      <th></th>\n",
       "      <th></th>\n",
       "      <th></th>\n",
       "      <th></th>\n",
       "      <th></th>\n",
       "      <th></th>\n",
       "      <th></th>\n",
       "      <th></th>\n",
       "      <th></th>\n",
       "      <th></th>\n",
       "      <th></th>\n",
       "      <th></th>\n",
       "      <th></th>\n",
       "      <th></th>\n",
       "      <th></th>\n",
       "      <th></th>\n",
       "      <th></th>\n",
       "      <th></th>\n",
       "      <th></th>\n",
       "      <th></th>\n",
       "    </tr>\n",
       "  </thead>\n",
       "  <tbody>\n",
       "    <tr>\n",
       "      <th>ood</th>\n",
       "      <td>0</td>\n",
       "      <td>0</td>\n",
       "      <td>0</td>\n",
       "      <td>0</td>\n",
       "      <td>0</td>\n",
       "      <td>0</td>\n",
       "      <td>0</td>\n",
       "      <td>0</td>\n",
       "      <td>0</td>\n",
       "      <td>0</td>\n",
       "      <td>...</td>\n",
       "      <td>0</td>\n",
       "      <td>0</td>\n",
       "      <td>0</td>\n",
       "      <td>0</td>\n",
       "      <td>0</td>\n",
       "      <td>0</td>\n",
       "      <td>0</td>\n",
       "      <td>0</td>\n",
       "      <td>0</td>\n",
       "      <td>0</td>\n",
       "    </tr>\n",
       "    <tr>\n",
       "      <th>test</th>\n",
       "      <td>5</td>\n",
       "      <td>0</td>\n",
       "      <td>8</td>\n",
       "      <td>4</td>\n",
       "      <td>13</td>\n",
       "      <td>5</td>\n",
       "      <td>9</td>\n",
       "      <td>6</td>\n",
       "      <td>7</td>\n",
       "      <td>3</td>\n",
       "      <td>...</td>\n",
       "      <td>37</td>\n",
       "      <td>23</td>\n",
       "      <td>12</td>\n",
       "      <td>25</td>\n",
       "      <td>30</td>\n",
       "      <td>38</td>\n",
       "      <td>2</td>\n",
       "      <td>31</td>\n",
       "      <td>13</td>\n",
       "      <td>15</td>\n",
       "    </tr>\n",
       "    <tr>\n",
       "      <th>train</th>\n",
       "      <td>13</td>\n",
       "      <td>18</td>\n",
       "      <td>29</td>\n",
       "      <td>14</td>\n",
       "      <td>58</td>\n",
       "      <td>22</td>\n",
       "      <td>40</td>\n",
       "      <td>12</td>\n",
       "      <td>27</td>\n",
       "      <td>25</td>\n",
       "      <td>...</td>\n",
       "      <td>152</td>\n",
       "      <td>103</td>\n",
       "      <td>52</td>\n",
       "      <td>87</td>\n",
       "      <td>175</td>\n",
       "      <td>185</td>\n",
       "      <td>10</td>\n",
       "      <td>151</td>\n",
       "      <td>79</td>\n",
       "      <td>68</td>\n",
       "    </tr>\n",
       "  </tbody>\n",
       "</table>\n",
       "<p>3 rows × 17990 columns</p>\n",
       "</div>"
      ]
     },
     "metadata": {},
     "execution_count": 13
    }
   ],
   "metadata": {
    "scrolled": true
   }
  },
  {
   "cell_type": "code",
   "execution_count": 14,
   "source": [
    "try: \n",
    "    del(adata.uns['rank_genes_groups'])  # too large\n",
    "except: \n",
    "    print('All good.')"
   ],
   "outputs": [
    {
     "output_type": "stream",
     "name": "stdout",
     "text": [
      "All good.\n"
     ]
    }
   ],
   "metadata": {}
  },
  {
   "cell_type": "code",
   "execution_count": 15,
   "source": [
    "# code compatibility\n",
    "from scipy import sparse\n",
    "adata.X = sparse.csr_matrix(adata.X)"
   ],
   "outputs": [],
   "metadata": {}
  },
  {
   "cell_type": "code",
   "execution_count": 16,
   "source": [
    "sc.write('datasets/lincs_full_pp.h5ad', adata)"
   ],
   "outputs": [
    {
     "output_type": "stream",
     "name": "stderr",
     "text": [
      "... storing 'condition' as categorical\n",
      "... storing 'cov_drug_dose_name' as categorical\n",
      "... storing 'split' as categorical\n"
     ]
    }
   ],
   "metadata": {}
  },
  {
   "cell_type": "code",
   "execution_count": 17,
   "source": [
    "print('all done.')"
   ],
   "outputs": [
    {
     "output_type": "stream",
     "name": "stdout",
     "text": [
      "all done.\n"
     ]
    }
   ],
   "metadata": {}
  },
  {
   "cell_type": "markdown",
   "source": [
    "### Check that `adata.uns[rank_genes_groups_cov]` has all entries in `adata.obs.cov_drug_dose_name` as keys"
   ],
   "metadata": {}
  },
  {
   "cell_type": "code",
   "execution_count": 18,
   "source": [
    "for i, k in enumerate(adata.obs.cov_drug_dose_name.unique()):\n",
    "    try: \n",
    "        adata.uns['rank_genes_groups_cov'][k]\n",
    "    except: \n",
    "        print(f\"{i}: {k}\") if 'DMSO' not in k else None"
   ],
   "outputs": [],
   "metadata": {}
  },
  {
   "cell_type": "markdown",
   "source": [
    "### Checking the same for the stored adata object"
   ],
   "metadata": {}
  },
  {
   "cell_type": "code",
   "execution_count": 19,
   "source": [
    "adata_2 = sc.read('datasets/lincs_full_pp.h5ad')"
   ],
   "outputs": [],
   "metadata": {}
  },
  {
   "cell_type": "code",
   "execution_count": 20,
   "source": [
    "for i, k in enumerate(adata_2.obs.cov_drug_dose_name.unique()):\n",
    "    try: \n",
    "        adata_2.uns['rank_genes_groups_cov'][k]\n",
    "    except: \n",
    "        print(f\"{i}: {k}\") if 'DMSO' not in k else None"
   ],
   "outputs": [],
   "metadata": {}
  },
  {
   "cell_type": "code",
   "execution_count": 21,
   "source": [
    "set(list(adata.uns['rank_genes_groups_cov'])) - set((list(adata_2.uns['rank_genes_groups_cov'])))"
   ],
   "outputs": [
    {
     "output_type": "execute_result",
     "data": {
      "text/plain": [
       "set()"
      ]
     },
     "metadata": {},
     "execution_count": 21
    }
   ],
   "metadata": {}
  },
  {
   "cell_type": "code",
   "execution_count": 22,
   "source": [
    "set((list(adata_2.uns['rank_genes_groups_cov']))) - set(list(adata.uns['rank_genes_groups_cov']))"
   ],
   "outputs": [
    {
     "output_type": "execute_result",
     "data": {
      "text/plain": [
       "set()"
      ]
     },
     "metadata": {},
     "execution_count": 22
    }
   ],
   "metadata": {}
  },
  {
   "cell_type": "code",
   "execution_count": null,
   "source": [],
   "outputs": [],
   "metadata": {}
  },
  {
   "cell_type": "code",
   "execution_count": null,
   "source": [],
   "outputs": [],
   "metadata": {}
  }
 ],
 "metadata": {
  "kernelspec": {
   "name": "python3",
   "display_name": "Python 3.8.8 64-bit ('py38': conda)"
  },
  "language_info": {
   "codemirror_mode": {
    "name": "ipython",
    "version": 3
   },
   "file_extension": ".py",
   "mimetype": "text/x-python",
   "name": "python",
   "nbconvert_exporter": "python",
   "pygments_lexer": "ipython3",
   "version": "3.8.8"
  },
  "interpreter": {
   "hash": "6ea99325af0b09b2c098ddbe7d13703f3e2b6f04181042d146addb2812ce9602"
  }
 },
 "nbformat": 4,
 "nbformat_minor": 4
}