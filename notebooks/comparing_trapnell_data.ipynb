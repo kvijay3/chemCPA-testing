{
 "cells": [
  {
   "cell_type": "code",
   "execution_count": 2,
   "id": "852f177f-f3f8-4674-a869-44dfa85359f8",
   "metadata": {},
   "outputs": [
    {
     "name": "stdout",
     "output_type": "stream",
     "text": [
      "scanpy==1.8.1 anndata==0.7.6 umap==0.5.1 numpy==1.19.2 scipy==1.6.2 pandas==1.2.4 scikit-learn==0.24.2 statsmodels==0.12.2 python-igraph==0.9.1 louvain==0.7.0 pynndescent==0.5.2\n"
     ]
    }
   ],
   "source": [
    "import scanpy as sc\n",
    "import matplotlib.pyplot as plt\n",
    "import pandas as pd\n",
    "sc.set_figure_params(dpi=100, frameon=False)\n",
    "sc.logging.print_header()"
   ]
  },
  {
   "cell_type": "code",
   "execution_count": 3,
   "id": "a2d6d8f7-ed22-4fac-843e-4406af91d91c",
   "metadata": {
    "scrolled": true
   },
   "outputs": [],
   "source": [
    "%load_ext autoreload\n",
    "%autoreload 2"
   ]
  },
  {
   "cell_type": "code",
   "execution_count": 4,
   "id": "76cda60e-c52d-49ed-9e5d-0a427e294310",
   "metadata": {},
   "outputs": [],
   "source": [
    "import os\n",
    "os.chdir('./../')"
   ]
  },
  {
   "cell_type": "code",
   "execution_count": 5,
   "id": "121ef798-2dce-4984-b1db-981bf7312b10",
   "metadata": {},
   "outputs": [],
   "source": [
    "adata_cpa = sc.read('datasets/sciplex3_old_reproduced.h5ad')\n",
    "adata_cpi = sc.read('datasets/trapnell_final_V7.h5ad')"
   ]
  },
  {
   "cell_type": "code",
   "execution_count": 5,
   "id": "392d448a-8ec5-41bc-90b3-63ac8b8ce3b3",
   "metadata": {},
   "outputs": [],
   "source": [
    "adata_out = 'datasets/trapnell_cpa.h5ad'\n",
    "adata_out_subset = 'datasets/trapnell_cpa_subset.h5ad'"
   ]
  },
  {
   "cell_type": "code",
   "execution_count": 7,
   "id": "df885b5a-e8d7-4cff-8825-94c498045458",
   "metadata": {},
   "outputs": [
    {
     "data": {
      "text/plain": [
       "AnnData object with n_obs × n_vars = 290888 × 5000\n",
       "    obs: 'cell_type', 'dose', 'dose_character', 'dose_pattern', 'g1s_score', 'g2m_score', 'pathway', 'pathway_level_1', 'pathway_level_2', 'product_dose', 'product_name', 'proliferation_index', 'replicate', 'size_factor', 'target', 'vehicle', 'pert_iname', 'cond_new', 'dose_new', 'name_in_lincs', 'split', 'control', 'n_counts', 'condition', 'dose_val', 'drug_dose_name', 'cov_drug_dose_name', 'old_split', 'split_all', 'ct_dose', 'split1', 'split2', 'split3', 'split4', 'split5', 'split6', 'split7', 'split8', 'split9', 'split10', 'split11', 'split12', 'split13', 'split14', 'split15', 'split16', 'split17', 'split18', 'split19', 'split20', 'split21', 'split22', 'split23', 'split24', 'split25', 'split26', 'split27', 'split28', 'cov_drug'\n",
       "    var: 'id', 'num_cells_expressed-0-0', 'num_cells_expressed-1-0', 'num_cells_expressed-1', 'highly_variable', 'means', 'dispersions', 'dispersions_norm'\n",
       "    uns: 'hvg', 'rank_genes_groups_cov', 'splits'"
      ]
     },
     "execution_count": 7,
     "metadata": {},
     "output_type": "execute_result"
    }
   ],
   "source": [
    "adata_cpa"
   ]
  },
  {
   "cell_type": "code",
   "execution_count": 8,
   "id": "f0ebec71-307a-4628-a0f8-f8e7ce77a55a",
   "metadata": {},
   "outputs": [
    {
     "data": {
      "text/plain": [
       "AnnData object with n_obs × n_vars = 290888 × 5000\n",
       "    obs: 'cell_type', 'dose', 'dose_character', 'dose_pattern', 'g1s_score', 'g2m_score', 'pathway', 'pathway_level_1', 'pathway_level_2', 'product_dose', 'product_name', 'proliferation_index', 'replicate', 'size_factor', 'target', 'vehicle', 'n_counts', 'log_counts', 'n_genes', 'condition', 'pert_iname', 'split', 'control', 'SMILES', 'DrugBank_ID', 'Age', 'Gender', 'Disease', 'Histology', 'mutRate', 'split_train_test', 'split_OOD_max_dose_A549', 'split_OOD_max_dose_MCF7', 'split_OOD_max_dose_K562', 'split_OOD_max_dose', 'split_OOD_mean_dose_A549', 'split_OOD_mean_dose_MCF7', 'split_OOD_mean_dose_K562', 'split_OOD_mean_dose', 'n_counts_hvg', 'n_genes_hvg', 'sum_gene_exp', 'mol_weight', 'ATC_level_1', 'ATC_level_1_abb', 'target_gene_names', 'target_names', 'logP', 'logS', 'water_solubility', 'molecular_formula', 'polar_surface_area', 'refractivity', 'polarizability', 'rotatable_bond_count', 'h_bond_acceptor_count', 'h_bond_donor_count', 'pKa_strongest_acidic', 'pKa_strongest_basic', 'physiological_charge', 'number_of_rings', 'melting_point', 'split_OOD_effective_drugs_A549', 'split_OOD_effective_drugs_MCF7', 'split_OOD_effective_drugs_K562', 'split_OOD_effective_drugs_MCF7_K562', 'split_OOD_effective_drugs_A549_K562', 'split_OOD_effective_drugs_A549_MCF7', 'split_OOD_effective_drugs'\n",
       "    var: 'id', 'num_cells_expressed-0-0', 'num_cells_expressed-1-0', 'num_cells_expressed-1', 'n_cells', 'highly_variable', 'means', 'dispersions', 'dispersions_norm'\n",
       "    uns: 'DE_genes_A549', 'DE_genes_K562', 'DE_genes_MCF7', 'cell_type_colors', 'cell_type_colors_2', 'hvg', 'neighbors', 'pathway_level_1_colors', 'umap'\n",
       "    obsm: 'X_pca', 'X_tsne', 'X_umap'\n",
       "    layers: 'counts'\n",
       "    obsp: 'connectivities', 'distances'"
      ]
     },
     "execution_count": 8,
     "metadata": {},
     "output_type": "execute_result"
    }
   ],
   "source": [
    "adata_cpi"
   ]
  },
  {
   "cell_type": "code",
   "execution_count": 9,
   "id": "26767716-09a8-4340-b9ce-7ff13408c40a",
   "metadata": {},
   "outputs": [
    {
     "data": {
      "text/plain": [
       "Index(['F05_F10_RT_BC_353_Lig_BC_93-0', 'H02_E09_RT_BC_302_Lig_BC_102-1',\n",
       "       'B04_E09_RT_BC_325_Lig_BC_104-1', 'F05_F10_RT_BC_193_Lig_BC_130',\n",
       "       'A01_F10_RT_BC_381_Lig_BC_47', 'E08_E09_RT_BC_257_Lig_BC_203-1',\n",
       "       'E05_F10_RT_BC_350_Lig_BC_291-0', 'G08_E09_RT_BC_50_Lig_BC_132-1',\n",
       "       'A04_F10_RT_BC_291_Lig_BC_261', 'G02_E09_RT_BC_289_Lig_BC_77-0',\n",
       "       ...\n",
       "       'H09_F10_RT_BC_126_Lig_BC_284-1', 'C02_F10_RT_BC_247_Lig_BC_121-1',\n",
       "       'A05_F10_RT_BC_108_Lig_BC_62-1', 'H09_E09_RT_BC_155_Lig_BC_183-0',\n",
       "       'B01_E09_RT_BC_215_Lig_BC_344-0', 'F05_E09_RT_BC_261_Lig_BC_62-0',\n",
       "       'F10_E09_RT_BC_317_Lig_BC_213-0', 'D04_F10_RT_BC_54_Lig_BC_70-1',\n",
       "       'C10_E09_RT_BC_25_Lig_BC_294-1', 'F06_F10_RT_BC_137_Lig_BC_154-1'],\n",
       "      dtype='object', length=290888)"
      ]
     },
     "execution_count": 9,
     "metadata": {},
     "output_type": "execute_result"
    }
   ],
   "source": [
    "adata_cpa.obs_names"
   ]
  },
  {
   "cell_type": "code",
   "execution_count": 10,
   "id": "264fa604-83af-4a1f-b285-4775415685a3",
   "metadata": {},
   "outputs": [
    {
     "data": {
      "text/plain": [
       "Index(['F05_F10_RT_BC_353_Lig_BC_93-0-0', 'H02_E09_RT_BC_302_Lig_BC_102-1-0',\n",
       "       'B04_E09_RT_BC_325_Lig_BC_104-1-0', 'F05_F10_RT_BC_193_Lig_BC_130-1',\n",
       "       'A01_F10_RT_BC_381_Lig_BC_47-1', 'E08_E09_RT_BC_257_Lig_BC_203-1-0',\n",
       "       'E05_F10_RT_BC_350_Lig_BC_291-0-0', 'G08_E09_RT_BC_50_Lig_BC_132-1-0',\n",
       "       'A04_F10_RT_BC_291_Lig_BC_261-1', 'G02_E09_RT_BC_289_Lig_BC_77-0-0',\n",
       "       ...\n",
       "       'H09_F10_RT_BC_126_Lig_BC_284-1-0', 'C02_F10_RT_BC_247_Lig_BC_121-1-0',\n",
       "       'A05_F10_RT_BC_108_Lig_BC_62-1-0', 'H09_E09_RT_BC_155_Lig_BC_183-0-0',\n",
       "       'B01_E09_RT_BC_215_Lig_BC_344-0-0', 'F05_E09_RT_BC_261_Lig_BC_62-0-0',\n",
       "       'F10_E09_RT_BC_317_Lig_BC_213-0-0', 'D04_F10_RT_BC_54_Lig_BC_70-1-0',\n",
       "       'C10_E09_RT_BC_25_Lig_BC_294-1-0', 'F06_F10_RT_BC_137_Lig_BC_154-1-0'],\n",
       "      dtype='object', name='index', length=290888)"
      ]
     },
     "execution_count": 10,
     "metadata": {},
     "output_type": "execute_result"
    }
   ],
   "source": [
    "adata_cpi.obs_names"
   ]
  },
  {
   "cell_type": "code",
   "execution_count": 11,
   "id": "46b61eeb-216a-4636-971f-c07a94754713",
   "metadata": {},
   "outputs": [
    {
     "name": "stdout",
     "output_type": "stream",
     "text": [
      "F05_F10_RT_BC_353_Lig_BC_93-0\n"
     ]
    }
   ],
   "source": [
    "for name in adata_cpi.obs_names: \n",
    "    print('-'.join(name.split('-')[:-1]))\n",
    "    break"
   ]
  },
  {
   "cell_type": "code",
   "execution_count": 12,
   "id": "39ce7525-ec52-43df-b297-efb759d2a073",
   "metadata": {},
   "outputs": [],
   "source": [
    "new_index = adata_cpi.obs_names.to_series().apply(lambda x: '-'.join(x.split('-')[:-1]))"
   ]
  },
  {
   "cell_type": "code",
   "execution_count": 13,
   "id": "727edd7e-cac1-4b84-bf32-447a873a1aa7",
   "metadata": {},
   "outputs": [],
   "source": [
    "adata_cpi.obs.set_index(new_index, inplace=True)"
   ]
  },
  {
   "cell_type": "code",
   "execution_count": 14,
   "id": "1fb3ff89-8e10-451b-9ce1-0f7c60ada77f",
   "metadata": {},
   "outputs": [
    {
     "data": {
      "text/plain": [
       "0"
      ]
     },
     "execution_count": 14,
     "metadata": {},
     "output_type": "execute_result"
    }
   ],
   "source": [
    "((adata_cpi.obs_names == adata_cpa.obs_names)-1).sum()"
   ]
  },
  {
   "cell_type": "code",
   "execution_count": 15,
   "id": "6b8d4dd1-59f7-4338-8c5a-e143d7b1002f",
   "metadata": {},
   "outputs": [
    {
     "data": {
      "text/html": [
       "<div>\n",
       "<style scoped>\n",
       "    .dataframe tbody tr th:only-of-type {\n",
       "        vertical-align: middle;\n",
       "    }\n",
       "\n",
       "    .dataframe tbody tr th {\n",
       "        vertical-align: top;\n",
       "    }\n",
       "\n",
       "    .dataframe thead th {\n",
       "        text-align: right;\n",
       "    }\n",
       "</style>\n",
       "<table border=\"1\" class=\"dataframe\">\n",
       "  <thead>\n",
       "    <tr style=\"text-align: right;\">\n",
       "      <th></th>\n",
       "      <th>cell_type</th>\n",
       "      <th>dose</th>\n",
       "      <th>dose_character</th>\n",
       "      <th>dose_pattern</th>\n",
       "      <th>g1s_score</th>\n",
       "      <th>g2m_score</th>\n",
       "      <th>pathway</th>\n",
       "      <th>pathway_level_1</th>\n",
       "      <th>pathway_level_2</th>\n",
       "      <th>product_dose</th>\n",
       "      <th>...</th>\n",
       "      <th>physiological_charge</th>\n",
       "      <th>number_of_rings</th>\n",
       "      <th>melting_point</th>\n",
       "      <th>split_OOD_effective_drugs_A549</th>\n",
       "      <th>split_OOD_effective_drugs_MCF7</th>\n",
       "      <th>split_OOD_effective_drugs_K562</th>\n",
       "      <th>split_OOD_effective_drugs_MCF7_K562</th>\n",
       "      <th>split_OOD_effective_drugs_A549_K562</th>\n",
       "      <th>split_OOD_effective_drugs_A549_MCF7</th>\n",
       "      <th>split_OOD_effective_drugs</th>\n",
       "    </tr>\n",
       "    <tr>\n",
       "      <th>index</th>\n",
       "      <th></th>\n",
       "      <th></th>\n",
       "      <th></th>\n",
       "      <th></th>\n",
       "      <th></th>\n",
       "      <th></th>\n",
       "      <th></th>\n",
       "      <th></th>\n",
       "      <th></th>\n",
       "      <th></th>\n",
       "      <th></th>\n",
       "      <th></th>\n",
       "      <th></th>\n",
       "      <th></th>\n",
       "      <th></th>\n",
       "      <th></th>\n",
       "      <th></th>\n",
       "      <th></th>\n",
       "      <th></th>\n",
       "      <th></th>\n",
       "      <th></th>\n",
       "    </tr>\n",
       "  </thead>\n",
       "  <tbody>\n",
       "    <tr>\n",
       "      <th>F05_F10_RT_BC_353_Lig_BC_93-0</th>\n",
       "      <td>A549</td>\n",
       "      <td>1000.0</td>\n",
       "      <td>1000</td>\n",
       "      <td>2</td>\n",
       "      <td>1.877880</td>\n",
       "      <td>1.639913</td>\n",
       "      <td>JAK/STAT</td>\n",
       "      <td>JAK/STAT signaling</td>\n",
       "      <td>JAK kinase activity</td>\n",
       "      <td>WP1066_1000</td>\n",
       "      <td>...</td>\n",
       "      <td>not_provided</td>\n",
       "      <td>not_provided</td>\n",
       "      <td>not_provided</td>\n",
       "      <td>train</td>\n",
       "      <td>train</td>\n",
       "      <td>train</td>\n",
       "      <td>test</td>\n",
       "      <td>train</td>\n",
       "      <td>train</td>\n",
       "      <td>train</td>\n",
       "    </tr>\n",
       "    <tr>\n",
       "      <th>H02_E09_RT_BC_302_Lig_BC_102-1</th>\n",
       "      <td>MCF7</td>\n",
       "      <td>10.0</td>\n",
       "      <td>10</td>\n",
       "      <td>4</td>\n",
       "      <td>1.758168</td>\n",
       "      <td>3.916382</td>\n",
       "      <td>JAK/STAT</td>\n",
       "      <td>JAK/STAT signaling</td>\n",
       "      <td>JAK kinase activity</td>\n",
       "      <td>Gandotinib (LY2784544)_10</td>\n",
       "      <td>...</td>\n",
       "      <td>0</td>\n",
       "      <td>5</td>\n",
       "      <td>nan</td>\n",
       "      <td>train</td>\n",
       "      <td>train</td>\n",
       "      <td>train</td>\n",
       "      <td>test</td>\n",
       "      <td>test</td>\n",
       "      <td>train</td>\n",
       "      <td>train</td>\n",
       "    </tr>\n",
       "    <tr>\n",
       "      <th>B04_E09_RT_BC_325_Lig_BC_104-1</th>\n",
       "      <td>MCF7</td>\n",
       "      <td>100.0</td>\n",
       "      <td>100</td>\n",
       "      <td>3</td>\n",
       "      <td>1.089216</td>\n",
       "      <td>0.505199</td>\n",
       "      <td>Protein Tyrosine Kinase</td>\n",
       "      <td>Tyrosine kinase signaling</td>\n",
       "      <td>RTK activity</td>\n",
       "      <td>BMS-536924_100</td>\n",
       "      <td>...</td>\n",
       "      <td>not_provided</td>\n",
       "      <td>not_provided</td>\n",
       "      <td>not_provided</td>\n",
       "      <td>test</td>\n",
       "      <td>train</td>\n",
       "      <td>train</td>\n",
       "      <td>train</td>\n",
       "      <td>train</td>\n",
       "      <td>train</td>\n",
       "      <td>train</td>\n",
       "    </tr>\n",
       "  </tbody>\n",
       "</table>\n",
       "<p>3 rows × 69 columns</p>\n",
       "</div>"
      ],
      "text/plain": [
       "                               cell_type    dose dose_character dose_pattern  \\\n",
       "index                                                                          \n",
       "F05_F10_RT_BC_353_Lig_BC_93-0       A549  1000.0           1000            2   \n",
       "H02_E09_RT_BC_302_Lig_BC_102-1      MCF7    10.0             10            4   \n",
       "B04_E09_RT_BC_325_Lig_BC_104-1      MCF7   100.0            100            3   \n",
       "\n",
       "                                g1s_score  g2m_score                  pathway  \\\n",
       "index                                                                           \n",
       "F05_F10_RT_BC_353_Lig_BC_93-0    1.877880   1.639913                 JAK/STAT   \n",
       "H02_E09_RT_BC_302_Lig_BC_102-1   1.758168   3.916382                 JAK/STAT   \n",
       "B04_E09_RT_BC_325_Lig_BC_104-1   1.089216   0.505199  Protein Tyrosine Kinase   \n",
       "\n",
       "                                          pathway_level_1  \\\n",
       "index                                                       \n",
       "F05_F10_RT_BC_353_Lig_BC_93-0          JAK/STAT signaling   \n",
       "H02_E09_RT_BC_302_Lig_BC_102-1         JAK/STAT signaling   \n",
       "B04_E09_RT_BC_325_Lig_BC_104-1  Tyrosine kinase signaling   \n",
       "\n",
       "                                    pathway_level_2  \\\n",
       "index                                                 \n",
       "F05_F10_RT_BC_353_Lig_BC_93-0   JAK kinase activity   \n",
       "H02_E09_RT_BC_302_Lig_BC_102-1  JAK kinase activity   \n",
       "B04_E09_RT_BC_325_Lig_BC_104-1         RTK activity   \n",
       "\n",
       "                                             product_dose  ...  \\\n",
       "index                                                      ...   \n",
       "F05_F10_RT_BC_353_Lig_BC_93-0                 WP1066_1000  ...   \n",
       "H02_E09_RT_BC_302_Lig_BC_102-1  Gandotinib (LY2784544)_10  ...   \n",
       "B04_E09_RT_BC_325_Lig_BC_104-1             BMS-536924_100  ...   \n",
       "\n",
       "                               physiological_charge  number_of_rings  \\\n",
       "index                                                                  \n",
       "F05_F10_RT_BC_353_Lig_BC_93-0          not_provided     not_provided   \n",
       "H02_E09_RT_BC_302_Lig_BC_102-1                    0                5   \n",
       "B04_E09_RT_BC_325_Lig_BC_104-1         not_provided     not_provided   \n",
       "\n",
       "                               melting_point  split_OOD_effective_drugs_A549  \\\n",
       "index                                                                          \n",
       "F05_F10_RT_BC_353_Lig_BC_93-0   not_provided                           train   \n",
       "H02_E09_RT_BC_302_Lig_BC_102-1           nan                           train   \n",
       "B04_E09_RT_BC_325_Lig_BC_104-1  not_provided                            test   \n",
       "\n",
       "                               split_OOD_effective_drugs_MCF7  \\\n",
       "index                                                           \n",
       "F05_F10_RT_BC_353_Lig_BC_93-0                           train   \n",
       "H02_E09_RT_BC_302_Lig_BC_102-1                          train   \n",
       "B04_E09_RT_BC_325_Lig_BC_104-1                          train   \n",
       "\n",
       "                                split_OOD_effective_drugs_K562  \\\n",
       "index                                                            \n",
       "F05_F10_RT_BC_353_Lig_BC_93-0                            train   \n",
       "H02_E09_RT_BC_302_Lig_BC_102-1                           train   \n",
       "B04_E09_RT_BC_325_Lig_BC_104-1                           train   \n",
       "\n",
       "                                split_OOD_effective_drugs_MCF7_K562  \\\n",
       "index                                                                 \n",
       "F05_F10_RT_BC_353_Lig_BC_93-0                                  test   \n",
       "H02_E09_RT_BC_302_Lig_BC_102-1                                 test   \n",
       "B04_E09_RT_BC_325_Lig_BC_104-1                                train   \n",
       "\n",
       "                                split_OOD_effective_drugs_A549_K562  \\\n",
       "index                                                                 \n",
       "F05_F10_RT_BC_353_Lig_BC_93-0                                 train   \n",
       "H02_E09_RT_BC_302_Lig_BC_102-1                                 test   \n",
       "B04_E09_RT_BC_325_Lig_BC_104-1                                train   \n",
       "\n",
       "                                split_OOD_effective_drugs_A549_MCF7  \\\n",
       "index                                                                 \n",
       "F05_F10_RT_BC_353_Lig_BC_93-0                                 train   \n",
       "H02_E09_RT_BC_302_Lig_BC_102-1                                train   \n",
       "B04_E09_RT_BC_325_Lig_BC_104-1                                train   \n",
       "\n",
       "                               split_OOD_effective_drugs  \n",
       "index                                                     \n",
       "F05_F10_RT_BC_353_Lig_BC_93-0                      train  \n",
       "H02_E09_RT_BC_302_Lig_BC_102-1                     train  \n",
       "B04_E09_RT_BC_325_Lig_BC_104-1                     train  \n",
       "\n",
       "[3 rows x 69 columns]"
      ]
     },
     "execution_count": 15,
     "metadata": {},
     "output_type": "execute_result"
    }
   ],
   "source": [
    "adata_cpi.obs.head(3)"
   ]
  },
  {
   "cell_type": "code",
   "execution_count": 16,
   "id": "c2ebc5d8-8d65-4984-b79b-04698125385b",
   "metadata": {},
   "outputs": [],
   "source": [
    "cond_cpa = adata_cpa.obs.columns.isin(adata_cpi.obs.columns)\n",
    "cond_cpi = adata_cpi.obs.columns.isin(adata_cpa.obs.columns)"
   ]
  },
  {
   "cell_type": "code",
   "execution_count": 17,
   "id": "bdb1d46c-af67-48a5-b3ff-082e63bdeb4c",
   "metadata": {},
   "outputs": [
    {
     "name": "stdout",
     "output_type": "stream",
     "text": [
      "Shared columns:\n",
      "\n",
      "\t ['cell_type' 'dose' 'dose_character' 'dose_pattern' 'g1s_score'\n",
      " 'g2m_score' 'pathway' 'pathway_level_1' 'pathway_level_2' 'product_dose'\n",
      " 'product_name' 'proliferation_index' 'replicate' 'size_factor' 'target'\n",
      " 'vehicle' 'pert_iname' 'split' 'control' 'n_counts' 'condition']\n",
      "\n",
      "\n",
      "\n",
      "Unique columns:\n",
      "\n",
      "\t ['cond_new' 'dose_new' 'name_in_lincs' 'dose_val' 'drug_dose_name'\n",
      " 'cov_drug_dose_name' 'old_split' 'split_all' 'ct_dose' 'split1' 'split2'\n",
      " 'split3' 'split4' 'split5' 'split6' 'split7' 'split8' 'split9' 'split10'\n",
      " 'split11' 'split12' 'split13' 'split14' 'split15' 'split16' 'split17'\n",
      " 'split18' 'split19' 'split20' 'split21' 'split22' 'split23' 'split24'\n",
      " 'split25' 'split26' 'split27' 'split28' 'cov_drug']\n"
     ]
    }
   ],
   "source": [
    "print(f'Shared columns:\\n\\n\\t {adata_cpa.obs.columns[cond_cpa].values}\\n\\n\\n')\n",
    "print(f'Unique columns:\\n\\n\\t {adata_cpa.obs.columns[~cond_cpa].values}')"
   ]
  },
  {
   "cell_type": "code",
   "execution_count": 18,
   "id": "52c05b1f-a931-4f31-8b10-8461ed4146a5",
   "metadata": {},
   "outputs": [
    {
     "name": "stdout",
     "output_type": "stream",
     "text": [
      "Shared columns:\n",
      "\n",
      "\t ['cell_type' 'dose' 'dose_character' 'dose_pattern' 'g1s_score'\n",
      " 'g2m_score' 'pathway' 'pathway_level_1' 'pathway_level_2' 'product_dose'\n",
      " 'product_name' 'proliferation_index' 'replicate' 'size_factor' 'target'\n",
      " 'vehicle' 'n_counts' 'condition' 'pert_iname' 'split' 'control']\n",
      "\n",
      "\n",
      "\n",
      "Unique columns:\n",
      "\n",
      "\t ['log_counts' 'n_genes' 'SMILES' 'DrugBank_ID' 'Age' 'Gender' 'Disease'\n",
      " 'Histology' 'mutRate' 'split_train_test' 'split_OOD_max_dose_A549'\n",
      " 'split_OOD_max_dose_MCF7' 'split_OOD_max_dose_K562' 'split_OOD_max_dose'\n",
      " 'split_OOD_mean_dose_A549' 'split_OOD_mean_dose_MCF7'\n",
      " 'split_OOD_mean_dose_K562' 'split_OOD_mean_dose' 'n_counts_hvg'\n",
      " 'n_genes_hvg' 'sum_gene_exp' 'mol_weight' 'ATC_level_1' 'ATC_level_1_abb'\n",
      " 'target_gene_names' 'target_names' 'logP' 'logS' 'water_solubility'\n",
      " 'molecular_formula' 'polar_surface_area' 'refractivity' 'polarizability'\n",
      " 'rotatable_bond_count' 'h_bond_acceptor_count' 'h_bond_donor_count'\n",
      " 'pKa_strongest_acidic' 'pKa_strongest_basic' 'physiological_charge'\n",
      " 'number_of_rings' 'melting_point' 'split_OOD_effective_drugs_A549'\n",
      " 'split_OOD_effective_drugs_MCF7' 'split_OOD_effective_drugs_K562'\n",
      " 'split_OOD_effective_drugs_MCF7_K562'\n",
      " 'split_OOD_effective_drugs_A549_K562'\n",
      " 'split_OOD_effective_drugs_A549_MCF7' 'split_OOD_effective_drugs']\n"
     ]
    }
   ],
   "source": [
    "print(f'Shared columns:\\n\\n\\t {adata_cpi.obs.columns[cond_cpi].values}\\n\\n\\n')\n",
    "print(f'Unique columns:\\n\\n\\t {adata_cpi.obs.columns[~cond_cpi].values}')"
   ]
  },
  {
   "cell_type": "code",
   "execution_count": 19,
   "id": "8bec475f-5d1d-4f14-98b8-505130fb36a8",
   "metadata": {},
   "outputs": [
    {
     "data": {
      "text/plain": [
       "                                                                                                 6464\n",
       "Cl.Cl.C1[C@@H](NC2CCNCC2)[C@@H]1C1=CC=CC=C1 |r,c:14,16,t:12|                                     1868\n",
       "COC(=O)C1=CC=C2N(CCCC3=CC=CC=C3)C(NC(=O)C3=CC=CC=C3)=NC2=C1 |c:14,16,25,27,29,32,t:4,6,12,23|    1868\n",
       "CCS(=O)(=O)N1CC(CC#N)(C1)N1C=C(C=N1)C1=NC=NC2=C1C=CN2 |c:14,16,21,23,26,t:19|                    1862\n",
       "CCN(CC)C(=O)C(\\C#N)=C\\C1=CC(=C(O)C(O)=C1)[N+]([O-])=O |c:17,t:11,13|                             1853\n",
       "                                                                                                 ... \n",
       "O=C(NC1CC1)NC1=CNN=C1C1=NC2=CC(CN3CCOCC3)=CC=C2N1 |c:11,26,28,t:8,14,16|                          910\n",
       "CC1CCCC2(C)OC2CC(OC(=O)CC(O)C(C)(C)C(=O)C(C)C1O)\\C(C)=C\\C3=CSC(=N3)C                              757\n",
       "Cl.CN1CCC(C(O)C1)C2=C3OC(=CC(=O)C3=C(O)C=C2O)C4=C(Cl)C=CC=C4                                      693\n",
       "CC1CCCC2OC2CC(OC(=O)CC(O)C(C)(C)C(=O)C(C)C1O)\\C(C)=C\\C3=CSC(=N3)C                                 583\n",
       "[Br-].COCC[N]1C(=[N+](CC2=CN=CC=N2)C3=C1C(=O)C4=C(C=CC=C4)C3=O)C                                  394\n",
       "Name: SMILES, Length: 189, dtype: int64"
      ]
     },
     "execution_count": 19,
     "metadata": {},
     "output_type": "execute_result"
    }
   ],
   "source": [
    "adata_cpi.obs.SMILES.value_counts()"
   ]
  },
  {
   "cell_type": "code",
   "execution_count": 20,
   "id": "7b66091e-9bf8-4a0b-a221-053b837bdca3",
   "metadata": {},
   "outputs": [],
   "source": [
    "adata_cpa.obs['SMILES'] = adata_cpi.obs.SMILES"
   ]
  },
  {
   "cell_type": "code",
   "execution_count": 21,
   "id": "3fde26e3-103c-422c-97f1-ac71bad2f3b2",
   "metadata": {},
   "outputs": [
    {
     "data": {
      "text/plain": [
       "F05_F10_RT_BC_353_Lig_BC_93-0     C[C@H](NC(=O)C(=C\\C1=NC(Br)=CC=C1)\\C#N)C1=CC=C...\n",
       "H02_E09_RT_BC_302_Lig_BC_102-1    CC1=NNC(NC2=NN3C(CC4=CC=C(Cl)C=C4F)=C(C)N=C3C(...\n",
       "B04_E09_RT_BC_325_Lig_BC_104-1    CC1=C2N=C([NH]C2=CC(=C1)N3CCOCC3)C4=C(NCC(O)C5...\n",
       "F05_F10_RT_BC_193_Lig_BC_130      Cl.Cl.C1[C@@H](NC2CCNCC2)[C@@H]1C1=CC=CC=C1 |r...\n",
       "A01_F10_RT_BC_381_Lig_BC_47       O=C(N1CCNCC1)C1=CC=C(\\C=C\\C2=NNC3=C2C=CC=C3)C=...\n",
       "                                                        ...                        \n",
       "F05_E09_RT_BC_261_Lig_BC_62-0     CCN1CCN(CC1)C(=O)CC1=CC=C(NC2=NC(NC3=CC=C(C=C3...\n",
       "F10_E09_RT_BC_317_Lig_BC_213-0    CCCCCCCCCCCCCCCC1=CC=CC(O)=C1C(O)=O |c:17,20,t...\n",
       "D04_F10_RT_BC_54_Lig_BC_70-1      COC1CC(CCC1OC(=O)C(C)(CO)CO)CC(C)C2CC(=O)C(C)\\...\n",
       "C10_E09_RT_BC_25_Lig_BC_294-1     CN(C)CCC(CSC1=CC=CC=C1)NC2=CC=C(C=C2[N+]([O-])...\n",
       "F06_F10_RT_BC_137_Lig_BC_154-1    N#CC[C@@H](C1CCCC1)N1C=C(C=N1)C1=NC=NC2=C1C=CN...\n",
       "Name: SMILES, Length: 290888, dtype: category\n",
       "Categories (189, object): ['', 'C(CC1=C[NH]C2=CC=CC=C12)NC3=CC=C(NC4=CC=NC=C4..., 'CC1(C)CNC2=CC(=CC=C12)NC(=O)C3=C(NCC4=CC=NC=C..., 'CC1(C)OC2CC3C4CCC5=CC(=O)C=CC5(C)C4(F)C(O)CC3..., ..., '[Na+].CCCC(CCC)C([O-])=O', '[Na+].COC1=CC(=C(\\C=C\\[S](=O)(=O)CC2=CC=C(OC)..., '[Na+].[O-][S](=O)(=O)CCS', '[Na]OC(=O)CCCC1=CC=CC=C1 |c:9,11,t:7|']"
      ]
     },
     "execution_count": 21,
     "metadata": {},
     "output_type": "execute_result"
    }
   ],
   "source": [
    "adata_cpa.obs['SMILES']"
   ]
  },
  {
   "cell_type": "code",
   "execution_count": 22,
   "id": "364a3b7f-4a7f-4464-a126-28628da64a96",
   "metadata": {},
   "outputs": [
    {
     "data": {
      "text/plain": [
       "index\n",
       "F05_F10_RT_BC_353_Lig_BC_93-0     C[C@H](NC(=O)C(=C\\C1=NC(Br)=CC=C1)\\C#N)C1=CC=C...\n",
       "H02_E09_RT_BC_302_Lig_BC_102-1    CC1=NNC(NC2=NN3C(CC4=CC=C(Cl)C=C4F)=C(C)N=C3C(...\n",
       "B04_E09_RT_BC_325_Lig_BC_104-1    CC1=C2N=C([NH]C2=CC(=C1)N3CCOCC3)C4=C(NCC(O)C5...\n",
       "F05_F10_RT_BC_193_Lig_BC_130      Cl.Cl.C1[C@@H](NC2CCNCC2)[C@@H]1C1=CC=CC=C1 |r...\n",
       "A01_F10_RT_BC_381_Lig_BC_47       O=C(N1CCNCC1)C1=CC=C(\\C=C\\C2=NNC3=C2C=CC=C3)C=...\n",
       "                                                        ...                        \n",
       "F05_E09_RT_BC_261_Lig_BC_62-0     CCN1CCN(CC1)C(=O)CC1=CC=C(NC2=NC(NC3=CC=C(C=C3...\n",
       "F10_E09_RT_BC_317_Lig_BC_213-0    CCCCCCCCCCCCCCCC1=CC=CC(O)=C1C(O)=O |c:17,20,t...\n",
       "D04_F10_RT_BC_54_Lig_BC_70-1      COC1CC(CCC1OC(=O)C(C)(CO)CO)CC(C)C2CC(=O)C(C)\\...\n",
       "C10_E09_RT_BC_25_Lig_BC_294-1     CN(C)CCC(CSC1=CC=CC=C1)NC2=CC=C(C=C2[N+]([O-])...\n",
       "F06_F10_RT_BC_137_Lig_BC_154-1    N#CC[C@@H](C1CCCC1)N1C=C(C=N1)C1=NC=NC2=C1C=CN...\n",
       "Name: SMILES, Length: 290888, dtype: category\n",
       "Categories (189, object): ['', 'C(CC1=C[NH]C2=CC=CC=C12)NC3=CC=C(NC4=CC=NC=C4..., 'CC1(C)CNC2=CC(=CC=C12)NC(=O)C3=C(NCC4=CC=NC=C..., 'CC1(C)OC2CC3C4CCC5=CC(=O)C=CC5(C)C4(F)C(O)CC3..., ..., '[Na+].CCCC(CCC)C([O-])=O', '[Na+].COC1=CC(=C(\\C=C\\[S](=O)(=O)CC2=CC=C(OC)..., '[Na+].[O-][S](=O)(=O)CCS', '[Na]OC(=O)CCCC1=CC=CC=C1 |c:9,11,t:7|']"
      ]
     },
     "execution_count": 22,
     "metadata": {},
     "output_type": "execute_result"
    }
   ],
   "source": [
    "adata_cpi.obs.SMILES"
   ]
  },
  {
   "cell_type": "code",
   "execution_count": 23,
   "id": "867bbc79",
   "metadata": {},
   "outputs": [
    {
     "name": "stdout",
     "output_type": "stream",
     "text": [
      "We have 186 drug names in adata_cpa: \n",
      "\n",
      "\t['control', 'ENMD-2076', 'nan', 'BRD4770', 'GSK-LSD1', 'Baricitinib', 'Entacapone', 'RG108', 'WP1066', 'Curcumin', 'Capecitabine', 'Mesna', 'Tubastatin', 'Tranylcypromine', 'Busulfan', 'Cerdulatinib', 'Tofacitinib', 'PD98059', 'AICAR', 'SRT2104', 'Tacedinaline', 'Valproic', 'Triamcinolone', 'CEP-33779', 'Clevudine', 'Anacardic', 'Filgotinib', 'MK-0752', 'Altretamine', 'NVP-BSK805', 'GSK', 'UNC0631', 'Tazemetostat', 'WHI-P154', 'Sirtinol', 'PJ34', 'Sodium', 'Daphnetin', 'Ofloxacin', 'Meprednisone', 'AG-490', 'S3I-201', 'IOX2', 'JNJ-26854165', 'Motesanib', 'Zileuton', 'MC1568', 'Streptozotocin', 'INO-1001', 'Fasudil', 'Ramelteon', 'Entinostat', 'Selisistat', 'Aminoglutethimide', 'S-Ruxolitinib', 'Costunolide', 'A-366', 'Andarine', 'Fluorouracil', 'Quercetin', 'Fulvestrant', 'TGX-221', 'UNC1999', 'Tie2', 'Ki8751', 'UNC0379', 'Resminostat', 'AC480', 'AG-14361', 'PD173074', 'Divalproex', 'EED226', 'Maraviroc', 'Ki16425', 'Carmofur', 'CUDC-101', 'SL-327', 'Thalidomide', 'Thiotepa', 'Roscovitine', 'Avagacestat', 'Glesatinib?(MGCD265)', 'Amisulpride', 'BMS-265246', 'Linifanib', 'PFI-1', 'Gandotinib', 'Droxinostat', 'Veliparib', 'M344', 'Obatoclax', 'Azacitidine', 'Prednisone', 'SGI-1776', 'Ruxolitinib', 'Lomustine', 'Givinostat', 'Nilotinib', 'Belinostat', 'FLLL32', 'Momelotinib', 'AZ', 'Mercaptopurine', 'Trichostatin', 'Disulfiram', 'MK-5108', 'Cyclocytidine', 'Sorafenib', 'KW-2449', 'TG101209', 'Cediranib', 'Celecoxib', 'Navitoclax', 'JNJ-7706621', 'Lenalidomide', 'SB431542', 'SRT3025', 'JQ1', 'Toremifene', 'Resveratrol', 'Lapatinib', 'Aurora', '2-Methoxyestradiol', 'G007-LK', 'Cimetidine', 'Pelitinib', 'CYC116', 'Roxadustat', 'Ellagic', 'Nintedanib', 'PCI-34051', 'Pracinostat', 'BMS-536924', 'Abexinostat', 'PF-3845', 'XAV-939', 'Crizotinib', 'ITSA-1', 'Fedratinib', 'AR-42', 'ABT-737', 'ZM', 'Enzastaurin', 'Vandetanib', 'Regorafenib', 'AZD1480', 'AMG-900', 'BMS-754807', 'Alendronate', 'Panobinostat', 'BMS-911543', 'Raltitrexed', 'TMP195', 'Dasatinib', 'GSK1070916', 'CUDC-907', 'Bisindolylmaleimide', 'Trametinib', 'PF-573228', 'Bosutinib', 'Dacinostat', 'Danusertib', 'Ivosidenib', 'Rucaparib', 'Pirarubicin', 'Barasertib', 'Quisinostat', 'Decitabine', 'MLN8054', 'Tanespimycin', 'Tucidinostat', 'SNS-314', 'Temsirolimus', 'Iniparib', 'PHA-680632', 'Alisertib', 'TAK-901', 'Hesperadin', 'Rigosertib', 'Luminespib', 'Tozasertib', 'Mocetinostat', 'AT9283', 'Patupilone', 'Flavopiridol', 'Epothilone']\n",
      "\n",
      "\n",
      "We have 188 drug names in adata_cpi: \n",
      "\n",
      "\t['control', 'ENMD-2076', 'GSK-LSD1', 'BRD4770', 'Baricitinib', 'Entacapone', 'RG108', 'WP1066', 'Curcumin', 'Capecitabine', 'Mesna', 'Tubastatin', 'Tranylcypromine', 'Busulfan', 'Cerdulatinib', 'Tofacitinib', 'PD98059', 'AICAR', 'Tacedinaline', 'SRT2104', 'Valproic', 'Triamcinolone', 'CEP-33779', 'Clevudine', 'Anacardic', 'MK-0752', 'Filgotinib', 'Altretamine', 'GSK', 'NVP-BSK805', 'UNC0631', 'Tazemetostat', 'WHI-P154', 'Sirtinol', 'PJ34', 'Daphnetin', 'Sodium', 'Ofloxacin', 'Meprednisone', 'AG-490', 'S3I-201', 'IOX2', 'JNJ-26854165', 'Motesanib', 'Zileuton', 'MC1568', 'Streptozotocin', 'INO-1001', 'Fasudil', 'Ramelteon', 'Entinostat', 'Selisistat', 'Aminoglutethimide', 'S-Ruxolitinib', 'Costunolide', 'A-366', 'Andarine', 'Quercetin', 'Fluorouracil', 'Fulvestrant', 'TGX-221', 'UNC1999', 'Tie2', 'Ki8751', 'UNC0379', 'Resminostat', 'AC480', 'AG-14361', 'PD173074', 'Divalproex', 'EED226', 'Maraviroc', 'Ki16425', 'CUDC-101', 'Carmofur', 'SL-327', 'Thalidomide', 'Thiotepa', 'Roscovitine', 'Glesatinib?(MGCD265)', 'Avagacestat', 'Amisulpride', 'BMS-265246', 'Linifanib', 'PFI-1', 'Droxinostat', 'Gandotinib', 'Veliparib', 'M344', 'Obatoclax', 'Azacitidine', 'Prednisone', 'SGI-1776', 'Ruxolitinib', 'Lomustine', 'Givinostat', 'Nilotinib', 'Belinostat', 'FLLL32', 'Momelotinib', 'AZ', 'Mercaptopurine', 'Trichostatin', 'Disulfiram', 'MK-5108', 'Cyclocytidine', 'Sorafenib', 'KW-2449', 'TG101209', 'Cediranib', 'Celecoxib', 'Navitoclax', 'JNJ-7706621', 'Lenalidomide', 'SB431542', 'SRT1720', 'SRT3025', 'JQ1', 'Toremifene', 'Resveratrol', 'Lapatinib', 'Aurora', '2-Methoxyestradiol', 'G007-LK', 'Cimetidine', 'Pelitinib', 'Roxadustat', 'CYC116', 'Ellagic', 'PCI-34051', 'Nintedanib', 'Pracinostat', 'Abexinostat', 'BMS-536924', 'PF-3845', 'XAV-939', 'Crizotinib', 'ITSA-1', 'Fedratinib', 'AR-42', 'ZM', 'ABT-737', 'Enzastaurin', 'Vandetanib', 'Regorafenib', 'AZD1480', 'AMG-900', 'BMS-754807', 'Alendronate', 'Panobinostat', 'BMS-911543', 'Raltitrexed', 'TMP195', 'Dasatinib', 'GSK1070916', 'CUDC-907', 'Bisindolylmaleimide', 'Trametinib', 'PF-573228', 'Bosutinib', 'Dacinostat', 'Danusertib', 'Ivosidenib', 'Rucaparib', 'Pirarubicin', 'Barasertib', 'Quisinostat', 'Decitabine', 'MLN8054', 'Tucidinostat', 'Tanespimycin', 'SNS-314', 'Temsirolimus', 'Iniparib', 'PHA-680632', 'Alisertib', 'TAK-901', 'Hesperadin', 'Rigosertib', 'Luminespib', 'Tozasertib', 'Mocetinostat', 'Alvespimycin', 'AT9283', 'Patupilone', 'Flavopiridol', 'Epothilone', 'YM155']\n"
     ]
    }
   ],
   "source": [
    "print(f'We have {len(list(adata_cpa.obs.condition.value_counts().index))} drug names in adata_cpa: \\n\\n\\t{list(adata_cpa.obs.condition.value_counts().index)}\\n\\n')\n",
    "print(f'We have {len(list(adata_cpi.obs.condition.value_counts().index))} drug names in adata_cpi: \\n\\n\\t{list(adata_cpi.obs.condition.value_counts().index)}')"
   ]
  },
  {
   "cell_type": "code",
   "execution_count": 24,
   "id": "467486f0",
   "metadata": {},
   "outputs": [
    {
     "name": "stdout",
     "output_type": "stream",
     "text": [
      "ENMD-2076: 2\n",
      "nan: 3\n"
     ]
    }
   ],
   "source": [
    "for pert, df in adata_cpa.obs.groupby('condition'):\n",
    "    n_smiles = (df.SMILES.value_counts()!=0).sum()\n",
    "    print(f\"{pert}: {n_smiles}\") if n_smiles > 1 else None"
   ]
  },
  {
   "cell_type": "code",
   "execution_count": 25,
   "id": "d3316c26",
   "metadata": {},
   "outputs": [
    {
     "name": "stdout",
     "output_type": "stream",
     "text": [
      "['SRT1720', 'Alvespimycin', 'YM155']\n",
      "Categories (3, object): ['Alvespimycin', 'SRT1720', 'YM155']\n",
      "\n",
      "For SRT1720, we have 0 entries in adata_cpa\n",
      "\n",
      "For Alvespimycin, we have 0 entries in adata_cpa\n",
      "\n",
      "For YM155, we have 0 entries in adata_cpa\n"
     ]
    }
   ],
   "source": [
    "cond = adata_cpa.obs.condition=='nan'\n",
    "nan_conditions = adata_cpi[adata_cpa[cond].obs_names].obs.condition.value_counts().index.values\n",
    "print(nan_conditions)\n",
    "for condition in nan_conditions: \n",
    "    cond = adata_cpa.obs.condition == condition\n",
    "    print(f'\\nFor {condition}, we have {cond.sum()} entries in adata_cpa')"
   ]
  },
  {
   "cell_type": "code",
   "execution_count": 26,
   "id": "810b2d20",
   "metadata": {},
   "outputs": [
    {
     "name": "stdout",
     "output_type": "stream",
     "text": [
      "Before reassignment: #nan values in adata_cpa: 2836\n",
      "After reassignment: #nan values in adata_cpa: 0\n"
     ]
    },
    {
     "data": {
      "text/plain": [
       "F05_F10_RT_BC_353_Lig_BC_93-0            WP1066\n",
       "H02_E09_RT_BC_302_Lig_BC_102-1       Gandotinib\n",
       "B04_E09_RT_BC_325_Lig_BC_104-1       BMS-536924\n",
       "F05_F10_RT_BC_193_Lig_BC_130           GSK-LSD1\n",
       "A01_F10_RT_BC_381_Lig_BC_47             KW-2449\n",
       "                                      ...      \n",
       "F05_E09_RT_BC_261_Lig_BC_62-0            Aurora\n",
       "F10_E09_RT_BC_317_Lig_BC_213-0        Anacardic\n",
       "D04_F10_RT_BC_54_Lig_BC_70-1       Temsirolimus\n",
       "C10_E09_RT_BC_25_Lig_BC_294-1           ABT-737\n",
       "F06_F10_RT_BC_137_Lig_BC_154-1    S-Ruxolitinib\n",
       "Name: condition, Length: 290888, dtype: object"
      ]
     },
     "execution_count": 26,
     "metadata": {},
     "output_type": "execute_result"
    }
   ],
   "source": [
    "cond = adata_cpa.obs.condition=='nan'\n",
    "print(f'Before reassignment: #nan values in adata_cpa: {cond.sum()}')\n",
    "adata_cpa.obs.condition = list(adata_cpa.obs.condition)\n",
    "adata_cpa.obs.loc[cond, 'condition'] = adata_cpi.obs.condition[cond]\n",
    "print(f'After reassignment: #nan values in adata_cpa: {(adata_cpa.obs.condition==\"nan\").sum()}')\n",
    "adata_cpa.obs.condition.astype('category')\n",
    "adata_cpa.obs.condition"
   ]
  },
  {
   "cell_type": "code",
   "execution_count": 27,
   "id": "2759d7b6",
   "metadata": {},
   "outputs": [
    {
     "name": "stdout",
     "output_type": "stream",
     "text": [
      "\n",
      "For SRT1720, we have 1512 entries in adata_cpa\n",
      "\n",
      "For Alvespimycin, we have 930 entries in adata_cpa\n",
      "\n",
      "For YM155, we have 394 entries in adata_cpa\n"
     ]
    }
   ],
   "source": [
    "for condition in ['SRT1720', 'Alvespimycin', 'YM155']: \n",
    "    cond = adata_cpa.obs.condition == condition\n",
    "    print(f'\\nFor {condition}, we have {cond.sum()} entries in adata_cpa')"
   ]
  },
  {
   "cell_type": "code",
   "execution_count": 28,
   "id": "f19c63df",
   "metadata": {},
   "outputs": [
    {
     "data": {
      "text/plain": [
       "['']"
      ]
     },
     "execution_count": 28,
     "metadata": {},
     "output_type": "execute_result"
    }
   ],
   "source": [
    "counts = adata_cpi[adata_cpi.obs.condition=='control'].obs.SMILES.value_counts()\n",
    "list(counts.index[counts>0])"
   ]
  },
  {
   "cell_type": "code",
   "execution_count": 29,
   "id": "16bc63cb",
   "metadata": {},
   "outputs": [
    {
     "name": "stdout",
     "output_type": "stream",
     "text": [
      "For ENMD-2076 in adata_cpi, we have this SMILES string: \n",
      "\n",
      "\tCN1CCN(CC1)C1=CC(NC2=NNC(C)=C2)=NC(\\C=C\\C2=CC=CC=C2)=N1 |c:16,18,25,27,29,t:8,12,23|\n",
      "\n",
      "\n",
      "\n",
      "For ENMD-2076 in adata_cpi, we have this SMILES string: \n",
      "\n",
      "\tO[C@H]([C@@H](O)C(O)=O)C(O)=O.CN1CCN(CC1)C1=NC(\\C=C\\C2=CC=CC=C2)=NC(NC2=NNC(C)=C2)=C1 |r,c:24,26,28,36,38,t:17,22,32|\n",
      "\n",
      "\n",
      "\n"
     ]
    }
   ],
   "source": [
    "import numpy as np\n",
    "condition = 'ENMD-2076'\n",
    "cond_cpa = adata_cpa.obs.condition==condition\n",
    "cond_cpi = adata_cpi.obs.condition==condition\n",
    "assert np.where(cond_cpa==cond_cpi, 0, 1).sum()==0\n",
    "counts = adata_cpi[cond_cpi].obs.SMILES.value_counts()\n",
    "[print(f'For {condition} in adata_cpi, we have this SMILES string: \\n\\n\\t{smiles}\\n\\n\\n')for smiles in list(counts.index[counts>0])];"
   ]
  },
  {
   "cell_type": "code",
   "execution_count": 30,
   "id": "215e6fdb",
   "metadata": {},
   "outputs": [],
   "source": [
    "smiles = list(counts.index[counts>0])[1]\n",
    "adata_cpa.obs.condition = list(adata_cpa.obs.condition)\n",
    "adata_cpa.obs.loc[adata_cpa.obs.SMILES==smiles, 'condition'] = 'ENMD-2076_TartaricAcid'\n",
    "adata_cpa.obs.condition = adata_cpa.obs.condition.astype('category')"
   ]
  },
  {
   "cell_type": "code",
   "execution_count": 31,
   "id": "2625673c",
   "metadata": {},
   "outputs": [],
   "source": [
    "for pert, df in adata_cpa.obs.groupby('condition'):\n",
    "    n_smiles = (df.SMILES.value_counts()!=0).sum()\n",
    "    print(f\"{pert}: {n_smiles}\") if n_smiles > 1 else None"
   ]
  },
  {
   "cell_type": "code",
   "execution_count": 32,
   "id": "6efc46aa",
   "metadata": {},
   "outputs": [
    {
     "data": {
      "text/plain": [
       "['control', 'GSK-LSD1', 'BRD4770', 'Baricitinib', 'Entacapone', ..., 'AT9283', 'Patupilone', 'Flavopiridol', 'Epothilone', 'YM155']\n",
       "Length: 189\n",
       "Categories (189, object): ['2-Methoxyestradiol', 'A-366', 'ABT-737', 'AC480', ..., 'YM155', 'ZM', 'Zileuton', 'control']"
      ]
     },
     "execution_count": 32,
     "metadata": {},
     "output_type": "execute_result"
    }
   ],
   "source": [
    "adata_cpa.obs.condition.value_counts().index.values"
   ]
  },
  {
   "cell_type": "code",
   "execution_count": 35,
   "id": "e9656ff9",
   "metadata": {},
   "outputs": [
    {
     "data": {
      "text/plain": [
       "AnnData object with n_obs × n_vars = 7560 × 5000\n",
       "    obs: 'cell_type', 'dose', 'dose_character', 'dose_pattern', 'g1s_score', 'g2m_score', 'pathway', 'pathway_level_1', 'pathway_level_2', 'product_dose', 'product_name', 'proliferation_index', 'replicate', 'size_factor', 'target', 'vehicle', 'pert_iname', 'cond_new', 'dose_new', 'name_in_lincs', 'split', 'control', 'n_counts', 'condition', 'dose_val', 'drug_dose_name', 'cov_drug_dose_name', 'old_split', 'split_all', 'ct_dose', 'split1', 'split2', 'split3', 'split4', 'split5', 'split6', 'split7', 'split8', 'split9', 'split10', 'split11', 'split12', 'split13', 'split14', 'split15', 'split16', 'split17', 'split18', 'split19', 'split20', 'split21', 'split22', 'split23', 'split24', 'split25', 'split26', 'split27', 'split28', 'cov_drug', 'SMILES', 'batch'\n",
       "    var: 'id', 'highly_variable', 'means', 'dispersions', 'dispersions_norm', 'num_cells_expressed-0-0', 'num_cells_expressed-1-0', 'num_cells_expressed-1'\n",
       "    uns: 'hvg', 'rank_genes_groups_cov', 'splits'"
      ]
     },
     "execution_count": 35,
     "metadata": {},
     "output_type": "execute_result"
    }
   ],
   "source": [
    "adatas = []\n",
    "\n",
    "for perturbation in np.unique(adata_cpa.obs.condition): \n",
    "    tmp = adata_cpa[adata_cpa.obs.condition == perturbation].copy()\n",
    "    tmp = sc.pp.subsample(tmp, n_obs=40, copy=True)\n",
    "    adatas.append(tmp)\n",
    "\n",
    "adata_cpa_subset = adatas[0].concatenate(adatas[1:])\n",
    "adata_cpa_subset.uns = adata_cpa.uns.copy()\n",
    "\n",
    "adata_cpa_subset"
   ]
  },
  {
   "cell_type": "code",
   "execution_count": 36,
   "id": "7afe61ee-cb21-4c3d-a1a1-f0a3fd10ecc4",
   "metadata": {},
   "outputs": [
    {
     "name": "stderr",
     "output_type": "stream",
     "text": [
      "... storing 'dose_character' as categorical\n",
      "... storing 'dose_pattern' as categorical\n",
      "... storing 'pathway' as categorical\n",
      "... storing 'pathway_level_1' as categorical\n",
      "... storing 'pathway_level_2' as categorical\n",
      "... storing 'product_dose' as categorical\n",
      "... storing 'product_name' as categorical\n",
      "... storing 'target' as categorical\n",
      "... storing 'pert_iname' as categorical\n",
      "... storing 'cond_new' as categorical\n",
      "... storing 'dose_new' as categorical\n",
      "... storing 'name_in_lincs' as categorical\n",
      "... storing 'split' as categorical\n",
      "... storing 'condition' as categorical\n",
      "... storing 'drug_dose_name' as categorical\n",
      "... storing 'cov_drug_dose_name' as categorical\n",
      "... storing 'old_split' as categorical\n",
      "... storing 'split_all' as categorical\n",
      "... storing 'ct_dose' as categorical\n",
      "... storing 'split1' as categorical\n",
      "... storing 'split2' as categorical\n",
      "... storing 'split3' as categorical\n",
      "... storing 'split4' as categorical\n",
      "... storing 'split5' as categorical\n",
      "... storing 'split6' as categorical\n",
      "... storing 'split7' as categorical\n",
      "... storing 'split8' as categorical\n",
      "... storing 'split9' as categorical\n",
      "... storing 'split10' as categorical\n",
      "... storing 'split11' as categorical\n",
      "... storing 'split12' as categorical\n",
      "... storing 'split13' as categorical\n",
      "... storing 'split14' as categorical\n",
      "... storing 'split15' as categorical\n",
      "... storing 'split16' as categorical\n",
      "... storing 'split17' as categorical\n",
      "... storing 'split18' as categorical\n",
      "... storing 'split19' as categorical\n",
      "... storing 'split20' as categorical\n",
      "... storing 'split21' as categorical\n",
      "... storing 'split22' as categorical\n",
      "... storing 'split23' as categorical\n",
      "... storing 'split24' as categorical\n",
      "... storing 'split25' as categorical\n",
      "... storing 'split26' as categorical\n",
      "... storing 'split27' as categorical\n",
      "... storing 'split28' as categorical\n",
      "... storing 'cov_drug' as categorical\n",
      "... storing 'SMILES' as categorical\n"
     ]
    }
   ],
   "source": [
    "adata_cpa.write(adata_out)\n",
    "adata_cpa_subset.write(adata_out_subset)"
   ]
  },
  {
   "cell_type": "markdown",
   "id": "bfc9546e",
   "metadata": {},
   "source": [
    "### Loading the result for `adata_out`"
   ]
  },
  {
   "cell_type": "code",
   "execution_count": 10,
   "id": "ad5d19e9",
   "metadata": {},
   "outputs": [
    {
     "data": {
      "text/plain": [
       "10.0       2085\n",
       "100.0      1927\n",
       "1000.0     1845\n",
       "10000.0    1663\n",
       "0.0          40\n",
       "Name: dose, dtype: int64"
      ]
     },
     "execution_count": 10,
     "metadata": {},
     "output_type": "execute_result"
    }
   ],
   "source": [
    "adata = sc.read(adata_out_subset)\n",
    "adata.obs.dose.value_counts()"
   ]
  },
  {
   "cell_type": "code",
   "execution_count": 11,
   "id": "4c3be54b",
   "metadata": {},
   "outputs": [
    {
     "data": {
      "text/plain": [
       "AnnData object with n_obs × n_vars = 7560 × 5000\n",
       "    obs: 'cell_type', 'dose', 'dose_character', 'dose_pattern', 'g1s_score', 'g2m_score', 'pathway', 'pathway_level_1', 'pathway_level_2', 'product_dose', 'product_name', 'proliferation_index', 'replicate', 'size_factor', 'target', 'vehicle', 'pert_iname', 'cond_new', 'dose_new', 'name_in_lincs', 'split', 'control', 'n_counts', 'condition', 'dose_val', 'drug_dose_name', 'cov_drug_dose_name', 'old_split', 'split_all', 'ct_dose', 'split1', 'split2', 'split3', 'split4', 'split5', 'split6', 'split7', 'split8', 'split9', 'split10', 'split11', 'split12', 'split13', 'split14', 'split15', 'split16', 'split17', 'split18', 'split19', 'split20', 'split21', 'split22', 'split23', 'split24', 'split25', 'split26', 'split27', 'split28', 'cov_drug', 'SMILES', 'batch'\n",
       "    var: 'id', 'highly_variable', 'means', 'dispersions', 'dispersions_norm', 'num_cells_expressed-0-0', 'num_cells_expressed-1-0', 'num_cells_expressed-1'\n",
       "    uns: 'hvg', 'rank_genes_groups_cov', 'splits'"
      ]
     },
     "execution_count": 11,
     "metadata": {},
     "output_type": "execute_result"
    }
   ],
   "source": [
    "adata"
   ]
  },
  {
   "cell_type": "code",
   "execution_count": null,
   "id": "3717f78d",
   "metadata": {},
   "outputs": [],
   "source": []
  }
 ],
 "metadata": {
  "interpreter": {
   "hash": "7775ea0a46178fb16f10167b5195178edd1ef843bb85410053db373359e7ce11"
  },
  "kernelspec": {
   "display_name": "Python 3",
   "language": "python",
   "name": "python3"
  },
  "language_info": {
   "codemirror_mode": {
    "name": "ipython",
    "version": 3
   },
   "file_extension": ".py",
   "mimetype": "text/x-python",
   "name": "python",
   "nbconvert_exporter": "python",
   "pygments_lexer": "ipython3",
   "version": "3.8.8"
  }
 },
 "nbformat": 4,
 "nbformat_minor": 5
}
