{
 "cells": [
  {
   "cell_type": "markdown",
   "id": "ffeffce3-423b-4fe1-bfed-ba0ec6144d7d",
   "metadata": {},
   "source": [
    "**Requirements:**\n",
    "* Trained models\n",
    "\n",
    "**Outputs:** \n",
    "* none \n",
    "___\n",
    "# Imports"
   ]
  },
  {
   "cell_type": "code",
   "execution_count": 3,
   "id": "cf0202ee-03ec-4495-8c86-fbd0b51a3640",
   "metadata": {},
   "outputs": [
    {
     "name": "stderr",
     "output_type": "stream",
     "text": [
      "Using backend: pytorch[22:00:19] /opt/dgl/src/runtime/tensordispatch.cc:43: TensorDispatcher: dlopen failed: /home/icb/leon.hetzel/miniconda3/envs/chemical_CPA/lib/python3.7/site-packages/dgl/tensoradapter/pytorch/libtensoradapter_pytorch_1.10.1.so: cannot open shared object file: No such file or directory\n",
      "\n"
     ]
    }
   ],
   "source": [
    "import matplotlib\n",
    "import umap.plot\n",
    "import matplotlib.pyplot as plt\n",
    "import numpy as np\n",
    "import pandas as pd\n",
    "import scanpy as sc\n",
    "import seaborn as sn\n",
    "\n",
    "from utils import load_config, load_dataset, load_smiles, load_model, compute_drug_embeddings, compute_pred\n",
    "from compert.data import load_dataset_splits\n",
    "\n",
    "matplotlib.style.use(\"fivethirtyeight\")\n",
    "matplotlib.style.use(\"seaborn-talk\")\n",
    "matplotlib.rcParams['font.family'] = \"monospace\"\n",
    "matplotlib.rcParams['figure.dpi'] = 60\n",
    "matplotlib.pyplot.rcParams['savefig.facecolor'] = 'white'\n",
    "sn.set_context(\"poster\")"
   ]
  },
  {
   "cell_type": "code",
   "execution_count": 4,
   "id": "0a4c8e9e-00d0-4c9c-b676-17dd904f33c1",
   "metadata": {},
   "outputs": [],
   "source": [
    "%load_ext autoreload\n",
    "%autoreload 2"
   ]
  },
  {
   "cell_type": "markdown",
   "id": "cc2595fa-425f-43f4-94e2-27d95282cfd7",
   "metadata": {},
   "source": [
    "# Load and analyse model \n",
    "* Define `seml_collection` and `model_hash` to load data and model"
   ]
  },
  {
   "cell_type": "code",
   "execution_count": 5,
   "id": "0582a055-1b72-45d1-afe7-98033e0e8888",
   "metadata": {},
   "outputs": [],
   "source": [
    "seml_collection = \"finetuning_num_genes\"\n",
    "# split_ho_pathway, append_ae_layer: true\n",
    "model_hash_pretrained = \"70290e4f42ac4cb19246fafa0b75ccb6\" # \"config.model.load_pretrained\": true, \n",
    "model_hash_scratch = \"00e7e9c7979f90d1325f25f9ff4e3fcb\" # \"config.model.load_pretrained\": false, \n",
    "\n",
    "# split_ood_finetuning, append_ae_layer: true\n",
    "model_hash_pretrained = \"bd001c8d557edffe9df9e6bf09dc4120\" # \"config.model.load_pretrained\": true, \n",
    "model_hash_scratch = \"6e9d00880375aa450a8e5de60250659f\" # \"config.model.load_pretrained\": false, \n",
    "\n",
    "seml_collection = \"sciplex_hparam\"\n",
    "# rdkit \n",
    "# split_ood_finetuning, append_ae_layer: false\n",
    "model_hash_pretrained = \"d9ee464c93a0d2d947e9115f8d834f22\" # \"config.model.load_pretrained\": true, \n",
    "model_hash_scratch = \"0a929eab639127e304271036fe478e0b\" # \"config.model.load_pretrained\": false, \n",
    "\n",
    "# grover\n",
    "# split_ood_finetuning, append_ae_layer: false\n",
    "model_hash_pretrained = \"bacf2e0b3f9dee9078a97c5216bf7f1c\" # \"config.model.load_pretrained\": true, \n",
    "model_hash_scratch = \"d635df7c184dfff217e09ca93395604b\" # \"config.model.load_pretrained\": false, "
   ]
  },
  {
   "cell_type": "markdown",
   "id": "dfca9c7b-806f-43bb-ae50-9e79345323d9",
   "metadata": {},
   "source": [
    "## Load config"
   ]
  },
  {
   "cell_type": "code",
   "execution_count": 6,
   "id": "b24e760f-7d62-42b3-bb64-9a2b125622fb",
   "metadata": {},
   "outputs": [
    {
     "data": {
      "application/vnd.jupyter.widget-view+json": {
       "model_id": "55188374406e4a60995075a10309df46",
       "version_major": 2,
       "version_minor": 0
      },
      "text/plain": [
       "  0%|          | 0/1 [00:00<?, ?it/s]"
      ]
     },
     "metadata": {},
     "output_type": "display_data"
    },
    {
     "data": {
      "application/vnd.jupyter.widget-view+json": {
       "model_id": "49e4c89ebd924ddaae54f2a11f31c542",
       "version_major": 2,
       "version_minor": 0
      },
      "text/plain": [
       "  0%|          | 0/1 [00:00<?, ?it/s]"
      ]
     },
     "metadata": {},
     "output_type": "display_data"
    }
   ],
   "source": [
    "config = load_config(seml_collection, model_hash_pretrained)\n",
    "dataset, key_dict = load_dataset(config)\n",
    "config['dataset']['n_vars'] = dataset.n_vars"
   ]
  },
  {
   "cell_type": "markdown",
   "id": "e3951653-2787-4e7e-ad15-d926ebe0972c",
   "metadata": {},
   "source": [
    "### Load smiles info"
   ]
  },
  {
   "cell_type": "code",
   "execution_count": 7,
   "id": "fbc51c43-7f1e-4e28-b4c3-871cf2ca6596",
   "metadata": {},
   "outputs": [],
   "source": [
    "canon_smiles_unique_sorted, smiles_to_pathway_map, smiles_to_drug_map = load_smiles(config, dataset, key_dict)"
   ]
  },
  {
   "cell_type": "markdown",
   "id": "2b2c3855-54dd-4646-a6fe-e10b737c9f57",
   "metadata": {},
   "source": [
    "#### Define which drugs should be annotaded with list `ood_drugs`"
   ]
  },
  {
   "cell_type": "code",
   "execution_count": 8,
   "id": "1e0580fc-9cdf-4202-9078-7ceaaf510519",
   "metadata": {},
   "outputs": [],
   "source": [
    "ood_drugs = dataset.obs.condition[dataset.obs[config[\"dataset\"][\"data_params\"][\"split_key\"]].isin(['ood'])].unique().to_list()"
   ]
  },
  {
   "cell_type": "markdown",
   "id": "f26e21e1-2e26-4a64-b99d-ef4243df1212",
   "metadata": {},
   "source": [
    "#### Get pathway level 2 annotation for clustering of drug embeddings"
   ]
  },
  {
   "cell_type": "code",
   "execution_count": 9,
   "id": "a278306f-dd5b-4dde-901d-ad8ed1730107",
   "metadata": {},
   "outputs": [],
   "source": [
    "smiles_to_pw_level2_map = {}\n",
    "pw1_to_pw2 = {}\n",
    "\n",
    "for (drug, pw1, pw2), df in dataset.obs.groupby(['SMILES', 'pathway_level_1', 'pathway_level_2']): \n",
    "    smiles_to_pw_level2_map[drug] = pw2\n",
    "    if pw1 in pw1_to_pw2:\n",
    "        pw1_to_pw2[pw1].add(pw2)\n",
    "    else: \n",
    "        pw1_to_pw2[pw1] = {pw2}"
   ]
  },
  {
   "cell_type": "code",
   "execution_count": 10,
   "id": "2de36423-0181-4189-95e0-07028d0bb7b0",
   "metadata": {},
   "outputs": [
    {
     "data": {
      "text/plain": [
       "['DNA methylation',\n",
       " 'Histone acetylation',\n",
       " 'Histone demethylase',\n",
       " 'Bromodomain',\n",
       " 'Histone deacetylation',\n",
       " 'Histone methylation']"
      ]
     },
     "execution_count": 10,
     "metadata": {},
     "output_type": "execute_result"
    }
   ],
   "source": [
    "groups = [\"Epigenetic regulation\"]\n",
    "\n",
    "groups_pw2 = [pw2 for pw in groups for pw2 in pw1_to_pw2[pw]]\n",
    "groups_pw2"
   ]
  },
  {
   "cell_type": "markdown",
   "id": "07fb3703-5e1c-4e66-b146-50dc44b0b470",
   "metadata": {},
   "source": [
    "## Load dataset splits"
   ]
  },
  {
   "cell_type": "code",
   "execution_count": 11,
   "id": "44664d2c-e615-4d43-a69d-33ae5a74ac7e",
   "metadata": {},
   "outputs": [
    {
     "data": {
      "text/plain": [
       "{'covariate_keys': 'cell_type',\n",
       " 'dataset_path': '/storage/groups/ml01/projects/2021_chemicalCPA_leon.hetzel/datasets/sciplex_complete_lincs_genes.h5ad',\n",
       " 'degs_key': 'lincs_DEGs',\n",
       " 'dose_key': 'dose',\n",
       " 'pert_category': 'cov_drug_dose_name',\n",
       " 'perturbation_key': 'condition',\n",
       " 'smiles_key': 'SMILES',\n",
       " 'split_key': 'split_ood_finetuning',\n",
       " 'use_drugs_idx': True}"
      ]
     },
     "execution_count": 11,
     "metadata": {},
     "output_type": "execute_result"
    }
   ],
   "source": [
    "config['dataset']['data_params']"
   ]
  },
  {
   "cell_type": "code",
   "execution_count": 12,
   "id": "eb6ce86c-6ecb-4165-9f60-a17617503770",
   "metadata": {},
   "outputs": [],
   "source": [
    "data_params = config['dataset']['data_params']\n",
    "\n",
    "# #Overwrite split_key \n",
    "# data_params['split_key'] = 'split_ho_epigenetic'\n",
    "\n",
    "datasets = load_dataset_splits(**data_params, return_dataset=False)"
   ]
  },
  {
   "cell_type": "markdown",
   "id": "83fa33c5-41c5-4d1c-a9b3-efd9a69657a7",
   "metadata": {},
   "source": [
    "___\n",
    "## Pretrained model"
   ]
  },
  {
   "cell_type": "code",
   "execution_count": 13,
   "id": "4c966e60-eeab-4749-abdf-2d821e9a05f6",
   "metadata": {},
   "outputs": [],
   "source": [
    "dosages = [1e3, 1e4]\n",
    "cell_lines = [\"A549\", \"K562\", 'MCF7']  # [\"A549\", \"K562\", \"MCF7\"]\n",
    "# cell_lines = ['MCF7']"
   ]
  },
  {
   "cell_type": "code",
   "execution_count": 14,
   "id": "886d036b-23f6-4b23-84cc-197735881f3d",
   "metadata": {},
   "outputs": [
    {
     "data": {
      "application/vnd.jupyter.widget-view+json": {
       "model_id": "240a0c59402f46caa8dd1fa556e013b5",
       "version_major": 2,
       "version_minor": 0
      },
      "text/plain": [
       "  0%|          | 0/1 [00:00<?, ?it/s]"
      ]
     },
     "metadata": {},
     "output_type": "display_data"
    },
    {
     "data": {
      "application/vnd.jupyter.widget-view+json": {
       "model_id": "aa9ed3c79d294a18ac8f453d140d7357",
       "version_major": 2,
       "version_minor": 0
      },
      "text/plain": [
       "  0%|          | 0/1 [00:00<?, ?it/s]"
      ]
     },
     "metadata": {},
     "output_type": "display_data"
    }
   ],
   "source": [
    "config = load_config(seml_collection, model_hash_pretrained)\n",
    "config['dataset']['n_vars'] = dataset.n_vars\n",
    "model_pretrained, embedding_pretrained = load_model(config, canon_smiles_unique_sorted)"
   ]
  },
  {
   "cell_type": "code",
   "execution_count": 22,
   "id": "8db01530-d598-4a91-a2b0-f1b2c444e48c",
   "metadata": {},
   "outputs": [
    {
     "name": "stdout",
     "output_type": "stream",
     "text": [
      "['A549', 'K562', 'MCF7']\n"
     ]
    },
    {
     "data": {
      "application/vnd.jupyter.widget-view+json": {
       "model_id": "ad90312de5064f2bb619b44432ce381d",
       "version_major": 2,
       "version_minor": 0
      },
      "text/plain": [
       "0it [00:00, ?it/s]"
      ]
     },
     "metadata": {},
     "output_type": "display_data"
    },
    {
     "name": "stdout",
     "output_type": "stream",
     "text": [
      "A549_CUDC-101_0.1: 0.73\n",
      "A549_CUDC-101_1.0: 0.55\n",
      "A549_CUDC-907_0.1: 0.20\n",
      "A549_CUDC-907_1.0: 0.12\n",
      "A549_Dacinostat_0.1: 0.61\n",
      "A549_Dacinostat_1.0: 0.55\n",
      "A549_Givinostat_0.1: 0.30\n",
      "A549_Givinostat_1.0: 0.55\n",
      "A549_Hesperadin_0.1: 0.69\n",
      "A549_Hesperadin_1.0: 0.69\n",
      "A549_Pirarubicin_0.1: 0.24\n",
      "A549_Pirarubicin_1.0: 0.08\n",
      "A549_Raltitrexed_0.1: -0.19\n",
      "A549_Raltitrexed_1.0: -0.46\n",
      "A549_Tanespimycin_0.1: 0.37\n",
      "A549_Tanespimycin_1.0: 0.35\n",
      "A549_Trametinib_0.1: 0.40\n",
      "A549_Trametinib_1.0: 0.39\n",
      "K562_CUDC-101_0.1: 0.45\n",
      "K562_CUDC-101_1.0: -0.11\n",
      "K562_CUDC-907_0.1: 0.37\n",
      "K562_CUDC-907_1.0: 0.22\n",
      "K562_Dacinostat_0.1: 0.45\n",
      "K562_Dacinostat_1.0: 0.08\n",
      "K562_Givinostat_0.1: 0.18\n",
      "K562_Givinostat_1.0: 0.43\n",
      "K562_Hesperadin_0.1: 0.27\n",
      "K562_Hesperadin_1.0: 0.21\n",
      "K562_Pirarubicin_0.1: 0.54\n",
      "K562_Pirarubicin_1.0: 0.50\n",
      "K562_Raltitrexed_0.1: 0.37\n",
      "K562_Raltitrexed_1.0: 0.30\n",
      "K562_Tanespimycin_0.1: 0.23\n",
      "K562_Tanespimycin_1.0: -0.17\n",
      "K562_Trametinib_0.1: 0.36\n",
      "K562_Trametinib_1.0: 0.35\n",
      "MCF7_CUDC-101_0.1: 0.69\n",
      "MCF7_CUDC-101_1.0: 0.56\n",
      "MCF7_CUDC-907_0.1: 0.44\n",
      "MCF7_CUDC-907_1.0: 0.07\n",
      "MCF7_Dacinostat_0.1: 0.85\n",
      "MCF7_Dacinostat_1.0: 0.79\n",
      "MCF7_Givinostat_0.1: 0.48\n",
      "MCF7_Givinostat_1.0: 0.82\n",
      "MCF7_Hesperadin_0.1: 0.06\n",
      "MCF7_Hesperadin_1.0: 0.56\n",
      "MCF7_Pirarubicin_0.1: 0.54\n",
      "MCF7_Pirarubicin_1.0: 0.56\n",
      "MCF7_Raltitrexed_0.1: 0.53\n",
      "MCF7_Raltitrexed_1.0: 0.52\n",
      "MCF7_Tanespimycin_0.1: 0.58\n",
      "MCF7_Tanespimycin_1.0: 0.52\n",
      "MCF7_Trametinib_0.1: 0.42\n",
      "MCF7_Trametinib_1.0: 0.45\n"
     ]
    }
   ],
   "source": [
    "drug_r2_pretrained, _ = compute_pred(model_pretrained, \n",
    "                                     datasets['ood'], \n",
    "                                     genes_control=datasets['test_control'].genes, \n",
    "                                     cell_lines=cell_lines,\n",
    "                                     dosages=dosages)"
   ]
  },
  {
   "cell_type": "markdown",
   "id": "95edee6a-44f8-4225-89c7-0102a656d1b4",
   "metadata": {},
   "source": [
    "## Non-pretrained model"
   ]
  },
  {
   "cell_type": "code",
   "execution_count": 16,
   "id": "59afd9cd-74f0-468d-8a90-a115e22af6b1",
   "metadata": {},
   "outputs": [
    {
     "data": {
      "application/vnd.jupyter.widget-view+json": {
       "model_id": "4c20d27cc1004c67a463e430dd57011e",
       "version_major": 2,
       "version_minor": 0
      },
      "text/plain": [
       "  0%|          | 0/1 [00:00<?, ?it/s]"
      ]
     },
     "metadata": {},
     "output_type": "display_data"
    },
    {
     "data": {
      "application/vnd.jupyter.widget-view+json": {
       "model_id": "42e5a904355a43ea85752cf4714e7f19",
       "version_major": 2,
       "version_minor": 0
      },
      "text/plain": [
       "  0%|          | 0/1 [00:00<?, ?it/s]"
      ]
     },
     "metadata": {},
     "output_type": "display_data"
    }
   ],
   "source": [
    "config = load_config(seml_collection, model_hash_scratch)\n",
    "config['dataset']['n_vars'] = dataset.n_vars\n",
    "model_scratch, embedding_scratch = load_model(config, canon_smiles_unique_sorted)"
   ]
  },
  {
   "cell_type": "code",
   "execution_count": 20,
   "id": "7ab2c27d-1044-4c30-b1fd-ab63ada6423b",
   "metadata": {},
   "outputs": [
    {
     "name": "stdout",
     "output_type": "stream",
     "text": [
      "['A549', 'K562', 'MCF7']\n"
     ]
    },
    {
     "data": {
      "application/vnd.jupyter.widget-view+json": {
       "model_id": "26ced0ff94e7412c97d5d21353840eb5",
       "version_major": 2,
       "version_minor": 0
      },
      "text/plain": [
       "0it [00:00, ?it/s]"
      ]
     },
     "metadata": {},
     "output_type": "display_data"
    },
    {
     "name": "stdout",
     "output_type": "stream",
     "text": [
      "A549_CUDC-101_0.1: 0.95\n",
      "A549_CUDC-101_1.0: 0.70\n",
      "A549_CUDC-907_0.1: 0.66\n",
      "A549_CUDC-907_1.0: 0.34\n",
      "A549_Dacinostat_0.1: 0.25\n",
      "A549_Dacinostat_1.0: 0.12\n",
      "A549_Givinostat_0.1: 0.82\n",
      "A549_Givinostat_1.0: 0.18\n",
      "A549_Hesperadin_0.1: 0.89\n",
      "A549_Hesperadin_1.0: 0.90\n",
      "A549_Pirarubicin_0.1: 0.82\n",
      "A549_Pirarubicin_1.0: 0.58\n",
      "A549_Raltitrexed_0.1: 0.29\n",
      "A549_Raltitrexed_1.0: 0.02\n",
      "A549_Tanespimycin_0.1: 0.78\n",
      "A549_Tanespimycin_1.0: 0.74\n",
      "A549_Trametinib_0.1: 0.66\n",
      "A549_Trametinib_1.0: 0.66\n",
      "K562_CUDC-101_0.1: 0.23\n",
      "K562_CUDC-101_1.0: -0.62\n",
      "K562_CUDC-907_0.1: 0.31\n",
      "K562_CUDC-907_1.0: 0.16\n",
      "K562_Dacinostat_0.1: -0.54\n",
      "K562_Dacinostat_1.0: -1.41\n",
      "K562_Givinostat_0.1: 0.42\n",
      "K562_Givinostat_1.0: 0.41\n",
      "K562_Hesperadin_0.1: 0.33\n",
      "K562_Hesperadin_1.0: 0.24\n",
      "K562_Pirarubicin_0.1: 0.51\n",
      "K562_Pirarubicin_1.0: 0.60\n",
      "K562_Raltitrexed_0.1: -0.06\n",
      "K562_Raltitrexed_1.0: -0.20\n",
      "K562_Tanespimycin_0.1: -0.37\n",
      "K562_Tanespimycin_1.0: -0.87\n",
      "K562_Trametinib_0.1: -0.20\n",
      "K562_Trametinib_1.0: -0.26\n",
      "MCF7_CUDC-101_0.1: 0.36\n",
      "MCF7_CUDC-101_1.0: 0.31\n",
      "MCF7_CUDC-907_0.1: 0.20\n",
      "MCF7_CUDC-907_1.0: 0.12\n",
      "MCF7_Dacinostat_0.1: 0.15\n",
      "MCF7_Dacinostat_1.0: 0.00\n",
      "MCF7_Givinostat_0.1: 0.13\n",
      "MCF7_Givinostat_1.0: 0.09\n",
      "MCF7_Hesperadin_0.1: 0.25\n",
      "MCF7_Hesperadin_1.0: 0.68\n",
      "MCF7_Pirarubicin_0.1: 0.35\n",
      "MCF7_Pirarubicin_1.0: 0.36\n",
      "MCF7_Raltitrexed_0.1: 0.25\n",
      "MCF7_Raltitrexed_1.0: 0.23\n",
      "MCF7_Tanespimycin_0.1: -0.07\n",
      "MCF7_Tanespimycin_1.0: -0.02\n",
      "MCF7_Trametinib_0.1: 0.03\n",
      "MCF7_Trametinib_1.0: 0.03\n"
     ]
    }
   ],
   "source": [
    "drug_r2_scratch, _ = compute_pred(model_scratch,\n",
    "                                  datasets['ood'],\n",
    "                                  genes_control=datasets['test_control'].genes, \n",
    "                                  dosages=dosages, \n",
    "                                  cell_lines=cell_lines,\n",
    "                                 ) # non-pretrained"
   ]
  },
  {
   "cell_type": "code",
   "execution_count": 21,
   "id": "3ce533c2-eef2-4bf3-90a7-3351a747e753",
   "metadata": {},
   "outputs": [
    {
     "data": {
      "text/plain": [
       "0.3166501146775705"
      ]
     },
     "execution_count": 21,
     "metadata": {},
     "output_type": "execute_result"
    }
   ],
   "source": [
    "np.mean([max(v, 0) for v in drug_r2_scratch.values()])"
   ]
  },
  {
   "cell_type": "code",
   "execution_count": 23,
   "id": "503ca154-4d11-4de8-9615-f400edc26bd7",
   "metadata": {},
   "outputs": [
    {
     "data": {
      "text/plain": [
       "0.39955469303660923"
      ]
     },
     "execution_count": 23,
     "metadata": {},
     "output_type": "execute_result"
    }
   ],
   "source": [
    "np.mean([max(v, 0) for v in drug_r2_pretrained.values()])"
   ]
  },
  {
   "cell_type": "code",
   "execution_count": 28,
   "id": "0944a2c5-89ae-4a0e-8d49-86017ef12bd1",
   "metadata": {},
   "outputs": [],
   "source": [
    "from utils import evaluate_r2"
   ]
  },
  {
   "cell_type": "code",
   "execution_count": 31,
   "id": "263138e3-8082-48d6-96fa-ef1c2ed1215b",
   "metadata": {},
   "outputs": [
    {
     "name": "stdout",
     "output_type": "stream",
     "text": [
      "Number of different r2 computations: 108\n"
     ]
    },
    {
     "data": {
      "text/plain": [
       "[0.2497908925568616,\n",
       " 0.40579023129410213,\n",
       " 0.22323442002137503,\n",
       " -0.1854762131417239]"
      ]
     },
     "execution_count": 31,
     "metadata": {},
     "output_type": "execute_result"
    }
   ],
   "source": [
    "evaluate_r2(model_pretrained, datasets['ood'], datasets['test_control'].genes)"
   ]
  },
  {
   "cell_type": "code",
   "execution_count": 35,
   "id": "eab84404-9622-41e1-80f0-ca2790d8bf31",
   "metadata": {},
   "outputs": [],
   "source": [
    "from compert.paths import CHECKPOINT_DIR\n",
    "import torch \n",
    "\n",
    "model_checkp = CHECKPOINT_DIR / (model_hash_pretrained + \".pt\")\n",
    "\n",
    "state_dict, cov_state_dicts, init_args, history = torch.load(model_checkp)"
   ]
  },
  {
   "cell_type": "code",
   "execution_count": null,
   "id": "3330a68f-1916-40fd-968f-0303c079eeb9",
   "metadata": {},
   "outputs": [],
   "source": [
    "model_pretrained"
   ]
  },
  {
   "cell_type": "code",
   "execution_count": 36,
   "id": "8724a29e-10ef-4da3-8f90-4e1de0ff19f9",
   "metadata": {},
   "outputs": [
    {
     "data": {
      "text/plain": [
       "[OrderedDict([('network.0.weight',\n",
       "               tensor([[-0.0325,  0.1343,  0.0268,  ...,  0.1718, -0.0321,  0.2684],\n",
       "                       [ 0.0702,  0.0787,  0.0593,  ..., -0.0144,  0.0668,  0.1410],\n",
       "                       [-0.0208,  0.0151,  0.0995,  ...,  0.1422,  0.0176, -0.1239],\n",
       "                       ...,\n",
       "                       [-0.1085,  0.0709, -0.1513,  ...,  0.0088,  0.1379,  0.0973],\n",
       "                       [-0.0739, -0.1386, -0.0178,  ...,  0.0274,  0.0142,  0.0949],\n",
       "                       [-0.0413, -0.0946, -0.0621,  ..., -0.2739,  0.0046,  0.0533]],\n",
       "                      device='cuda:0')),\n",
       "              ('network.0.bias',\n",
       "               tensor([ 2.4672e-06,  1.1429e-05,  3.8087e-07, -2.4739e-06,  8.0045e-06,\n",
       "                        8.7927e-07,  2.7636e-06, -4.3956e-06,  8.6761e-06,  5.4314e-06,\n",
       "                       -6.2532e-06, -3.2854e-06,  3.3048e-06,  3.5233e-06,  4.2617e-06,\n",
       "                       -4.5976e-06, -3.7156e-06, -6.8080e-06, -9.9235e-07,  2.2717e-06,\n",
       "                        1.2541e-06,  1.4871e-06,  6.4578e-06,  1.5759e-06,  4.2630e-06,\n",
       "                       -1.5322e-05, -3.6678e-06, -5.9124e-06, -4.9650e-06,  7.7664e-07,\n",
       "                        1.7121e-06, -4.0798e-06, -6.6614e-07,  1.9231e-05,  2.3664e-06,\n",
       "                        4.6702e-06, -2.4808e-06, -8.7594e-06,  2.2187e-06, -1.4486e-06,\n",
       "                        4.2912e-06, -1.0932e-06,  5.1709e-06, -1.6799e-05,  5.0042e-06,\n",
       "                       -6.6075e-06, -3.2064e-06, -1.5666e-06, -1.1657e-08, -1.5128e-05,\n",
       "                       -2.1386e-06, -4.7968e-06,  3.5472e-06,  4.1187e-06, -4.8755e-06,\n",
       "                        5.2424e-06,  1.6315e-05, -2.7122e-06,  2.7691e-07,  2.0063e-05,\n",
       "                       -5.4785e-06,  2.8849e-06,  3.4638e-07, -2.3883e-06], device='cuda:0')),\n",
       "              ('network.1.weight',\n",
       "               tensor([0.9734, 0.9666, 1.0488, 1.1268, 0.9714, 1.0155, 0.9522, 0.9675, 1.0306,\n",
       "                       1.1564, 1.1270, 1.0644, 1.1540, 1.0985, 1.0464, 1.1724, 1.0616, 1.1138,\n",
       "                       1.2172, 1.0422, 1.1440, 0.9857, 0.9591, 1.0233, 1.2400, 1.0835, 1.0284,\n",
       "                       0.9723, 1.1212, 1.0393, 1.0409, 1.3159, 0.9827, 1.3436, 1.0307, 1.0831,\n",
       "                       1.1448, 1.0675, 1.0925, 0.9674, 1.1791, 1.0292, 1.1044, 1.0434, 1.0735,\n",
       "                       1.1529, 1.0880, 0.9228, 1.2062, 1.1069, 0.8545, 1.2232, 1.1858, 1.1272,\n",
       "                       0.9478, 1.0769, 1.1372, 1.0723, 0.9653, 1.0407, 0.9028, 1.0390, 0.9765,\n",
       "                       0.9426], device='cuda:0')),\n",
       "              ('network.1.bias',\n",
       "               tensor([ 0.0857,  0.1255,  0.0391,  0.1779, -0.0039,  0.0678,  0.0199,  0.0725,\n",
       "                        0.0690,  0.3440,  0.0984,  0.1343,  0.1584,  0.1171,  0.0104,  0.2048,\n",
       "                        0.2729,  0.1732,  0.1487,  0.2150,  0.1175, -0.0689,  0.0451,  0.2050,\n",
       "                        0.1133,  0.1919, -0.0129,  0.0712,  0.2067,  0.1845,  0.0180,  0.1274,\n",
       "                       -0.1387,  0.0634, -0.0374,  0.1158,  0.0851, -0.0012,  0.0410, -0.0066,\n",
       "                       -0.0065,  0.2346, -0.0444, -0.1314,  0.1915,  0.4751,  0.0724, -0.0885,\n",
       "                        0.2939, -0.0033,  0.0865,  0.2745,  0.1463,  0.0037, -0.0615,  0.1186,\n",
       "                        0.1468,  0.0890, -0.0185,  0.0328, -0.1293, -0.1229,  0.2684, -0.0543],\n",
       "                      device='cuda:0')),\n",
       "              ('network.1.running_mean',\n",
       "               tensor([ -6.1594,   3.2926, -22.2102,  -6.8102,  -1.0712,  -7.1936,  -4.9032,\n",
       "                         1.5526,  -7.5504,  15.5591,   7.2073,   6.1710,  -3.4556,  -4.4533,\n",
       "                        -7.9250,  -6.4967,  -6.6192,   1.0069,   3.7560,   9.9141,   8.8504,\n",
       "                        13.7205,  -0.0274,  -5.2563,   5.2215,  -5.0845,  -0.2757,  -7.8266,\n",
       "                        -4.8714, -13.6377,  12.0713,   2.0899,  12.0126,  -0.1677,   4.1884,\n",
       "                        -4.4179,  -3.3836,   1.1368, -11.8235,  -3.2441,  11.5490,   4.3947,\n",
       "                       -11.7022,  -2.0596,  -4.7500,  -8.9171,  -4.7628,  14.4941,  -8.3313,\n",
       "                        -2.0972,   6.2294,  -0.9352,  -3.9652,   7.2525,  -5.0616,   2.6940,\n",
       "                        -3.9352,  -4.2080,  -4.3828,  -2.0340, -17.1396,   5.6110,   0.6886,\n",
       "                        -2.5960], device='cuda:0')),\n",
       "              ('network.1.running_var',\n",
       "               tensor([181.0021,  23.2431, 297.6404,  63.1392,  31.0169, 123.3817,  29.2722,\n",
       "                        72.7443,  24.1901, 287.6700,  83.9839,  78.3144,  76.1383,  97.7428,\n",
       "                        63.4702,  33.1923, 114.7980,  44.9501, 136.7004,  73.0753, 126.7962,\n",
       "                       199.5084,   8.7269,  43.4228,  44.3002,  26.9891,  41.7999,  73.4450,\n",
       "                        88.9875, 315.6421, 221.1332,   9.8078,  94.7418,  15.5651, 151.4944,\n",
       "                        66.6218,  17.2773,  14.6985, 227.4733, 110.2797, 113.0350,  96.6676,\n",
       "                        95.2253,   9.5059,  29.3381,  47.0680,  74.8689, 169.2090, 100.2187,\n",
       "                         9.5971, 146.7894,   9.0665,  40.7634, 102.8501,  28.4055,  15.0430,\n",
       "                        21.5767,  35.0151,  32.2226,   7.1064, 316.7634, 131.8642, 105.3907,\n",
       "                        27.5121], device='cuda:0')),\n",
       "              ('network.1.num_batches_tracked',\n",
       "               tensor(1299807, device='cuda:0')),\n",
       "              ('network.3.weight',\n",
       "               tensor([[ 0.1423, -0.0147, -0.0024,  ..., -0.1763,  0.0874,  0.1634],\n",
       "                       [ 0.0183,  0.0417, -0.0692,  ..., -0.1405,  0.1059,  0.0162],\n",
       "                       [-0.0238, -0.0303,  0.0281,  ...,  0.0415, -0.1738, -0.1898],\n",
       "                       ...,\n",
       "                       [-0.0268,  0.0546,  0.1078,  ...,  0.1168,  0.0422, -0.0059],\n",
       "                       [ 0.0089,  0.0536,  0.0723,  ...,  0.0374,  0.2486,  0.0591],\n",
       "                       [-0.0380,  0.1134, -0.1360,  ...,  0.1682,  0.0431,  0.0860]],\n",
       "                      device='cuda:0')),\n",
       "              ('network.3.bias',\n",
       "               tensor([-2.1576e-05, -2.4663e-04, -9.7185e-06, -9.0286e-05, -2.0139e-05,\n",
       "                        7.9608e-05,  1.9978e-04,  3.3338e-06, -9.5384e-06,  3.9881e-06,\n",
       "                       -1.0823e-05, -2.9408e-05,  1.6205e-05,  9.6627e-06,  1.3058e-04,\n",
       "                        2.5687e-05,  7.0842e-07,  6.9965e-05, -2.7166e-05,  5.1210e-05,\n",
       "                        6.3485e-06,  3.4049e-05, -5.1764e-05,  5.1950e-05, -1.8033e-05,\n",
       "                       -3.5277e-05, -2.4270e-05, -1.3266e-05,  8.8682e-06, -1.0998e-04,\n",
       "                        1.5641e-05,  2.5598e-05,  8.5834e-06,  3.8642e-05,  4.5343e-06,\n",
       "                       -2.1776e-04,  8.9615e-05, -1.1588e-05,  3.5648e-06,  3.6199e-05,\n",
       "                       -2.7730e-05,  6.1451e-05,  2.0486e-05, -2.6195e-05,  2.6488e-05,\n",
       "                       -9.8474e-05,  4.8492e-06, -9.2305e-05, -3.2711e-06,  6.1084e-05,\n",
       "                       -1.5898e-06,  3.9249e-06,  2.9513e-05, -6.4671e-05,  2.1552e-05,\n",
       "                       -3.0311e-06, -3.1916e-05, -3.7643e-05,  1.2612e-04,  7.3151e-05,\n",
       "                       -1.8633e-05, -1.9070e-04,  3.4501e-05,  1.8010e-05], device='cuda:0')),\n",
       "              ('network.4.weight',\n",
       "               tensor([0.8606, 0.8717, 0.7891, 0.7912, 0.7935, 0.9259, 0.8776, 0.8313, 0.7747,\n",
       "                       0.8557, 0.7863, 0.7400, 0.8018, 0.8342, 0.7999, 0.7450, 0.8267, 0.8066,\n",
       "                       0.7031, 0.7162, 0.7993, 0.8667, 0.8916, 0.7405, 0.7510, 0.7683, 0.8357,\n",
       "                       0.7377, 0.7348, 0.8060, 0.8515, 0.7571, 0.6910, 0.7927, 0.7928, 0.8494,\n",
       "                       0.7041, 0.8667, 0.7958, 0.8343, 0.8076, 0.8513, 0.7645, 0.8149, 0.7877,\n",
       "                       0.8422, 0.7551, 0.7979, 0.7716, 0.7694, 0.8099, 0.7832, 0.8387, 0.8196,\n",
       "                       0.8783, 0.8084, 0.8308, 0.8656, 0.8577, 0.7002, 0.8255, 0.9148, 0.8642,\n",
       "                       0.8358], device='cuda:0')),\n",
       "              ('network.4.bias',\n",
       "               tensor([ 0.2063, -0.2636, -0.0711, -0.2450, -0.1905,  0.1601, -0.3220, -0.3054,\n",
       "                        0.1639, -0.2667, -0.1464, -0.2603,  0.1912, -0.2176,  0.3291, -0.2340,\n",
       "                       -0.2449,  0.1278,  0.3123,  0.1890, -0.1920,  0.1245, -0.1992, -0.1329,\n",
       "                       -0.0090,  0.1696, -0.0268, -0.2752, -0.1773,  0.0030,  0.1905,  0.0466,\n",
       "                       -0.1748, -0.0611, -0.3631,  0.1379,  0.0381,  0.1538,  0.1966, -0.2011,\n",
       "                        0.0989, -0.0779, -0.0936, -0.2149, -0.2644,  0.1728, -0.0055, -0.4269,\n",
       "                        0.3425,  0.2037, -0.2122, -0.2678,  0.0023, -0.0015, -0.2443, -0.1373,\n",
       "                        0.1098, -0.0537, -0.3412,  0.0579,  0.1748, -0.1865, -0.3581,  0.0390],\n",
       "                      device='cuda:0')),\n",
       "              ('network.4.running_mean',\n",
       "               tensor([ 0.1473,  0.5675,  0.4684, -0.4130, -0.0971,  0.2830, -0.4624,  1.7574,\n",
       "                        0.4937, -1.1345, -0.1614,  0.0843,  0.1537, -0.2438, -0.2985, -0.3685,\n",
       "                       -0.4065, -0.8184, -0.6704,  0.4500,  0.2287,  0.4107,  0.0917, -0.0405,\n",
       "                        0.0160, -0.4687,  0.0116,  0.1871, -0.8342, -0.0113, -0.4138, -0.2428,\n",
       "                       -0.0760,  0.1682, -0.0773, -0.4199, -0.2190, -0.3092, -0.4174,  0.6058,\n",
       "                        0.1591, -0.0608, -0.1243,  0.0173,  0.7259,  0.3036,  0.1333,  0.3209,\n",
       "                       -0.1942, -0.8521, -0.0399, -1.0032, -0.4885,  0.0374, -0.3580, -0.3306,\n",
       "                       -0.4166,  0.5090,  0.1566,  0.0649, -0.2629, -0.2226, -0.2684, -0.0998],\n",
       "                      device='cuda:0')),\n",
       "              ('network.4.running_var',\n",
       "               tensor([0.2246, 0.1920, 0.5398, 0.3458, 0.5791, 0.2468, 0.6360, 1.1432, 0.5610,\n",
       "                       1.5041, 0.4395, 0.5328, 0.1262, 0.3217, 0.1601, 0.2988, 0.5452, 0.5625,\n",
       "                       0.1549, 0.2551, 0.3338, 0.3712, 0.3179, 0.4593, 0.2933, 0.1294, 0.3998,\n",
       "                       0.2612, 0.3730, 0.1211, 0.3313, 0.4099, 1.1086, 0.2644, 0.4624, 0.1780,\n",
       "                       0.2415, 0.0744, 0.3916, 0.6450, 0.2827, 0.4401, 0.4106, 0.3000, 0.2205,\n",
       "                       0.5908, 0.3238, 0.1134, 1.1648, 0.9993, 0.1781, 1.2560, 0.3543, 0.1503,\n",
       "                       0.1990, 0.3918, 0.3246, 0.1963, 0.6156, 0.1022, 0.1744, 0.2278, 0.2054,\n",
       "                       0.6421], device='cuda:0')),\n",
       "              ('network.4.num_batches_tracked',\n",
       "               tensor(1299807, device='cuda:0')),\n",
       "              ('network.6.weight',\n",
       "               tensor([[-0.0202, -0.0163,  0.0152, -0.0503, -0.0512, -0.0039,  0.0631,  0.0532,\n",
       "                        -0.0389,  0.0422,  0.0144, -0.0138, -0.0460,  0.0518, -0.0434, -0.0816,\n",
       "                        -0.0061, -0.0312, -0.0308,  0.0879,  0.0065, -0.0092,  0.0135, -0.0648,\n",
       "                         0.0297,  0.0128,  0.0081, -0.0146, -0.0297,  0.0205,  0.0013, -0.0337,\n",
       "                         0.0735,  0.0222, -0.0306, -0.0148, -0.0895, -0.0140, -0.0330, -0.0009,\n",
       "                         0.0024,  0.0015, -0.0579, -0.0480, -0.0172,  0.0210, -0.0051, -0.0039,\n",
       "                        -0.0287,  0.0372,  0.0507, -0.0043, -0.0177, -0.0177, -0.0284,  0.0460,\n",
       "                         0.0383, -0.0139, -0.0379,  0.0328,  0.0021, -0.0004, -0.0026, -0.0403],\n",
       "                       [-0.0440,  0.0014,  0.0266, -0.0486, -0.0435, -0.0128,  0.0525,  0.0539,\n",
       "                        -0.0333,  0.0313,  0.0149, -0.0054, -0.0347,  0.0648, -0.0527, -0.1068,\n",
       "                        -0.0590, -0.0485, -0.0471,  0.0692,  0.0184, -0.0154,  0.0023, -0.0788,\n",
       "                         0.0285,  0.0391,  0.0033, -0.0316, -0.0080, -0.0066,  0.0033, -0.0395,\n",
       "                         0.0713,  0.0167, -0.0200, -0.0118, -0.0772,  0.0140, -0.0309, -0.0037,\n",
       "                         0.0172, -0.0298, -0.0502, -0.0606, -0.0099,  0.0135,  0.0008, -0.0009,\n",
       "                        -0.0154,  0.0296,  0.0677, -0.0152, -0.0343, -0.0133,  0.0073,  0.0247,\n",
       "                         0.0315, -0.0043, -0.0240,  0.0239, -0.0067,  0.0121,  0.0065, -0.0424],\n",
       "                       [ 0.0001,  0.0109, -0.0022, -0.0038, -0.0738,  0.0016,  0.0042,  0.0330,\n",
       "                        -0.0250,  0.0448,  0.0280, -0.0250, -0.0275,  0.0159, -0.0232, -0.0598,\n",
       "                        -0.0168, -0.0226, -0.0237,  0.0733, -0.0036,  0.0171,  0.0261, -0.0134,\n",
       "                         0.0027,  0.0136,  0.0238, -0.0497, -0.0152,  0.0200, -0.0032, -0.0411,\n",
       "                         0.0373,  0.0424, -0.0423,  0.0134, -0.1087,  0.0091, -0.0087, -0.0390,\n",
       "                         0.0201, -0.0076, -0.0256, -0.0236, -0.0307,  0.0550, -0.0240, -0.0622,\n",
       "                         0.0235,  0.0691,  0.0073, -0.0016, -0.0216,  0.0100, -0.0302,  0.0407,\n",
       "                         0.0677,  0.0099, -0.0556,  0.0106, -0.0113, -0.0249, -0.0037, -0.0134]],\n",
       "                      device='cuda:0')),\n",
       "              ('network.6.bias',\n",
       "               tensor([-0.2675, -0.2127,  0.3418], device='cuda:0'))])]"
      ]
     },
     "execution_count": 36,
     "metadata": {},
     "output_type": "execute_result"
    }
   ],
   "source": [
    "cov_state_dicts"
   ]
  },
  {
   "cell_type": "code",
   "execution_count": 41,
   "id": "30174635-d0a8-44ef-ba28-470ac6e2e38a",
   "metadata": {},
   "outputs": [
    {
     "data": {
      "text/plain": [
       "Parameter containing:\n",
       "tensor([[ 0.4081,  0.3767, -1.1169, -0.4985,  0.2052,  1.9294,  0.0779,  0.3978,\n",
       "          0.5137,  1.5418,  0.7749,  0.5571, -0.5488, -1.4260, -0.9397, -0.6951,\n",
       "         -1.5591, -0.3072,  0.5017,  1.4675, -0.2127, -1.1622,  1.4627, -1.6516,\n",
       "          0.0434,  0.1914, -0.7639,  1.1491,  0.2505, -0.7223, -0.0294, -0.3321],\n",
       "        [ 0.5505,  0.0382, -1.3970, -0.5779, -0.0952, -0.2434, -0.1063,  0.7139,\n",
       "         -1.4399,  1.2624, -1.3002,  0.2700, -0.0426, -1.1687, -0.3934, -1.2991,\n",
       "         -0.5546,  1.0597, -0.5303, -0.5718,  1.8390, -1.9639,  1.6057,  0.3113,\n",
       "          1.1219, -1.1024, -1.0911,  0.9484, -0.1188, -0.4019,  0.1167, -0.3188],\n",
       "        [-0.7843, -1.9332, -1.1973,  0.3887, -0.3791,  2.4663, -0.0663,  0.0252,\n",
       "         -0.2218,  2.2960, -1.2462,  0.0498,  0.8647,  0.0201,  1.5937,  2.0901,\n",
       "          1.7925,  0.2062, -0.0372,  0.9941, -1.7321, -1.6416,  1.5243,  1.1358,\n",
       "         -0.5476, -1.3976, -0.3468,  0.3913,  1.5127, -1.3529, -0.1891,  0.4813]],\n",
       "       requires_grad=True)"
      ]
     },
     "execution_count": 41,
     "metadata": {},
     "output_type": "execute_result"
    }
   ],
   "source": [
    "model_pretrained.covariates_embeddings[0].weight"
   ]
  },
  {
   "cell_type": "code",
   "execution_count": 45,
   "id": "ea659f20-0f6e-4b48-bb88-fa65b2cc9638",
   "metadata": {},
   "outputs": [
    {
     "data": {
      "text/plain": [
       "['drug_embeddings.weight',\n",
       " 'drug_embedding_encoder.network.0.weight',\n",
       " 'drug_embedding_encoder.network.0.bias',\n",
       " 'drug_embedding_encoder.network.1.weight',\n",
       " 'drug_embedding_encoder.network.1.bias',\n",
       " 'drug_embedding_encoder.network.1.running_mean',\n",
       " 'drug_embedding_encoder.network.1.running_var',\n",
       " 'drug_embedding_encoder.network.1.num_batches_tracked',\n",
       " 'drug_embedding_encoder.network.3.weight',\n",
       " 'drug_embedding_encoder.network.3.bias',\n",
       " 'drug_embedding_encoder.network.4.weight',\n",
       " 'drug_embedding_encoder.network.4.bias',\n",
       " 'drug_embedding_encoder.network.4.running_mean',\n",
       " 'drug_embedding_encoder.network.4.running_var',\n",
       " 'drug_embedding_encoder.network.4.num_batches_tracked',\n",
       " 'drug_embedding_encoder.network.6.weight',\n",
       " 'drug_embedding_encoder.network.6.bias',\n",
       " 'drug_embedding_encoder.network.7.weight',\n",
       " 'drug_embedding_encoder.network.7.bias',\n",
       " 'drug_embedding_encoder.network.7.running_mean',\n",
       " 'drug_embedding_encoder.network.7.running_var',\n",
       " 'drug_embedding_encoder.network.7.num_batches_tracked',\n",
       " 'drug_embedding_encoder.network.9.weight',\n",
       " 'drug_embedding_encoder.network.9.bias',\n",
       " 'drug_embedding_encoder.network.10.weight',\n",
       " 'drug_embedding_encoder.network.10.bias',\n",
       " 'drug_embedding_encoder.network.10.running_mean',\n",
       " 'drug_embedding_encoder.network.10.running_var',\n",
       " 'drug_embedding_encoder.network.10.num_batches_tracked',\n",
       " 'drug_embedding_encoder.network.12.weight',\n",
       " 'drug_embedding_encoder.network.12.bias']"
      ]
     },
     "execution_count": 45,
     "metadata": {},
     "output_type": "execute_result"
    }
   ],
   "source": [
    "[k for k in state_dict.keys() if 'emb' in k]"
   ]
  },
  {
   "cell_type": "code",
   "execution_count": null,
   "id": "bdfeb14b-9dd8-4111-8d80-bb19e461ae23",
   "metadata": {},
   "outputs": [],
   "source": []
  }
 ],
 "metadata": {
  "kernelspec": {
   "display_name": "Python 3.7.12 64-bit ('chemical_CPA': conda)",
   "language": "python",
   "name": "python3712jvsc74a57bd01951151eba8820d10dfca2d7d54a7baca5e102b36d5a32493b1f70139f456eae"
  },
  "language_info": {
   "codemirror_mode": {
    "name": "ipython",
    "version": 3
   },
   "file_extension": ".py",
   "mimetype": "text/x-python",
   "name": "python",
   "nbconvert_exporter": "python",
   "pygments_lexer": "ipython3",
   "version": "3.7.12"
  }
 },
 "nbformat": 4,
 "nbformat_minor": 5
}
