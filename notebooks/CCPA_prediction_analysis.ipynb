{
 "cells": [
  {
   "cell_type": "markdown",
   "id": "ffeffce3-423b-4fe1-bfed-ba0ec6144d7d",
   "metadata": {},
   "source": [
    "**Requirements:**\n",
    "* Trained models\n",
    "\n",
    "**Outputs:** \n",
    "* none \n",
    "___\n",
    "# Imports"
   ]
  },
  {
   "cell_type": "code",
   "execution_count": 8,
   "id": "cf0202ee-03ec-4495-8c86-fbd0b51a3640",
   "metadata": {},
   "outputs": [],
   "source": [
    "import matplotlib\n",
    "import umap.plot\n",
    "import matplotlib.pyplot as plt\n",
    "import numpy as np\n",
    "import pandas as pd\n",
    "import scanpy as sc\n",
    "import seaborn as sn\n",
    "\n",
    "from utils import load_config, load_dataset, load_smiles, load_model, compute_drug_embeddings, compute_pred\n",
    "from compert.data import load_dataset_splits\n",
    "\n",
    "matplotlib.style.use(\"fivethirtyeight\")\n",
    "matplotlib.style.use(\"seaborn-talk\")\n",
    "matplotlib.rcParams['font.family'] = \"monospace\"\n",
    "matplotlib.rcParams['figure.dpi'] = 60\n",
    "matplotlib.pyplot.rcParams['savefig.facecolor'] = 'white'\n",
    "sn.set_context(\"poster\")"
   ]
  },
  {
   "cell_type": "code",
   "execution_count": 2,
   "id": "0a4c8e9e-00d0-4c9c-b676-17dd904f33c1",
   "metadata": {},
   "outputs": [],
   "source": [
    "%load_ext autoreload\n",
    "%autoreload 2"
   ]
  },
  {
   "cell_type": "markdown",
   "id": "cc2595fa-425f-43f4-94e2-27d95282cfd7",
   "metadata": {},
   "source": [
    "# Load and analyse model \n",
    "* Define `seml_collection` and `model_hash` to load data and model"
   ]
  },
  {
   "cell_type": "code",
   "execution_count": 17,
   "id": "0582a055-1b72-45d1-afe7-98033e0e8888",
   "metadata": {},
   "outputs": [],
   "source": [
    "seml_collection = \"finetuning_num_genes\"\n",
    "\n",
    "# split_ho_pathway, append_ae_layer: true\n",
    "model_hash_pretrained = \"70290e4f42ac4cb19246fafa0b75ccb6\" # \"config.model.load_pretrained\": true, \n",
    "model_hash_scratch = \"ed3bc586a5fcfe3c4dbb0157cd67d0d9\" # \"config.model.load_pretrained\": false, \n",
    "\n",
    "# split_ood_finetuning, append_ae_layer: true\n",
    "model_hash_pretrained = \"bd001c8d557edffe9df9e6bf09dc4120\" # \"config.model.load_pretrained\": true, \n",
    "model_hash_scratch = \"6e9d00880375aa450a8e5de60250659f\" # \"config.model.load_pretrained\": false, "
   ]
  },
  {
   "cell_type": "markdown",
   "id": "dfca9c7b-806f-43bb-ae50-9e79345323d9",
   "metadata": {},
   "source": [
    "## Load config"
   ]
  },
  {
   "cell_type": "code",
   "execution_count": 18,
   "id": "b24e760f-7d62-42b3-bb64-9a2b125622fb",
   "metadata": {},
   "outputs": [
    {
     "data": {
      "application/vnd.jupyter.widget-view+json": {
       "model_id": "fb14f761843d4202b7cdb2657bd23480",
       "version_major": 2,
       "version_minor": 0
      },
      "text/plain": [
       "  0%|          | 0/1 [00:00<?, ?it/s]"
      ]
     },
     "metadata": {},
     "output_type": "display_data"
    },
    {
     "data": {
      "application/vnd.jupyter.widget-view+json": {
       "model_id": "128bf91122044a3baffd8f8b2ef0064c",
       "version_major": 2,
       "version_minor": 0
      },
      "text/plain": [
       "  0%|          | 0/1 [00:00<?, ?it/s]"
      ]
     },
     "metadata": {},
     "output_type": "display_data"
    }
   ],
   "source": [
    "config = load_config(seml_collection, model_hash_pretrained)\n",
    "dataset, key_dict = load_dataset(config)\n",
    "config['dataset']['n_vars'] = dataset.n_vars"
   ]
  },
  {
   "cell_type": "markdown",
   "id": "e3951653-2787-4e7e-ad15-d926ebe0972c",
   "metadata": {},
   "source": [
    "### Load smiles info"
   ]
  },
  {
   "cell_type": "code",
   "execution_count": 19,
   "id": "fbc51c43-7f1e-4e28-b4c3-871cf2ca6596",
   "metadata": {},
   "outputs": [],
   "source": [
    "canon_smiles_unique_sorted, smiles_to_pathway_map, smiles_to_drug_map = load_smiles(config, dataset, key_dict)"
   ]
  },
  {
   "cell_type": "markdown",
   "id": "2b2c3855-54dd-4646-a6fe-e10b737c9f57",
   "metadata": {},
   "source": [
    "#### Define which drugs should be annotaded with list `ood_drugs`"
   ]
  },
  {
   "cell_type": "code",
   "execution_count": 23,
   "id": "1e0580fc-9cdf-4202-9078-7ceaaf510519",
   "metadata": {},
   "outputs": [],
   "source": [
    "ood_drugs = dataset.obs.condition[dataset.obs[config[\"dataset\"][\"data_params\"][\"split_key\"]].isin(['ood'])].unique().to_list()"
   ]
  },
  {
   "cell_type": "markdown",
   "id": "f26e21e1-2e26-4a64-b99d-ef4243df1212",
   "metadata": {},
   "source": [
    "#### Get pathway level 2 annotation for clustering of drug embeddings"
   ]
  },
  {
   "cell_type": "code",
   "execution_count": 24,
   "id": "a278306f-dd5b-4dde-901d-ad8ed1730107",
   "metadata": {},
   "outputs": [],
   "source": [
    "smiles_to_pw_level2_map = {}\n",
    "pw1_to_pw2 = {}\n",
    "\n",
    "for (drug, pw1, pw2), df in dataset.obs.groupby(['SMILES', 'pathway_level_1', 'pathway_level_2']): \n",
    "    smiles_to_pw_level2_map[drug] = pw2\n",
    "    if pw1 in pw1_to_pw2:\n",
    "        pw1_to_pw2[pw1].add(pw2)\n",
    "    else: \n",
    "        pw1_to_pw2[pw1] = {pw2}"
   ]
  },
  {
   "cell_type": "code",
   "execution_count": 25,
   "id": "2de36423-0181-4189-95e0-07028d0bb7b0",
   "metadata": {},
   "outputs": [
    {
     "data": {
      "text/plain": [
       "['Histone methylation',\n",
       " 'DNA methylation',\n",
       " 'Bromodomain',\n",
       " 'Histone deacetylation',\n",
       " 'Histone demethylase',\n",
       " 'Histone acetylation']"
      ]
     },
     "execution_count": 25,
     "metadata": {},
     "output_type": "execute_result"
    }
   ],
   "source": [
    "groups = [\"Epigenetic regulation\"]\n",
    "\n",
    "groups_pw2 = [pw2 for pw in groups for pw2 in pw1_to_pw2[pw]]\n",
    "groups_pw2"
   ]
  },
  {
   "cell_type": "markdown",
   "id": "07fb3703-5e1c-4e66-b146-50dc44b0b470",
   "metadata": {},
   "source": [
    "## Load dataset splits"
   ]
  },
  {
   "cell_type": "code",
   "execution_count": 26,
   "id": "44664d2c-e615-4d43-a69d-33ae5a74ac7e",
   "metadata": {},
   "outputs": [
    {
     "data": {
      "text/plain": [
       "{'covariate_keys': 'cell_type',\n",
       " 'dataset_path': '/storage/groups/ml01/projects/2021_chemicalCPA_leon.hetzel/datasets/sciplex_complete.h5ad',\n",
       " 'degs_key': 'all_DEGs',\n",
       " 'dose_key': 'dose',\n",
       " 'pert_category': 'cov_drug_dose_name',\n",
       " 'perturbation_key': 'condition',\n",
       " 'smiles_key': 'SMILES',\n",
       " 'split_key': 'split_ood_finetuning',\n",
       " 'use_drugs_idx': True}"
      ]
     },
     "execution_count": 26,
     "metadata": {},
     "output_type": "execute_result"
    }
   ],
   "source": [
    "config['dataset']['data_params']"
   ]
  },
  {
   "cell_type": "code",
   "execution_count": 97,
   "id": "eb6ce86c-6ecb-4165-9f60-a17617503770",
   "metadata": {},
   "outputs": [],
   "source": [
    "data_params = config['dataset']['data_params']\n",
    "\n",
    "# #Overwrite split_key \n",
    "# data_params['split_key'] = 'split_ho_epigenetic'\n",
    "\n",
    "datasets = load_dataset_splits(**data_params, return_dataset=False)"
   ]
  },
  {
   "cell_type": "markdown",
   "id": "83fa33c5-41c5-4d1c-a9b3-efd9a69657a7",
   "metadata": {},
   "source": [
    "___\n",
    "## Pretrained model"
   ]
  },
  {
   "cell_type": "code",
   "execution_count": 98,
   "id": "4c966e60-eeab-4749-abdf-2d821e9a05f6",
   "metadata": {},
   "outputs": [],
   "source": [
    "dosages = [1e1, 1e2, 1e3, 1e4]"
   ]
  },
  {
   "cell_type": "code",
   "execution_count": 109,
   "id": "886d036b-23f6-4b23-84cc-197735881f3d",
   "metadata": {},
   "outputs": [
    {
     "data": {
      "application/vnd.jupyter.widget-view+json": {
       "model_id": "2d5c5be1745042dd9331ff0ec2ecc273",
       "version_major": 2,
       "version_minor": 0
      },
      "text/plain": [
       "  0%|          | 0/1 [00:00<?, ?it/s]"
      ]
     },
     "metadata": {},
     "output_type": "display_data"
    },
    {
     "data": {
      "application/vnd.jupyter.widget-view+json": {
       "model_id": "2627427730484d3b8d07ec4881782e7c",
       "version_major": 2,
       "version_minor": 0
      },
      "text/plain": [
       "  0%|          | 0/1 [00:00<?, ?it/s]"
      ]
     },
     "metadata": {},
     "output_type": "display_data"
    }
   ],
   "source": [
    "config = load_config(seml_collection, model_hash_pretrained)\n",
    "config['dataset']['n_vars'] = dataset.n_vars\n",
    "model_pretrained, embedding_pretrained = load_model(config, canon_smiles_unique_sorted)"
   ]
  },
  {
   "cell_type": "code",
   "execution_count": 110,
   "id": "8db01530-d598-4a91-a2b0-f1b2c444e48c",
   "metadata": {},
   "outputs": [
    {
     "data": {
      "application/vnd.jupyter.widget-view+json": {
       "model_id": "a58249dce0004c50b16b0fee7c29a484",
       "version_major": 2,
       "version_minor": 0
      },
      "text/plain": [
       "0it [00:00, ?it/s]"
      ]
     },
     "metadata": {},
     "output_type": "display_data"
    },
    {
     "name": "stdout",
     "output_type": "stream",
     "text": [
      "MCF7_CUDC-101_0.001: 0.77\n",
      "MCF7_CUDC-101_0.01: 0.78\n",
      "MCF7_CUDC-101_0.1: 0.77\n",
      "MCF7_CUDC-101_1.0: 0.60\n",
      "MCF7_CUDC-907_0.001: 0.66\n",
      "MCF7_CUDC-907_0.01: 0.67\n",
      "MCF7_CUDC-907_0.1: 0.58\n",
      "MCF7_CUDC-907_1.0: -0.39\n",
      "MCF7_Dacinostat_0.001: 0.73\n",
      "MCF7_Dacinostat_0.01: 0.72\n",
      "MCF7_Dacinostat_0.1: 0.12\n",
      "MCF7_Dacinostat_1.0: -0.10\n",
      "MCF7_Givinostat_0.001: 0.77\n",
      "MCF7_Givinostat_0.01: 0.78\n",
      "MCF7_Givinostat_0.1: 0.84\n",
      "MCF7_Givinostat_1.0: -0.24\n",
      "MCF7_Hesperadin_0.001: 0.72\n",
      "MCF7_Hesperadin_0.01: 0.74\n",
      "MCF7_Hesperadin_0.1: 0.83\n",
      "MCF7_Hesperadin_1.0: 0.80\n",
      "MCF7_Pirarubicin_0.001: 0.61\n",
      "MCF7_Pirarubicin_0.01: 0.62\n",
      "MCF7_Pirarubicin_0.1: 0.62\n",
      "MCF7_Pirarubicin_1.0: 0.59\n",
      "MCF7_Raltitrexed_0.001: 0.62\n",
      "MCF7_Raltitrexed_0.01: 0.60\n",
      "MCF7_Raltitrexed_0.1: 0.57\n",
      "MCF7_Raltitrexed_1.0: 0.57\n",
      "MCF7_Tanespimycin_0.001: 0.65\n",
      "MCF7_Tanespimycin_0.01: 0.60\n",
      "MCF7_Tanespimycin_0.1: 0.59\n",
      "MCF7_Tanespimycin_1.0: 0.55\n",
      "MCF7_Trametinib_0.001: 0.68\n",
      "MCF7_Trametinib_0.01: 0.67\n",
      "MCF7_Trametinib_0.1: 0.72\n",
      "MCF7_Trametinib_1.0: 0.75\n"
     ]
    }
   ],
   "source": [
    "drug_r2_pretrained, _ = compute_pred(model_pretrained, \n",
    "                                     datasets['ood'], \n",
    "                                     genes_control=datasets['test_control'].genes, \n",
    "                                     dosages=dosages)"
   ]
  },
  {
   "cell_type": "markdown",
   "id": "95edee6a-44f8-4225-89c7-0102a656d1b4",
   "metadata": {},
   "source": [
    "## Non-pretrained model"
   ]
  },
  {
   "cell_type": "code",
   "execution_count": 111,
   "id": "59afd9cd-74f0-468d-8a90-a115e22af6b1",
   "metadata": {},
   "outputs": [
    {
     "data": {
      "application/vnd.jupyter.widget-view+json": {
       "model_id": "5b6700a75aa04a4688a8549747a013aa",
       "version_major": 2,
       "version_minor": 0
      },
      "text/plain": [
       "  0%|          | 0/1 [00:00<?, ?it/s]"
      ]
     },
     "metadata": {},
     "output_type": "display_data"
    },
    {
     "data": {
      "application/vnd.jupyter.widget-view+json": {
       "model_id": "2186468bb30f4966b2edff6358248984",
       "version_major": 2,
       "version_minor": 0
      },
      "text/plain": [
       "  0%|          | 0/1 [00:00<?, ?it/s]"
      ]
     },
     "metadata": {},
     "output_type": "display_data"
    }
   ],
   "source": [
    "config = load_config(seml_collection, model_hash_scratch)\n",
    "config['dataset']['n_vars'] = dataset.n_vars\n",
    "model_scratch, embedding_scratch = load_model(config, canon_smiles_unique_sorted)"
   ]
  },
  {
   "cell_type": "code",
   "execution_count": 112,
   "id": "7ab2c27d-1044-4c30-b1fd-ab63ada6423b",
   "metadata": {},
   "outputs": [
    {
     "data": {
      "application/vnd.jupyter.widget-view+json": {
       "model_id": "d7eb903e99244f4193948cfa52a36eb4",
       "version_major": 2,
       "version_minor": 0
      },
      "text/plain": [
       "0it [00:00, ?it/s]"
      ]
     },
     "metadata": {},
     "output_type": "display_data"
    },
    {
     "name": "stdout",
     "output_type": "stream",
     "text": [
      "MCF7_CUDC-101_0.001: 0.55\n",
      "MCF7_CUDC-101_0.01: 0.54\n",
      "MCF7_CUDC-101_0.1: 0.50\n",
      "MCF7_CUDC-101_1.0: 0.25\n",
      "MCF7_CUDC-907_0.001: 0.34\n",
      "MCF7_CUDC-907_0.01: 0.32\n",
      "MCF7_CUDC-907_0.1: 0.16\n",
      "MCF7_CUDC-907_1.0: -0.39\n",
      "MCF7_Dacinostat_0.001: 0.39\n",
      "MCF7_Dacinostat_0.01: 0.27\n",
      "MCF7_Dacinostat_0.1: -0.28\n",
      "MCF7_Dacinostat_1.0: -0.41\n",
      "MCF7_Givinostat_0.001: 0.44\n",
      "MCF7_Givinostat_0.01: 0.45\n",
      "MCF7_Givinostat_0.1: 0.15\n",
      "MCF7_Givinostat_1.0: -0.49\n",
      "MCF7_Hesperadin_0.001: 0.46\n",
      "MCF7_Hesperadin_0.01: 0.47\n",
      "MCF7_Hesperadin_0.1: 0.18\n",
      "MCF7_Hesperadin_1.0: 0.40\n",
      "MCF7_Pirarubicin_0.001: 0.39\n",
      "MCF7_Pirarubicin_0.01: 0.40\n",
      "MCF7_Pirarubicin_0.1: 0.43\n",
      "MCF7_Pirarubicin_1.0: 0.32\n",
      "MCF7_Raltitrexed_0.001: 0.33\n",
      "MCF7_Raltitrexed_0.01: 0.31\n",
      "MCF7_Raltitrexed_0.1: 0.22\n",
      "MCF7_Raltitrexed_1.0: 0.23\n",
      "MCF7_Tanespimycin_0.001: 0.20\n",
      "MCF7_Tanespimycin_0.01: 0.21\n",
      "MCF7_Tanespimycin_0.1: 0.32\n",
      "MCF7_Tanespimycin_1.0: 0.22\n",
      "MCF7_Trametinib_0.001: 0.05\n",
      "MCF7_Trametinib_0.01: -0.01\n",
      "MCF7_Trametinib_0.1: 0.24\n",
      "MCF7_Trametinib_1.0: 0.28\n"
     ]
    }
   ],
   "source": [
    "drug_r2_scratch, _ = compute_pred(model_scratch,\n",
    "                                  datasets['ood'],\n",
    "                                  genes_control=datasets['test_control'].genes, \n",
    "                                  dosages=dosages) # non-pretrained"
   ]
  },
  {
   "cell_type": "code",
   "execution_count": 103,
   "id": "84a0b518-02bb-4286-8c17-cd2e393d956d",
   "metadata": {},
   "outputs": [
    {
     "data": {
      "text/plain": [
       "['Raltitrexed',\n",
       " 'Trametinib',\n",
       " 'Hesperadin',\n",
       " 'CUDC-101',\n",
       " 'Dacinostat',\n",
       " 'Pirarubicin',\n",
       " 'CUDC-907',\n",
       " 'Tanespimycin',\n",
       " 'Givinostat']"
      ]
     },
     "execution_count": 103,
     "metadata": {},
     "output_type": "execute_result"
    }
   ],
   "source": [
    "dataset.obs.loc[dataset.obs.split_ood_finetuning=='ood', 'condition'].unique().to_list()"
   ]
  },
  {
   "cell_type": "code",
   "execution_count": 113,
   "id": "3ce533c2-eef2-4bf3-90a7-3351a747e753",
   "metadata": {},
   "outputs": [
    {
     "data": {
      "text/plain": [
       "0.18929382165273032"
      ]
     },
     "execution_count": 113,
     "metadata": {},
     "output_type": "execute_result"
    }
   ],
   "source": [
    "np.mean([max(v, 0) for v in drug_r2_scratch.values()])"
   ]
  },
  {
   "cell_type": "code",
   "execution_count": 114,
   "id": "503ca154-4d11-4de8-9615-f400edc26bd7",
   "metadata": {},
   "outputs": [
    {
     "data": {
      "text/plain": [
       "0.4283696214358012"
      ]
     },
     "execution_count": 114,
     "metadata": {},
     "output_type": "execute_result"
    }
   ],
   "source": [
    "np.mean([max(v, 0) for v in drug_r2_pretrained.values()])"
   ]
  },
  {
   "cell_type": "code",
   "execution_count": 80,
   "id": "a33442f9-dffb-4d7d-91bf-4c3b24376e3a",
   "metadata": {},
   "outputs": [
    {
     "data": {
      "text/plain": [
       "tensor([[0.0000, 0.0000, 0.0000,  ..., 0.0000, 0.0000, 0.0000],\n",
       "        [0.0000, 0.0000, 0.0000,  ..., 0.0000, 0.0000, 0.0000],\n",
       "        [0.0000, 0.0000, 0.0000,  ..., 0.0000, 0.0000, 0.0000],\n",
       "        ...,\n",
       "        [0.0000, 0.0000, 0.6065,  ..., 0.0000, 0.0000, 0.0000],\n",
       "        [0.0000, 0.0000, 0.0000,  ..., 0.0000, 0.0000, 0.0000],\n",
       "        [0.0000, 0.0000, 0.0000,  ..., 0.0000, 0.0000, 0.0000]])"
      ]
     },
     "execution_count": 80,
     "metadata": {},
     "output_type": "execute_result"
    }
   ],
   "source": []
  },
  {
   "cell_type": "code",
   "execution_count": null,
   "id": "62f75dbe-6687-45a8-bb8b-af2f9d5e13b0",
   "metadata": {},
   "outputs": [],
   "source": []
  }
 ],
 "metadata": {
  "kernelspec": {
   "display_name": "Python 3.7.12 64-bit ('chemical_CPA': conda)",
   "language": "python",
   "name": "python3712jvsc74a57bd01951151eba8820d10dfca2d7d54a7baca5e102b36d5a32493b1f70139f456eae"
  },
  "language_info": {
   "codemirror_mode": {
    "name": "ipython",
    "version": 3
   },
   "file_extension": ".py",
   "mimetype": "text/x-python",
   "name": "python",
   "nbconvert_exporter": "python",
   "pygments_lexer": "ipython3",
   "version": "3.7.12"
  }
 },
 "nbformat": 4,
 "nbformat_minor": 5
}
