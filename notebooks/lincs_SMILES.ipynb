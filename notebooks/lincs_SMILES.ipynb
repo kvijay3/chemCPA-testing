{
 "cells": [
  {
   "cell_type": "code",
   "execution_count": 2,
   "id": "ee79bb85",
   "metadata": {},
   "outputs": [
    {
     "name": "stdout",
     "output_type": "stream",
     "text": [
      "scanpy==1.8.1 anndata==0.7.6 umap==0.5.1 numpy==1.19.2 scipy==1.6.2 pandas==1.2.4 scikit-learn==0.24.2 statsmodels==0.12.2 python-igraph==0.9.1 louvain==0.7.0 pynndescent==0.5.2\n"
     ]
    },
    {
     "data": {
      "text/plain": [
       "'/mnt/home/icb/leon.hetzel/git/CPA_graphs/notebooks'"
      ]
     },
     "execution_count": 2,
     "metadata": {},
     "output_type": "execute_result"
    }
   ],
   "source": [
    "import os \n",
    "import scanpy as sc\n",
    "import matplotlib.pyplot as plt\n",
    "import numpy as np \n",
    "import pandas as pd\n",
    "sc.set_figure_params(dpi=80, frameon=False)\n",
    "sc.logging.print_header()\n",
    "os.getcwd()"
   ]
  },
  {
   "cell_type": "code",
   "execution_count": 3,
   "id": "831629f0",
   "metadata": {},
   "outputs": [],
   "source": [
    "%load_ext autoreload\n",
    "%autoreload 2"
   ]
  },
  {
   "cell_type": "markdown",
   "id": "0995dff1",
   "metadata": {},
   "source": [
    "### Loading LINCS and reference data"
   ]
  },
  {
   "cell_type": "code",
   "execution_count": 4,
   "id": "8d354ea2",
   "metadata": {},
   "outputs": [],
   "source": [
    "full = False\n",
    "if full:\n",
    "    adata = sc.read('../datasets/lincs_full.h5ad')\n",
    "    adata_out = '../datasets/lincs_full_smiles.h5ad' \n",
    "else: \n",
    "    adata = sc.read('../datasets/lincs.h5ad')\n",
    "    adata_out = '../datasets/lincs_smiles.h5ad'  \n"
   ]
  },
  {
   "cell_type": "markdown",
   "id": "1a0a245f",
   "metadata": {},
   "source": [
    "Checking number of drugs for LINCS"
   ]
  },
  {
   "cell_type": "code",
   "execution_count": 4,
   "id": "2b58a210",
   "metadata": {},
   "outputs": [
    {
     "name": "stdout",
     "output_type": "stream",
     "text": [
      "# of unique perturbations: 1120\n"
     ]
    }
   ],
   "source": [
    "pert_id_unique = pd.Series(np.unique(adata.obs.pert_id))\n",
    "print(f\"# of unique perturbations: {len(pert_id_unique)}\")"
   ]
  },
  {
   "cell_type": "markdown",
   "id": "69660129",
   "metadata": {},
   "source": [
    "Loading reference dataframe and restricting to `'pert_id'` and `'canonical_smiles'`"
   ]
  },
  {
   "cell_type": "code",
   "execution_count": 5,
   "id": "77d69791",
   "metadata": {},
   "outputs": [
    {
     "data": {
      "text/plain": [
       "-666                                                                                           6\n",
       "CS(=O)(=O)CCNCc1ccc(o1)-c1ccc2ncnc(Nc3ccc(OCc4cccc(F)c4)c(Cl)c3)c2c1                           2\n",
       "restricted                                                                                     2\n",
       "C[C@@H](CO)N1C[C@@H](C)[C@@H](CN(C)CC2CC2)OCCCC[C@@H](C)Oc3ccc(NS(=O)(=O)c4cn(C)cn4)cc3C1=O    1\n",
       "Cc1cc(Cl)ccc1OCCCC(=O)NO                                                                       1\n",
       "                                                                                              ..\n",
       "CC(COc1ccccc1)N(CCCl)Cc1ccccc1                                                                 1\n",
       "N1c2ccccc2Oc2ccccc12                                                                           1\n",
       "Cc1ccc(C)c(NS(=O)(=O)c2cc(ccc2Cl)C(=O)Nc3ccccc3c4ccccc4)c1                                     1\n",
       "Cn1cnc(CCNC(=O)C[C@@H]2CC[C@H]3[C@@H](COC[C@H](O)CN3C(=O)Nc3ccc(cc3)C(F)(F)F)O2)c1             1\n",
       "OCCNCCNc1ccc(NCCNCCO)c2C(=O)c3c(O)ccc(O)c3C(=O)c12                                             1\n",
       "Name: canonical_smiles, Length: 981, dtype: int64"
      ]
     },
     "execution_count": 5,
     "metadata": {},
     "output_type": "execute_result"
    }
   ],
   "source": [
    "reference_df = pd.read_csv('../datasets/GSE92742_Broad_LINCS_pert_info.txt', delimiter = \"\\t\")\n",
    "reference_df = reference_df.loc[reference_df.pert_id.isin(pert_id_unique), ['pert_id', 'canonical_smiles']]\n",
    "reference_df.canonical_smiles.value_counts()"
   ]
  },
  {
   "cell_type": "code",
   "execution_count": 6,
   "id": "23ecebcc",
   "metadata": {},
   "outputs": [
    {
     "name": "stdout",
     "output_type": "stream",
     "text": [
      "From 1120 total drugs, 132 were not part of the reference dataframe.\n"
     ]
    }
   ],
   "source": [
    "cond = ~pert_id_unique.isin(reference_df.pert_id)\n",
    "print(f\"From {len(pert_id_unique)} total drugs, {cond.sum()} were not part of the reference dataframe.\")"
   ]
  },
  {
   "cell_type": "markdown",
   "id": "b4f02fdf",
   "metadata": {},
   "source": [
    "Adding `'canoncical_smiles'` column to `adata.obs` via `pd.merge`"
   ]
  },
  {
   "cell_type": "code",
   "execution_count": 7,
   "id": "75dacdc1",
   "metadata": {},
   "outputs": [],
   "source": [
    "adata.obs = adata.obs.reset_index().merge(reference_df, how=\"left\").set_index('index')"
   ]
  },
  {
   "cell_type": "markdown",
   "id": "531c0ddc",
   "metadata": {},
   "source": [
    "Removing invalid SMILES strings "
   ]
  },
  {
   "cell_type": "code",
   "execution_count": 8,
   "id": "7ba405b3",
   "metadata": {},
   "outputs": [
    {
     "name": "stdout",
     "output_type": "stream",
     "text": [
      "Among 199620 observations, 11.54% (23033) do not have a valid SMILES string\n"
     ]
    }
   ],
   "source": [
    "adata.obs.canonical_smiles = adata.obs.canonical_smiles.astype('str')\n",
    "invalid_smiles = adata.obs.canonical_smiles.isin(['-666', 'restricted', 'nan'])\n",
    "print(f'Among {len(adata)} observations, {100*invalid_smiles.sum()/len(adata):.2f}% ({invalid_smiles.sum()}) do not have a valid SMILES string')\n",
    "adata = adata[~invalid_smiles]"
   ]
  },
  {
   "cell_type": "markdown",
   "id": "3b104625",
   "metadata": {},
   "source": [
    "Remove invalid `'pert_dose'` value: `-666`"
   ]
  },
  {
   "cell_type": "code",
   "execution_count": 9,
   "id": "94346678",
   "metadata": {},
   "outputs": [
    {
     "name": "stdout",
     "output_type": "stream",
     "text": [
      "A total of 0 observations have invalid dose values\n"
     ]
    }
   ],
   "source": [
    "cond = adata.obs.pert_dose.isin([-666])\n",
    "adata = adata[~cond]\n",
    "print(f\"A total of {cond.sum()} observations have invalid dose values\")"
   ]
  },
  {
   "cell_type": "code",
   "execution_count": 10,
   "id": "9de4b204",
   "metadata": {},
   "outputs": [
    {
     "name": "stdout",
     "output_type": "stream",
     "text": [
      "A total of 0 observation belong to drugs which do not have enough replicates\n"
     ]
    }
   ],
   "source": [
    "drugs_validation = adata.obs.canonical_smiles.value_counts() < 6\n",
    "valid_drugs = drugs_validation.index[~drugs_validation]\n",
    "cond = adata.obs.canonical_smiles.isin(valid_drugs)\n",
    "print(f\"A total of {(~cond).sum()} observation belong to drugs which do not have enough replicates\")\n",
    "adata = adata[cond]"
   ]
  },
  {
   "cell_type": "markdown",
   "id": "7eabc68c",
   "metadata": {},
   "source": [
    "Checking that SMILES are valid according to `rdkit` "
   ]
  },
  {
   "cell_type": "code",
   "execution_count": 11,
   "id": "1c23d3c5",
   "metadata": {},
   "outputs": [
    {
     "data": {
      "text/plain": [
       "View of AnnData object with n_obs × n_vars = 176587 × 978\n",
       "    obs: 'cell_id', 'det_plate', 'det_well', 'lincs_phase', 'pert_dose', 'pert_dose_unit', 'pert_id', 'pert_iname', 'pert_mfc_id', 'pert_time', 'pert_time_unit', 'pert_type', 'rna_plate', 'rna_well', 'batch', 'condition', 'cell_type', 'dose_val', 'cov_drug_dose_name', 'control', 'split', 'canonical_smiles'\n",
       "    var: 'pr_gene_title', 'pr_is_lm', 'pr_is_bing'\n",
       "    uns: 'rank_genes_groups_cov'"
      ]
     },
     "execution_count": 11,
     "metadata": {},
     "output_type": "execute_result"
    }
   ],
   "source": [
    "from rdkit import Chem\n",
    "\n",
    "def check_smiles(smiles):\n",
    "    m = Chem.MolFromSmiles(smiles,sanitize=False)\n",
    "    if m is None:\n",
    "        print('invalid SMILES')\n",
    "        return False\n",
    "    else:\n",
    "        try:\n",
    "            Chem.SanitizeMol(m)\n",
    "        except:\n",
    "            print('invalid chemistry')\n",
    "            return False\n",
    "    return True\n",
    "\n",
    "def remove_invalid_smiles(dataframe, smiles_key: str = 'SMILES', return_condition: bool = False):\n",
    "    unique_drugs = pd.Series(np.unique(dataframe[smiles_key]))\n",
    "    valid_drugs = unique_drugs.apply(check_smiles)\n",
    "    print(f\"A total of {(~valid_drugs).sum()} have invalid SMILES strings\")\n",
    "    _validation_map = dict(zip(unique_drugs, valid_drugs))\n",
    "    cond = dataframe[smiles_key].apply(lambda x: _validation_map[x])\n",
    "    if return_condition: \n",
    "        return cond\n",
    "    dataframe = dataframe[cond].copy()\n",
    "    return dataframe\n",
    "\n",
    "adata"
   ]
  },
  {
   "cell_type": "code",
   "execution_count": 12,
   "id": "0bf04aa2",
   "metadata": {},
   "outputs": [
    {
     "name": "stdout",
     "output_type": "stream",
     "text": [
      "A total of 0 have invalid SMILES strings\n"
     ]
    }
   ],
   "source": [
    "cond = remove_invalid_smiles(adata.obs, smiles_key='canonical_smiles', return_condition=True)\n",
    "adata = adata[cond]"
   ]
  },
  {
   "cell_type": "markdown",
   "id": "5f298667",
   "metadata": {},
   "source": [
    "### Add additional drugbank info to `adata.obs`"
   ]
  },
  {
   "cell_type": "code",
   "execution_count": 13,
   "id": "a045fdbd",
   "metadata": {},
   "outputs": [
    {
     "name": "stderr",
     "output_type": "stream",
     "text": [
      "/home/icb/leon.hetzel/miniconda3/envs/py38/lib/python3.8/site-packages/IPython/core/interactiveshell.py:3165: DtypeWarning: Columns (54,62) have mixed types.Specify dtype option on import or set low_memory=False.\n",
      "  has_raised = await self.run_ast_nodes(code_ast.body, cell_name,\n"
     ]
    }
   ],
   "source": [
    "from os.path import exists\n",
    "\n",
    "drugbank_path = '../datasets/drug_bank/drugbank_all.csv'\n",
    "if exists(drugbank_path): \n",
    "    drugbank_df = pd.read_csv(drugbank_path)\n",
    "else: \n",
    "    print(f'Invalid path: {drugbank_path}')"
   ]
  },
  {
   "cell_type": "code",
   "execution_count": 14,
   "id": "70712bc3",
   "metadata": {},
   "outputs": [
    {
     "name": "stdout",
     "output_type": "stream",
     "text": [
      "From a total of 979, 20.43% (200) is also available in drugbank.\n"
     ]
    },
    {
     "name": "stderr",
     "output_type": "stream",
     "text": [
      "RDKit WARNING: [22:31:51] WARNING: not removing hydrogen atom without neighbors\n",
      "RDKit WARNING: [22:31:51] WARNING: not removing hydrogen atom without neighbors\n",
      "RDKit WARNING: [22:31:51] WARNING: not removing hydrogen atom without neighbors\n"
     ]
    }
   ],
   "source": [
    "from rdkit.Chem import CanonSmiles\n",
    "\n",
    "drugs_canonical = pd.Series(np.unique(adata.obs.canonical_smiles)).apply(CanonSmiles)\n",
    "db_canonical_smiles = drugbank_df.SMILES.apply(CanonSmiles)\n",
    "n_overlap = drugs_canonical.isin(db_canonical_smiles).sum()\n",
    "print(f'From a total of {len(drugs_canonical)}, {100*n_overlap/len(drugs_canonical):.2f}% ({n_overlap}) is also available in drugbank.')"
   ]
  },
  {
   "cell_type": "code",
   "execution_count": 15,
   "id": "0459f6ed",
   "metadata": {},
   "outputs": [
    {
     "data": {
      "text/plain": [
       "ATC_level_1                               \n",
       "an                                            68\n",
       "ANTINEOPLASTIC AND IMMUNOMODULATING AGENTS    42\n",
       "NERVOUS SYSTEM                                22\n",
       "CARDIOVASCULAR SYSTEM                         16\n",
       "ALIMENTARY TRACT AND METABOLISM               13\n",
       "GENITO URINARY SYSTEM AND SEX HORMONES         8\n",
       "RESPIRATORY SYSTEM                             6\n",
       "SENSORY ORGANS                                 6\n",
       "DERMATOLOGICALS                                5\n",
       "INSECTICIDES AND REPELLENTS                    4\n",
       "MUSCULO-SKELETAL SYSTEM                        4\n",
       "ANTIINFECTIVES FOR SYSTEMIC USE                2\n",
       "BLOOD AND BLOOD FORMING ORGANS                 2\n",
       "VARIOUS                                        2\n",
       "dtype: int64"
      ]
     },
     "execution_count": 15,
     "metadata": {},
     "output_type": "execute_result"
    }
   ],
   "source": [
    "cond = db_canonical_smiles.isin(drugs_canonical)\n",
    "drugbank_df.loc[cond, ['ATC_level_1']].value_counts()"
   ]
  },
  {
   "cell_type": "markdown",
   "id": "b939230e",
   "metadata": {},
   "source": [
    "### Check that `.obs.split=='test'` has sufficient samples for `pert_id` and `cell_id`"
   ]
  },
  {
   "cell_type": "code",
   "execution_count": 16,
   "id": "dfcaf235",
   "metadata": {
    "scrolled": true
   },
   "outputs": [
    {
     "data": {
      "text/plain": [
       "train    144579\n",
       "test      27592\n",
       "ood        4416\n",
       "Name: split, dtype: int64"
      ]
     },
     "execution_count": 16,
     "metadata": {},
     "output_type": "execute_result"
    }
   ],
   "source": [
    "adata.obs.split.value_counts()"
   ]
  },
  {
   "cell_type": "code",
   "execution_count": 18,
   "id": "3cde65ff",
   "metadata": {},
   "outputs": [
    {
     "data": {
      "text/plain": [
       "MCF7        4091\n",
       "PC3         3330\n",
       "VCAP        2244\n",
       "HT29        2201\n",
       "A375        2130\n",
       "            ... \n",
       "H1299         22\n",
       "TYKNU         21\n",
       "COV644        20\n",
       "WSUDLCL2      20\n",
       "HS27A          2\n",
       "Name: cell_id, Length: 82, dtype: int64"
      ]
     },
     "execution_count": 18,
     "metadata": {},
     "output_type": "execute_result"
    }
   ],
   "source": [
    "cond_test = adata.obs.split.isin(['test'])\n",
    "adata.obs.loc[cond_test, 'cell_id'].value_counts()"
   ]
  },
  {
   "cell_type": "code",
   "execution_count": 19,
   "id": "d00bb734",
   "metadata": {},
   "outputs": [
    {
     "data": {
      "text/plain": [
       "DMSO             7465\n",
       "BRD-A19037878     465\n",
       "BRD-K49328571     325\n",
       "BRD-K21680192     190\n",
       "BRD-K59369769     172\n",
       "                 ... \n",
       "BRD-A58753560       1\n",
       "BRD-K48116811       1\n",
       "BRD-K26373640       1\n",
       "BRD-K24652731       1\n",
       "BRD-K43813806       1\n",
       "Name: pert_id, Length: 975, dtype: int64"
      ]
     },
     "execution_count": 19,
     "metadata": {},
     "output_type": "execute_result"
    }
   ],
   "source": [
    "adata.obs.loc[cond_test, 'pert_id'].value_counts()"
   ]
  },
  {
   "cell_type": "code",
   "execution_count": 21,
   "id": "96ff7145",
   "metadata": {},
   "outputs": [
    {
     "name": "stdout",
     "output_type": "stream",
     "text": [
      "pert_id: 179/975 converted back to 'train' due to insufficient # of samples.\n",
      "cell_id: 1/82 converted back to 'train' due to insufficient # of samples.\n"
     ]
    }
   ],
   "source": [
    "pert_count_treshold = 5\n",
    "cov_count_treshold = 20\n",
    "\n",
    "pert_id_neg = adata.obs.loc[cond_test, 'pert_id'].value_counts() < pert_count_treshold\n",
    "print(f\"pert_id: {pert_id_neg.sum()}/{len(pert_id_neg)} converted back to 'train' due to insufficient # of samples.\")\n",
    "\n",
    "cov_id_neg = adata.obs.loc[cond_test, 'cell_id'].value_counts() < cov_count_treshold\n",
    "print(f\"cell_id: {cov_id_neg.sum()}/{len(cov_id_neg)} converted back to 'train' due to insufficient # of samples.\")\n",
    "\n",
    "cond = cond_test & adata.obs.pert_id.isin(pert_id_neg.index[pert_id_neg])\n",
    "cond |= cond_test & adata.obs.cell_id.isin(cov_id_neg.index[cov_id_neg])"
   ]
  },
  {
   "cell_type": "code",
   "execution_count": 23,
   "id": "ec49475c",
   "metadata": {},
   "outputs": [
    {
     "name": "stdout",
     "output_type": "stream",
     "text": [
      "split['test']: 506/176587 samples are converted back to 'train'.\n"
     ]
    }
   ],
   "source": [
    "adata.obs['split1'] = adata.obs.split.copy()\n",
    "adata.obs.loc[cond, 'split1'] = 'train'\n",
    "print(f\"split['test']: {cond.sum()}/{len(cond)} samples are converted back to 'train'.\")"
   ]
  },
  {
   "cell_type": "code",
   "execution_count": 24,
   "id": "0cfeddcb",
   "metadata": {},
   "outputs": [
    {
     "data": {
      "text/plain": [
       "train    145085\n",
       "test      27086\n",
       "ood        4416\n",
       "Name: split1, dtype: int64"
      ]
     },
     "execution_count": 24,
     "metadata": {},
     "output_type": "execute_result"
    }
   ],
   "source": [
    "adata.obs.split1.value_counts()"
   ]
  },
  {
   "cell_type": "code",
   "execution_count": 25,
   "id": "3b6bd388",
   "metadata": {},
   "outputs": [
    {
     "name": "stderr",
     "output_type": "stream",
     "text": [
      "... storing 'pert_id' as categorical\n",
      "... storing 'canonical_smiles' as categorical\n"
     ]
    },
    {
     "data": {
      "text/plain": [
       "AnnData object with n_obs × n_vars = 176587 × 978\n",
       "    obs: 'cell_id', 'det_plate', 'det_well', 'lincs_phase', 'pert_dose', 'pert_dose_unit', 'pert_id', 'pert_iname', 'pert_mfc_id', 'pert_time', 'pert_time_unit', 'pert_type', 'rna_plate', 'rna_well', 'batch', 'condition', 'cell_type', 'dose_val', 'cov_drug_dose_name', 'control', 'split', 'canonical_smiles', 'split1'\n",
       "    var: 'pr_gene_title', 'pr_is_lm', 'pr_is_bing'\n",
       "    uns: 'rank_genes_groups_cov'"
      ]
     },
     "execution_count": 25,
     "metadata": {},
     "output_type": "execute_result"
    }
   ],
   "source": [
    "adata.write(adata_out)\n",
    "adata"
   ]
  },
  {
   "cell_type": "markdown",
   "id": "ab3d1a36",
   "metadata": {},
   "source": [
    "### Loading the result for `adata_out`"
   ]
  },
  {
   "cell_type": "code",
   "execution_count": 5,
   "id": "3724ff2d",
   "metadata": {},
   "outputs": [],
   "source": [
    "adata = sc.read(adata_out)"
   ]
  },
  {
   "cell_type": "code",
   "execution_count": 6,
   "id": "9100f758",
   "metadata": {},
   "outputs": [
    {
     "data": {
      "text/plain": [
       "AnnData object with n_obs × n_vars = 176587 × 978\n",
       "    obs: 'cell_id', 'det_plate', 'det_well', 'lincs_phase', 'pert_dose', 'pert_dose_unit', 'pert_id', 'pert_iname', 'pert_mfc_id', 'pert_time', 'pert_time_unit', 'pert_type', 'rna_plate', 'rna_well', 'batch', 'condition', 'cell_type', 'dose_val', 'cov_drug_dose_name', 'control', 'split', 'canonical_smiles', 'split1'\n",
       "    var: 'pr_gene_title', 'pr_is_lm', 'pr_is_bing'\n",
       "    uns: 'rank_genes_groups_cov'"
      ]
     },
     "execution_count": 6,
     "metadata": {},
     "output_type": "execute_result"
    }
   ],
   "source": [
    "adata"
   ]
  },
  {
   "cell_type": "code",
   "execution_count": null,
   "id": "0139f1c8",
   "metadata": {},
   "outputs": [],
   "source": []
  }
 ],
 "metadata": {
  "kernelspec": {
   "display_name": "Python 3",
   "language": "python",
   "name": "python3"
  },
  "language_info": {
   "codemirror_mode": {
    "name": "ipython",
    "version": 3
   },
   "file_extension": ".py",
   "mimetype": "text/x-python",
   "name": "python",
   "nbconvert_exporter": "python",
   "pygments_lexer": "ipython3",
   "version": "3.8.8"
  }
 },
 "nbformat": 4,
 "nbformat_minor": 5
}
