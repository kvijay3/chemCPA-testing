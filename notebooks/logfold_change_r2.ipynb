{
 "cells": [
  {
   "cell_type": "code",
   "execution_count": 1,
   "id": "56a7b788",
   "metadata": {},
   "outputs": [
    {
     "name": "stderr",
     "output_type": "stream",
     "text": [
      "/home/icb/leon.hetzel/miniconda3/envs/py38/lib/python3.8/site-packages/seml/database.py:5: TqdmExperimentalWarning: Using `tqdm.autonotebook.tqdm` in notebook mode. Use `tqdm.tqdm` instead to force console mode (e.g. in jupyter console)\n",
      "  from tqdm.autonotebook import tqdm\n"
     ]
    },
    {
     "name": "stdout",
     "output_type": "stream",
     "text": [
      "scanpy==1.8.1 anndata==0.7.6 umap==0.5.1 numpy==1.19.2 scipy==1.6.2 pandas==1.2.4 scikit-learn==0.24.2 statsmodels==0.12.2 python-igraph==0.9.1 louvain==0.7.0 pynndescent==0.5.2\n"
     ]
    }
   ],
   "source": [
    "import seml\n",
    "import numpy as np\n",
    "import pandas as pd\n",
    "from matplotlib import pyplot as plt\n",
    "import scanpy as sc\n",
    "import matplotlib.pyplot as plt\n",
    "pd.options.display.max_columns = 100\n",
    "sc.set_figure_params(dpi=80, frameon=False)\n",
    "sc.logging.print_header()"
   ]
  },
  {
   "cell_type": "code",
   "execution_count": 2,
   "id": "e0818316",
   "metadata": {},
   "outputs": [
    {
     "data": {
      "application/javascript": [
       "\n",
       "            setTimeout(function() {\n",
       "                var nbb_cell_id = 2;\n",
       "                var nbb_unformatted_code = \"%load_ext nb_black\\n%load_ext autoreload\\n%autoreload 2\";\n",
       "                var nbb_formatted_code = \"%load_ext nb_black\\n%load_ext autoreload\\n%autoreload 2\";\n",
       "                var nbb_cells = Jupyter.notebook.get_cells();\n",
       "                for (var i = 0; i < nbb_cells.length; ++i) {\n",
       "                    if (nbb_cells[i].input_prompt_number == nbb_cell_id) {\n",
       "                        if (nbb_cells[i].get_text() == nbb_unformatted_code) {\n",
       "                             nbb_cells[i].set_text(nbb_formatted_code);\n",
       "                        }\n",
       "                        break;\n",
       "                    }\n",
       "                }\n",
       "            }, 500);\n",
       "            "
      ],
      "text/plain": [
       "<IPython.core.display.Javascript object>"
      ]
     },
     "metadata": {},
     "output_type": "display_data"
    }
   ],
   "source": [
    "%load_ext nb_black\n",
    "%load_ext autoreload\n",
    "%autoreload 2"
   ]
  },
  {
   "cell_type": "code",
   "execution_count": 3,
   "id": "870fbb7b",
   "metadata": {},
   "outputs": [
    {
     "data": {
      "application/javascript": [
       "\n",
       "            setTimeout(function() {\n",
       "                var nbb_cell_id = 3;\n",
       "                var nbb_unformatted_code = \"adata = sc.read('../datasets/lincs_smiles.h5ad')\";\n",
       "                var nbb_formatted_code = \"adata = sc.read(\\\"../datasets/lincs_smiles.h5ad\\\")\";\n",
       "                var nbb_cells = Jupyter.notebook.get_cells();\n",
       "                for (var i = 0; i < nbb_cells.length; ++i) {\n",
       "                    if (nbb_cells[i].input_prompt_number == nbb_cell_id) {\n",
       "                        if (nbb_cells[i].get_text() == nbb_unformatted_code) {\n",
       "                             nbb_cells[i].set_text(nbb_formatted_code);\n",
       "                        }\n",
       "                        break;\n",
       "                    }\n",
       "                }\n",
       "            }, 500);\n",
       "            "
      ],
      "text/plain": [
       "<IPython.core.display.Javascript object>"
      ]
     },
     "metadata": {},
     "output_type": "display_data"
    }
   ],
   "source": [
    "adata = sc.read(\"../datasets/lincs_smiles.h5ad\")"
   ]
  },
  {
   "cell_type": "code",
   "execution_count": 4,
   "id": "32b0b65e",
   "metadata": {
    "scrolled": true
   },
   "outputs": [
    {
     "data": {
      "application/vnd.jupyter.widget-view+json": {
       "model_id": "d63b24eb92474356adf12f32cc79ebae",
       "version_major": 2,
       "version_minor": 0
      },
      "text/plain": [
       "  0%|          | 0/300 [00:00<?, ?it/s]"
      ]
     },
     "metadata": {},
     "output_type": "display_data"
    },
    {
     "data": {
      "application/vnd.jupyter.widget-view+json": {
       "model_id": "fa8f9eaf1b7a46fe9ed470612b811a6c",
       "version_major": 2,
       "version_minor": 0
      },
      "text/plain": [
       "  0%|          | 0/300 [00:00<?, ?it/s]"
      ]
     },
     "metadata": {},
     "output_type": "display_data"
    },
    {
     "name": "stderr",
     "output_type": "stream",
     "text": [
      "/home/icb/leon.hetzel/miniconda3/envs/py38/lib/python3.8/site-packages/seml/evaluation.py:80: FutureWarning: pandas.io.json.json_normalize is deprecated, use pandas.json_normalize instead\n",
      "  parsed = pd.io.json.json_normalize(parsed, sep='.')\n"
     ]
    },
    {
     "data": {
      "application/javascript": [
       "\n",
       "            setTimeout(function() {\n",
       "                var nbb_cell_id = 4;\n",
       "                var nbb_unformatted_code = \"results = seml.get_results('lincs_small_5', to_data_frame=True, fields=['config', 'result', 'host']) #fields=['result']|\";\n",
       "                var nbb_formatted_code = \"results = seml.get_results(\\n    \\\"lincs_small_5\\\", to_data_frame=True, fields=[\\\"config\\\", \\\"result\\\", \\\"host\\\"]\\n)  # fields=['result']|\";\n",
       "                var nbb_cells = Jupyter.notebook.get_cells();\n",
       "                for (var i = 0; i < nbb_cells.length; ++i) {\n",
       "                    if (nbb_cells[i].input_prompt_number == nbb_cell_id) {\n",
       "                        if (nbb_cells[i].get_text() == nbb_unformatted_code) {\n",
       "                             nbb_cells[i].set_text(nbb_formatted_code);\n",
       "                        }\n",
       "                        break;\n",
       "                    }\n",
       "                }\n",
       "            }, 500);\n",
       "            "
      ],
      "text/plain": [
       "<IPython.core.display.Javascript object>"
      ]
     },
     "metadata": {},
     "output_type": "display_data"
    }
   ],
   "source": [
    "results = seml.get_results(\n",
    "    \"lincs_small_5\", to_data_frame=True, fields=[\"config\", \"result\", \"host\"]\n",
    ")  # fields=['result']|"
   ]
  },
  {
   "cell_type": "code",
   "execution_count": 5,
   "id": "676babbf",
   "metadata": {},
   "outputs": [
    {
     "data": {
      "text/html": [
       "<div>\n",
       "<style scoped>\n",
       "    .dataframe tbody tr th:only-of-type {\n",
       "        vertical-align: middle;\n",
       "    }\n",
       "\n",
       "    .dataframe tbody tr th {\n",
       "        vertical-align: top;\n",
       "    }\n",
       "\n",
       "    .dataframe thead th {\n",
       "        text-align: right;\n",
       "    }\n",
       "</style>\n",
       "<table border=\"1\" class=\"dataframe\">\n",
       "  <thead>\n",
       "    <tr style=\"text-align: right;\">\n",
       "      <th></th>\n",
       "      <th>config.overwrite</th>\n",
       "      <th>config.db_collection</th>\n",
       "      <th>config.dataset.data_params.covariate_keys</th>\n",
       "      <th>config.dataset.data_params.dataset_path</th>\n",
       "      <th>config.dataset.data_params.dose_key</th>\n",
       "      <th>config.dataset.data_params.mol_featurizer</th>\n",
       "      <th>config.dataset.data_params.perturbation_key</th>\n",
       "      <th>config.dataset.data_params.smiles_key</th>\n",
       "      <th>config.dataset.data_params.split_key</th>\n",
       "      <th>config.dataset.dataset_type</th>\n",
       "      <th>config.model.additional_params.decoder_activation</th>\n",
       "      <th>config.model.additional_params.doser_type</th>\n",
       "      <th>config.model.additional_params.loss_ae</th>\n",
       "      <th>config.model.additional_params.patience</th>\n",
       "      <th>config.model.additional_params.seed</th>\n",
       "      <th>config.model.gnn_model.GCN.hparams.n_layers</th>\n",
       "      <th>config.model.gnn_model.hparams.n_layers</th>\n",
       "      <th>config.model.gnn_model.model_type</th>\n",
       "      <th>config.model.hparams.adversary_depth</th>\n",
       "      <th>config.model.hparams.adversary_lr</th>\n",
       "      <th>config.model.hparams.adversary_steps</th>\n",
       "      <th>config.model.hparams.adversary_wd</th>\n",
       "      <th>config.model.hparams.adversary_width</th>\n",
       "      <th>config.model.hparams.autoencoder_depth</th>\n",
       "      <th>config.model.hparams.autoencoder_lr</th>\n",
       "      <th>config.model.hparams.autoencoder_wd</th>\n",
       "      <th>config.model.hparams.autoencoder_width</th>\n",
       "      <th>config.model.hparams.batch_size</th>\n",
       "      <th>config.model.hparams.dim</th>\n",
       "      <th>config.model.hparams.dosers_depth</th>\n",
       "      <th>config.model.hparams.dosers_lr</th>\n",
       "      <th>config.model.hparams.dosers_wd</th>\n",
       "      <th>config.model.hparams.dosers_width</th>\n",
       "      <th>config.model.hparams.dropout</th>\n",
       "      <th>config.model.hparams.penalty_adversary</th>\n",
       "      <th>config.model.hparams.reg_adversary</th>\n",
       "      <th>config.model.hparams.step_size_lr</th>\n",
       "      <th>config.training.checkpoint_freq</th>\n",
       "      <th>config.training.ignore_evaluation</th>\n",
       "      <th>config.training.max_minutes</th>\n",
       "      <th>config.training.num_epochs</th>\n",
       "      <th>config.training.save_checkpoints</th>\n",
       "      <th>config.training.save_dir</th>\n",
       "      <th>config.seed</th>\n",
       "      <th>result.total_epochs</th>\n",
       "    </tr>\n",
       "  </thead>\n",
       "  <tbody>\n",
       "    <tr>\n",
       "      <th>296</th>\n",
       "      <td>297</td>\n",
       "      <td>lincs_small_5</td>\n",
       "      <td>cell_id</td>\n",
       "      <td>datasets/lincs_smiles.h5ad</td>\n",
       "      <td>pert_dose</td>\n",
       "      <td>canonical</td>\n",
       "      <td>pert_id</td>\n",
       "      <td>canonical_smiles</td>\n",
       "      <td>split1</td>\n",
       "      <td>lincs</td>\n",
       "      <td>linear</td>\n",
       "      <td>None</td>\n",
       "      <td>gauss</td>\n",
       "      <td>3</td>\n",
       "      <td>0</td>\n",
       "      <td>2</td>\n",
       "      <td>2</td>\n",
       "      <td>None</td>\n",
       "      <td>3</td>\n",
       "      <td>0.000347</td>\n",
       "      <td>3</td>\n",
       "      <td>0.000204</td>\n",
       "      <td>64</td>\n",
       "      <td>4</td>\n",
       "      <td>0.003467</td>\n",
       "      <td>0.000002</td>\n",
       "      <td>512</td>\n",
       "      <td>128</td>\n",
       "      <td>256</td>\n",
       "      <td>1</td>\n",
       "      <td>0.003467</td>\n",
       "      <td>0.000002</td>\n",
       "      <td>128</td>\n",
       "      <td>0.384997</td>\n",
       "      <td>2.041647</td>\n",
       "      <td>12.02193</td>\n",
       "      <td>45</td>\n",
       "      <td>40</td>\n",
       "      <td>False</td>\n",
       "      <td>600</td>\n",
       "      <td>2000</td>\n",
       "      <td>True</td>\n",
       "      <td>sweeps/checkpoints</td>\n",
       "      <td>163890034</td>\n",
       "      <td>200</td>\n",
       "    </tr>\n",
       "  </tbody>\n",
       "</table>\n",
       "</div>"
      ],
      "text/plain": [
       "     config.overwrite config.db_collection  \\\n",
       "296               297        lincs_small_5   \n",
       "\n",
       "    config.dataset.data_params.covariate_keys  \\\n",
       "296                                   cell_id   \n",
       "\n",
       "    config.dataset.data_params.dataset_path  \\\n",
       "296              datasets/lincs_smiles.h5ad   \n",
       "\n",
       "    config.dataset.data_params.dose_key  \\\n",
       "296                           pert_dose   \n",
       "\n",
       "    config.dataset.data_params.mol_featurizer  \\\n",
       "296                                 canonical   \n",
       "\n",
       "    config.dataset.data_params.perturbation_key  \\\n",
       "296                                     pert_id   \n",
       "\n",
       "    config.dataset.data_params.smiles_key  \\\n",
       "296                      canonical_smiles   \n",
       "\n",
       "    config.dataset.data_params.split_key config.dataset.dataset_type  \\\n",
       "296                               split1                       lincs   \n",
       "\n",
       "    config.model.additional_params.decoder_activation  \\\n",
       "296                                            linear   \n",
       "\n",
       "    config.model.additional_params.doser_type  \\\n",
       "296                                      None   \n",
       "\n",
       "    config.model.additional_params.loss_ae  \\\n",
       "296                                  gauss   \n",
       "\n",
       "     config.model.additional_params.patience  \\\n",
       "296                                        3   \n",
       "\n",
       "     config.model.additional_params.seed  \\\n",
       "296                                    0   \n",
       "\n",
       "     config.model.gnn_model.GCN.hparams.n_layers  \\\n",
       "296                                            2   \n",
       "\n",
       "     config.model.gnn_model.hparams.n_layers  \\\n",
       "296                                        2   \n",
       "\n",
       "    config.model.gnn_model.model_type  config.model.hparams.adversary_depth  \\\n",
       "296                              None                                     3   \n",
       "\n",
       "     config.model.hparams.adversary_lr  config.model.hparams.adversary_steps  \\\n",
       "296                           0.000347                                     3   \n",
       "\n",
       "     config.model.hparams.adversary_wd  config.model.hparams.adversary_width  \\\n",
       "296                           0.000204                                    64   \n",
       "\n",
       "     config.model.hparams.autoencoder_depth  \\\n",
       "296                                       4   \n",
       "\n",
       "     config.model.hparams.autoencoder_lr  config.model.hparams.autoencoder_wd  \\\n",
       "296                             0.003467                             0.000002   \n",
       "\n",
       "     config.model.hparams.autoencoder_width  config.model.hparams.batch_size  \\\n",
       "296                                     512                              128   \n",
       "\n",
       "     config.model.hparams.dim  config.model.hparams.dosers_depth  \\\n",
       "296                       256                                  1   \n",
       "\n",
       "     config.model.hparams.dosers_lr  config.model.hparams.dosers_wd  \\\n",
       "296                        0.003467                        0.000002   \n",
       "\n",
       "     config.model.hparams.dosers_width  config.model.hparams.dropout  \\\n",
       "296                                128                      0.384997   \n",
       "\n",
       "     config.model.hparams.penalty_adversary  \\\n",
       "296                                2.041647   \n",
       "\n",
       "     config.model.hparams.reg_adversary  config.model.hparams.step_size_lr  \\\n",
       "296                            12.02193                                 45   \n",
       "\n",
       "     config.training.checkpoint_freq  config.training.ignore_evaluation  \\\n",
       "296                               40                              False   \n",
       "\n",
       "     config.training.max_minutes  config.training.num_epochs  \\\n",
       "296                          600                        2000   \n",
       "\n",
       "     config.training.save_checkpoints config.training.save_dir  config.seed  \\\n",
       "296                              True       sweeps/checkpoints    163890034   \n",
       "\n",
       "     result.total_epochs  \n",
       "296                  200  "
      ]
     },
     "execution_count": 5,
     "metadata": {},
     "output_type": "execute_result"
    },
    {
     "data": {
      "application/javascript": [
       "\n",
       "            setTimeout(function() {\n",
       "                var nbb_cell_id = 5;\n",
       "                var nbb_unformatted_code = \"idx = 296\\n\\ncolumns = [c for c in list(results) if 'config' in c or c=='result.total_epochs']\\nresult_idx = results[results.index==idx][columns].copy()\\nresult_idx\";\n",
       "                var nbb_formatted_code = \"idx = 296\\n\\ncolumns = [c for c in list(results) if \\\"config\\\" in c or c == \\\"result.total_epochs\\\"]\\nresult_idx = results[results.index == idx][columns].copy()\\nresult_idx\";\n",
       "                var nbb_cells = Jupyter.notebook.get_cells();\n",
       "                for (var i = 0; i < nbb_cells.length; ++i) {\n",
       "                    if (nbb_cells[i].input_prompt_number == nbb_cell_id) {\n",
       "                        if (nbb_cells[i].get_text() == nbb_unformatted_code) {\n",
       "                             nbb_cells[i].set_text(nbb_formatted_code);\n",
       "                        }\n",
       "                        break;\n",
       "                    }\n",
       "                }\n",
       "            }, 500);\n",
       "            "
      ],
      "text/plain": [
       "<IPython.core.display.Javascript object>"
      ]
     },
     "metadata": {},
     "output_type": "display_data"
    }
   ],
   "source": [
    "idx = 296\n",
    "\n",
    "columns = [c for c in list(results) if \"config\" in c or c == \"result.total_epochs\"]\n",
    "result_idx = results[results.index == idx][columns].copy()\n",
    "result_idx"
   ]
  },
  {
   "cell_type": "code",
   "execution_count": 6,
   "id": "2a06f851",
   "metadata": {},
   "outputs": [
    {
     "data": {
      "application/javascript": [
       "\n",
       "            setTimeout(function() {\n",
       "                var nbb_cell_id = 6;\n",
       "                var nbb_unformatted_code = \"config_dict = {'hparams': {}}\\n\\nconfig = result_idx\\nfor key, value in config.to_dict().items(): \\n    keys = key.split('.')\\n    if 'datasets' in keys:\\n        config_dict[keys[-1]] = value[idx] \\n    elif 'training' in keys:\\n        config_dict[keys[-1]] = value[idx] \\n    elif 'hparams' in keys:\\n        config_dict['hparams'][keys[-1]] = value[idx] \\n    else: \\n        config_dict[keys[-1]] = value[idx] \\n\\n# config_dict\";\n",
       "                var nbb_formatted_code = \"config_dict = {\\\"hparams\\\": {}}\\n\\nconfig = result_idx\\nfor key, value in config.to_dict().items():\\n    keys = key.split(\\\".\\\")\\n    if \\\"datasets\\\" in keys:\\n        config_dict[keys[-1]] = value[idx]\\n    elif \\\"training\\\" in keys:\\n        config_dict[keys[-1]] = value[idx]\\n    elif \\\"hparams\\\" in keys:\\n        config_dict[\\\"hparams\\\"][keys[-1]] = value[idx]\\n    else:\\n        config_dict[keys[-1]] = value[idx]\\n\\n# config_dict\";\n",
       "                var nbb_cells = Jupyter.notebook.get_cells();\n",
       "                for (var i = 0; i < nbb_cells.length; ++i) {\n",
       "                    if (nbb_cells[i].input_prompt_number == nbb_cell_id) {\n",
       "                        if (nbb_cells[i].get_text() == nbb_unformatted_code) {\n",
       "                             nbb_cells[i].set_text(nbb_formatted_code);\n",
       "                        }\n",
       "                        break;\n",
       "                    }\n",
       "                }\n",
       "            }, 500);\n",
       "            "
      ],
      "text/plain": [
       "<IPython.core.display.Javascript object>"
      ]
     },
     "metadata": {},
     "output_type": "display_data"
    }
   ],
   "source": [
    "config_dict = {\"hparams\": {}}\n",
    "\n",
    "config = result_idx\n",
    "for key, value in config.to_dict().items():\n",
    "    keys = key.split(\".\")\n",
    "    if \"datasets\" in keys:\n",
    "        config_dict[keys[-1]] = value[idx]\n",
    "    elif \"training\" in keys:\n",
    "        config_dict[keys[-1]] = value[idx]\n",
    "    elif \"hparams\" in keys:\n",
    "        config_dict[\"hparams\"][keys[-1]] = value[idx]\n",
    "    else:\n",
    "        config_dict[keys[-1]] = value[idx]\n",
    "\n",
    "# config_dict"
   ]
  },
  {
   "cell_type": "code",
   "execution_count": 7,
   "id": "62ec1f49",
   "metadata": {},
   "outputs": [
    {
     "name": "stderr",
     "output_type": "stream",
     "text": [
      "Using backend: pytorch\n"
     ]
    },
    {
     "name": "stdout",
     "output_type": "stream",
     "text": [
      "Loading model checkpoint: ../sweeps/checkpoints/model_seed=163890034_epoch=200.pt\n"
     ]
    },
    {
     "data": {
      "application/javascript": [
       "\n",
       "            setTimeout(function() {\n",
       "                var nbb_cell_id = 7;\n",
       "                var nbb_unformatted_code = \"import torch\\nfrom compert.train import prepare_compert\\n\\nfname = f'../sweeps/checkpoints/model_seed={config_dict[\\\"seed\\\"]}_epoch={config_dict[\\\"total_epochs\\\"]}.pt'\\nprint(f'Loading model checkpoint: {fname}')\\n\\nstate, args, history = torch.load(fname,map_location=torch.device('cpu'))\";\n",
       "                var nbb_formatted_code = \"import torch\\nfrom compert.train import prepare_compert\\n\\nfname = f'../sweeps/checkpoints/model_seed={config_dict[\\\"seed\\\"]}_epoch={config_dict[\\\"total_epochs\\\"]}.pt'\\nprint(f\\\"Loading model checkpoint: {fname}\\\")\\n\\nstate, args, history = torch.load(fname, map_location=torch.device(\\\"cpu\\\"))\";\n",
       "                var nbb_cells = Jupyter.notebook.get_cells();\n",
       "                for (var i = 0; i < nbb_cells.length; ++i) {\n",
       "                    if (nbb_cells[i].input_prompt_number == nbb_cell_id) {\n",
       "                        if (nbb_cells[i].get_text() == nbb_unformatted_code) {\n",
       "                             nbb_cells[i].set_text(nbb_formatted_code);\n",
       "                        }\n",
       "                        break;\n",
       "                    }\n",
       "                }\n",
       "            }, 500);\n",
       "            "
      ],
      "text/plain": [
       "<IPython.core.display.Javascript object>"
      ]
     },
     "metadata": {},
     "output_type": "display_data"
    }
   ],
   "source": [
    "import torch\n",
    "from compert.train import prepare_compert\n",
    "\n",
    "fname = f'../sweeps/checkpoints/model_seed={config_dict[\"seed\"]}_epoch={config_dict[\"total_epochs\"]}.pt'\n",
    "print(f\"Loading model checkpoint: {fname}\")\n",
    "\n",
    "state, args, history = torch.load(fname, map_location=torch.device(\"cpu\"))"
   ]
  },
  {
   "cell_type": "code",
   "execution_count": 8,
   "id": "680e5428",
   "metadata": {},
   "outputs": [
    {
     "data": {
      "text/plain": [
       "array([[ 0.74796944,  0.35003333, -1.12957383, -4.52891254],\n",
       "       [ 0.89086718,  0.6844134 , -0.13499093, -0.10016109],\n",
       "       [ 0.92135753,  0.86392902, -0.33252307, -0.20540892],\n",
       "       [ 0.92909624,  0.83584664, -0.41821722, -0.42977887],\n",
       "       [ 0.91722952,  0.89143855, -0.39448219, -0.3743134 ],\n",
       "       [ 0.92539471,  0.84718229, -0.58926681, -0.62062991]])"
      ]
     },
     "execution_count": 8,
     "metadata": {},
     "output_type": "execute_result"
    },
    {
     "data": {
      "application/javascript": [
       "\n",
       "            setTimeout(function() {\n",
       "                var nbb_cell_id = 8;\n",
       "                var nbb_unformatted_code = \"np.array(results.loc[296,'result.test'])\";\n",
       "                var nbb_formatted_code = \"np.array(results.loc[296, \\\"result.test\\\"])\";\n",
       "                var nbb_cells = Jupyter.notebook.get_cells();\n",
       "                for (var i = 0; i < nbb_cells.length; ++i) {\n",
       "                    if (nbb_cells[i].input_prompt_number == nbb_cell_id) {\n",
       "                        if (nbb_cells[i].get_text() == nbb_unformatted_code) {\n",
       "                             nbb_cells[i].set_text(nbb_formatted_code);\n",
       "                        }\n",
       "                        break;\n",
       "                    }\n",
       "                }\n",
       "            }, 500);\n",
       "            "
      ],
      "text/plain": [
       "<IPython.core.display.Javascript object>"
      ]
     },
     "metadata": {},
     "output_type": "display_data"
    }
   ],
   "source": [
    "np.array(results.loc[296,'result.test'])\n"
   ]
  },
  {
   "cell_type": "code",
   "execution_count": 9,
   "id": "a786f501",
   "metadata": {},
   "outputs": [
    {
     "data": {
      "application/javascript": [
       "\n",
       "            setTimeout(function() {\n",
       "                var nbb_cell_id = 9;\n",
       "                var nbb_unformatted_code = \"# Adjust args \\nargs = args.copy()\\nargs['dataset_path'] = '../datasets/lincs_smiles.h5ad'\\nargs[\\\"gnn_model\\\"] = None\\n\\nfor k, v in config_dict.items(): \\n    args[k] = v if k not in list(args) else args[k]\";\n",
       "                var nbb_formatted_code = \"# Adjust args\\nargs = args.copy()\\nargs[\\\"dataset_path\\\"] = \\\"../datasets/lincs_smiles.h5ad\\\"\\nargs[\\\"gnn_model\\\"] = None\\n\\nfor k, v in config_dict.items():\\n    args[k] = v if k not in list(args) else args[k]\";\n",
       "                var nbb_cells = Jupyter.notebook.get_cells();\n",
       "                for (var i = 0; i < nbb_cells.length; ++i) {\n",
       "                    if (nbb_cells[i].input_prompt_number == nbb_cell_id) {\n",
       "                        if (nbb_cells[i].get_text() == nbb_unformatted_code) {\n",
       "                             nbb_cells[i].set_text(nbb_formatted_code);\n",
       "                        }\n",
       "                        break;\n",
       "                    }\n",
       "                }\n",
       "            }, 500);\n",
       "            "
      ],
      "text/plain": [
       "<IPython.core.display.Javascript object>"
      ]
     },
     "metadata": {},
     "output_type": "display_data"
    }
   ],
   "source": [
    "# Adjust args\n",
    "args = args.copy()\n",
    "args[\"dataset_path\"] = \"../datasets/lincs_smiles.h5ad\"\n",
    "args[\"gnn_model\"] = None\n",
    "\n",
    "for k, v in config_dict.items():\n",
    "    args[k] = v if k not in list(args) else args[k]"
   ]
  },
  {
   "cell_type": "code",
   "execution_count": 10,
   "id": "622f6521",
   "metadata": {},
   "outputs": [
    {
     "data": {
      "application/javascript": [
       "\n",
       "            setTimeout(function() {\n",
       "                var nbb_cell_id = 10;\n",
       "                var nbb_unformatted_code = \"# args\";\n",
       "                var nbb_formatted_code = \"# args\";\n",
       "                var nbb_cells = Jupyter.notebook.get_cells();\n",
       "                for (var i = 0; i < nbb_cells.length; ++i) {\n",
       "                    if (nbb_cells[i].input_prompt_number == nbb_cell_id) {\n",
       "                        if (nbb_cells[i].get_text() == nbb_unformatted_code) {\n",
       "                             nbb_cells[i].set_text(nbb_formatted_code);\n",
       "                        }\n",
       "                        break;\n",
       "                    }\n",
       "                }\n",
       "            }, 500);\n",
       "            "
      ],
      "text/plain": [
       "<IPython.core.display.Javascript object>"
      ]
     },
     "metadata": {},
     "output_type": "display_data"
    }
   ],
   "source": [
    "# args"
   ]
  },
  {
   "cell_type": "code",
   "execution_count": 11,
   "id": "155d6089",
   "metadata": {},
   "outputs": [
    {
     "name": "stdout",
     "output_type": "stream",
     "text": [
      "Starting to read in data: ../datasets/lincs_smiles.h5ad\n",
      "...\n",
      "Finished data loading.\n",
      "Learning parameter embedding for drugs.\n"
     ]
    },
    {
     "data": {
      "application/javascript": [
       "\n",
       "            setTimeout(function() {\n",
       "                var nbb_cell_id = 11;\n",
       "                var nbb_unformatted_code = \"# load the dataset and model pre-trained weights\\nmodel, datasets = prepare_compert(args, state_dict=state)\";\n",
       "                var nbb_formatted_code = \"# load the dataset and model pre-trained weights\\nmodel, datasets = prepare_compert(args, state_dict=state)\";\n",
       "                var nbb_cells = Jupyter.notebook.get_cells();\n",
       "                for (var i = 0; i < nbb_cells.length; ++i) {\n",
       "                    if (nbb_cells[i].input_prompt_number == nbb_cell_id) {\n",
       "                        if (nbb_cells[i].get_text() == nbb_unformatted_code) {\n",
       "                             nbb_cells[i].set_text(nbb_formatted_code);\n",
       "                        }\n",
       "                        break;\n",
       "                    }\n",
       "                }\n",
       "            }, 500);\n",
       "            "
      ],
      "text/plain": [
       "<IPython.core.display.Javascript object>"
      ]
     },
     "metadata": {},
     "output_type": "display_data"
    }
   ],
   "source": [
    "# load the dataset and model pre-trained weights\n",
    "model, datasets = prepare_compert(args, state_dict=state)"
   ]
  },
  {
   "cell_type": "code",
   "execution_count": 12,
   "id": "1b86953a",
   "metadata": {},
   "outputs": [
    {
     "name": "stdout",
     "output_type": "stream",
     "text": [
      "Number of different r2 computations: 3\n"
     ]
    },
    {
     "data": {
      "text/plain": [
       "[0.762864719316981, 0.3108959642313136, 0.0, 0.0]"
      ]
     },
     "execution_count": 12,
     "metadata": {},
     "output_type": "execute_result"
    },
    {
     "data": {
      "application/javascript": [
       "\n",
       "            setTimeout(function() {\n",
       "                var nbb_cell_id = 12;\n",
       "                var nbb_unformatted_code = \"from compert.train import evaluate_r2, evaluate_logfold_r2, evaluate\\n\\nevaluate_r2(model, datasets[\\\"test_treated\\\"], datasets[\\\"test_control\\\"].genes)\";\n",
       "                var nbb_formatted_code = \"from compert.train import evaluate_r2, evaluate_logfold_r2, evaluate\\n\\nevaluate_r2(model, datasets[\\\"test_treated\\\"], datasets[\\\"test_control\\\"].genes)\";\n",
       "                var nbb_cells = Jupyter.notebook.get_cells();\n",
       "                for (var i = 0; i < nbb_cells.length; ++i) {\n",
       "                    if (nbb_cells[i].input_prompt_number == nbb_cell_id) {\n",
       "                        if (nbb_cells[i].get_text() == nbb_unformatted_code) {\n",
       "                             nbb_cells[i].set_text(nbb_formatted_code);\n",
       "                        }\n",
       "                        break;\n",
       "                    }\n",
       "                }\n",
       "            }, 500);\n",
       "            "
      ],
      "text/plain": [
       "<IPython.core.display.Javascript object>"
      ]
     },
     "metadata": {},
     "output_type": "display_data"
    }
   ],
   "source": [
    "from compert.train import evaluate_r2, evaluate_logfold_r2, evaluate\n",
    "\n",
    "evaluate_r2(model, datasets[\"test_treated\"], datasets[\"test_control\"].genes)"
   ]
  },
  {
   "cell_type": "code",
   "execution_count": 13,
   "id": "363f3e58",
   "metadata": {},
   "outputs": [
    {
     "data": {
      "text/plain": [
       "0.0"
      ]
     },
     "execution_count": 13,
     "metadata": {},
     "output_type": "execute_result"
    },
    {
     "data": {
      "application/javascript": [
       "\n",
       "            setTimeout(function() {\n",
       "                var nbb_cell_id = 13;\n",
       "                var nbb_unformatted_code = \"ds_treated = datasets[\\\"test_treated\\\"]\\nds_ctrl = datasets[\\\"test_control\\\"]\\n\\nevaluate_logfold_r2(model, ds_treated, ds_ctrl)\";\n",
       "                var nbb_formatted_code = \"ds_treated = datasets[\\\"test_treated\\\"]\\nds_ctrl = datasets[\\\"test_control\\\"]\\n\\nevaluate_logfold_r2(model, ds_treated, ds_ctrl)\";\n",
       "                var nbb_cells = Jupyter.notebook.get_cells();\n",
       "                for (var i = 0; i < nbb_cells.length; ++i) {\n",
       "                    if (nbb_cells[i].input_prompt_number == nbb_cell_id) {\n",
       "                        if (nbb_cells[i].get_text() == nbb_unformatted_code) {\n",
       "                             nbb_cells[i].set_text(nbb_formatted_code);\n",
       "                        }\n",
       "                        break;\n",
       "                    }\n",
       "                }\n",
       "            }, 500);\n",
       "            "
      ],
      "text/plain": [
       "<IPython.core.display.Javascript object>"
      ]
     },
     "metadata": {},
     "output_type": "display_data"
    }
   ],
   "source": [
    "ds_treated = datasets[\"test_treated\"]\n",
    "ds_ctrl = datasets[\"test_control\"]\n",
    "\n",
    "evaluate_logfold_r2(model, ds_treated, ds_ctrl)"
   ]
  },
  {
   "cell_type": "code",
   "execution_count": 14,
   "id": "3f9a7f06",
   "metadata": {},
   "outputs": [
    {
     "name": "stdout",
     "output_type": "stream",
     "text": [
      "Number of different r2 computations: 3\n",
      "Number of different r2 computations: 74\n",
      "Number of different r2 computations: 3\n",
      "\n",
      "Took 1.8 min for evaluation.\n",
      "\n"
     ]
    },
    {
     "data": {
      "text/plain": [
       "{'training': [0.7586785299718857,\n",
       "  0.7130700923228277,\n",
       "  0.03554772692137942,\n",
       "  0.030444130562973015],\n",
       " 'test': [0.801329893307244, 0.7254796759758105, 0.0, 0.0],\n",
       " 'ood': [0.7988439563657508, 0.7081769298985462, 0.0, 0.0],\n",
       " 'training_logfold': 0.013095360171882155,\n",
       " 'test_logfold': 0.009852035616067475,\n",
       " 'ood_logfold': 0.027063445192690144,\n",
       " 'perturbation disentanglement': [0],\n",
       " 'optimal for perturbations': 0.0010204081632653062,\n",
       " 'covariate disentanglement': [0],\n",
       " 'optimal for covariates': [0.012195121951219513]}"
      ]
     },
     "execution_count": 14,
     "metadata": {},
     "output_type": "execute_result"
    },
    {
     "data": {
      "application/javascript": [
       "\n",
       "            setTimeout(function() {\n",
       "                var nbb_cell_id = 14;\n",
       "                var nbb_unformatted_code = \"evaluate(model, datasets)\";\n",
       "                var nbb_formatted_code = \"evaluate(model, datasets)\";\n",
       "                var nbb_cells = Jupyter.notebook.get_cells();\n",
       "                for (var i = 0; i < nbb_cells.length; ++i) {\n",
       "                    if (nbb_cells[i].input_prompt_number == nbb_cell_id) {\n",
       "                        if (nbb_cells[i].get_text() == nbb_unformatted_code) {\n",
       "                             nbb_cells[i].set_text(nbb_formatted_code);\n",
       "                        }\n",
       "                        break;\n",
       "                    }\n",
       "                }\n",
       "            }, 500);\n",
       "            "
      ],
      "text/plain": [
       "<IPython.core.display.Javascript object>"
      ]
     },
     "metadata": {},
     "output_type": "display_data"
    }
   ],
   "source": [
    "evaluate(model, datasets)"
   ]
  },
  {
   "cell_type": "code",
   "execution_count": 15,
   "id": "f8c4991b",
   "metadata": {},
   "outputs": [
    {
     "data": {
      "application/javascript": [
       "\n",
       "            setTimeout(function() {\n",
       "                var nbb_cell_id = 15;\n",
       "                var nbb_unformatted_code = \"ignore_dose = lambda x: \\\"_\\\".join(x.split(\\\"_\\\")[:-1])\\ncats = pd.Series(ds_treated.pert_categories).apply(ignore_dose)\";\n",
       "                var nbb_formatted_code = \"ignore_dose = lambda x: \\\"_\\\".join(x.split(\\\"_\\\")[:-1])\\ncats = pd.Series(ds_treated.pert_categories).apply(ignore_dose)\";\n",
       "                var nbb_cells = Jupyter.notebook.get_cells();\n",
       "                for (var i = 0; i < nbb_cells.length; ++i) {\n",
       "                    if (nbb_cells[i].input_prompt_number == nbb_cell_id) {\n",
       "                        if (nbb_cells[i].get_text() == nbb_unformatted_code) {\n",
       "                             nbb_cells[i].set_text(nbb_formatted_code);\n",
       "                        }\n",
       "                        break;\n",
       "                    }\n",
       "                }\n",
       "            }, 500);\n",
       "            "
      ],
      "text/plain": [
       "<IPython.core.display.Javascript object>"
      ]
     },
     "metadata": {},
     "output_type": "display_data"
    }
   ],
   "source": [
    "ignore_dose = lambda x: \"_\".join(x.split(\"_\")[:-1])\n",
    "cats = pd.Series(ds_treated.pert_categories).apply(ignore_dose)"
   ]
  },
  {
   "cell_type": "code",
   "execution_count": 40,
   "id": "e1888451",
   "metadata": {},
   "outputs": [
    {
     "data": {
      "text/plain": [
       "828"
      ]
     },
     "execution_count": 40,
     "metadata": {},
     "output_type": "execute_result"
    },
    {
     "data": {
      "application/javascript": [
       "\n",
       "            setTimeout(function() {\n",
       "                var nbb_cell_id = 40;\n",
       "                var nbb_unformatted_code = \"(cats.value_counts() > 5).sum()\";\n",
       "                var nbb_formatted_code = \"(cats.value_counts() > 5).sum()\";\n",
       "                var nbb_cells = Jupyter.notebook.get_cells();\n",
       "                for (var i = 0; i < nbb_cells.length; ++i) {\n",
       "                    if (nbb_cells[i].input_prompt_number == nbb_cell_id) {\n",
       "                        if (nbb_cells[i].get_text() == nbb_unformatted_code) {\n",
       "                             nbb_cells[i].set_text(nbb_formatted_code);\n",
       "                        }\n",
       "                        break;\n",
       "                    }\n",
       "                }\n",
       "            }, 500);\n",
       "            "
      ],
      "text/plain": [
       "<IPython.core.display.Javascript object>"
      ]
     },
     "metadata": {},
     "output_type": "display_data"
    }
   ],
   "source": [
    "(cats.value_counts() > 5).sum()"
   ]
  },
  {
   "cell_type": "code",
   "execution_count": 43,
   "id": "2f2cd61f",
   "metadata": {},
   "outputs": [
    {
     "data": {
      "text/plain": [
       "6774"
      ]
     },
     "execution_count": 43,
     "metadata": {},
     "output_type": "execute_result"
    },
    {
     "data": {
      "application/javascript": [
       "\n",
       "            setTimeout(function() {\n",
       "                var nbb_cell_id = 43;\n",
       "                var nbb_unformatted_code = \"len(cats.unique())\";\n",
       "                var nbb_formatted_code = \"len(cats.unique())\";\n",
       "                var nbb_cells = Jupyter.notebook.get_cells();\n",
       "                for (var i = 0; i < nbb_cells.length; ++i) {\n",
       "                    if (nbb_cells[i].input_prompt_number == nbb_cell_id) {\n",
       "                        if (nbb_cells[i].get_text() == nbb_unformatted_code) {\n",
       "                             nbb_cells[i].set_text(nbb_formatted_code);\n",
       "                        }\n",
       "                        break;\n",
       "                    }\n",
       "                }\n",
       "            }, 500);\n",
       "            "
      ],
      "text/plain": [
       "<IPython.core.display.Javascript object>"
      ]
     },
     "metadata": {},
     "output_type": "display_data"
    }
   ],
   "source": [
    "len(cats.unique())"
   ]
  },
  {
   "cell_type": "markdown",
   "id": "2ac4e9d3",
   "metadata": {},
   "source": [
    "# Exploration"
   ]
  },
  {
   "cell_type": "code",
   "execution_count": 162,
   "id": "973ceba2",
   "metadata": {},
   "outputs": [
    {
     "data": {
      "text/plain": [
       "torch.Size([145085, 980])"
      ]
     },
     "execution_count": 162,
     "metadata": {},
     "output_type": "execute_result"
    },
    {
     "data": {
      "application/javascript": [
       "\n",
       "            setTimeout(function() {\n",
       "                var nbb_cell_id = 162;\n",
       "                var nbb_unformatted_code = \"datasets[\\\"training\\\"].drugs.size()\";\n",
       "                var nbb_formatted_code = \"datasets[\\\"training\\\"].drugs.size()\";\n",
       "                var nbb_cells = Jupyter.notebook.get_cells();\n",
       "                for (var i = 0; i < nbb_cells.length; ++i) {\n",
       "                    if (nbb_cells[i].input_prompt_number == nbb_cell_id) {\n",
       "                        if (nbb_cells[i].get_text() == nbb_unformatted_code) {\n",
       "                             nbb_cells[i].set_text(nbb_formatted_code);\n",
       "                        }\n",
       "                        break;\n",
       "                    }\n",
       "                }\n",
       "            }, 500);\n",
       "            "
      ],
      "text/plain": [
       "<IPython.core.display.Javascript object>"
      ]
     },
     "metadata": {},
     "output_type": "display_data"
    }
   ],
   "source": [
    "datasets[\"training\"].drugs.size()"
   ]
  },
  {
   "cell_type": "code",
   "execution_count": 58,
   "id": "f857eb1a",
   "metadata": {},
   "outputs": [
    {
     "data": {
      "image/png": "[encoded data removed]",
      "text/plain": [
       "<Figure size 320x320 with 1 Axes>"
      ]
     },
     "metadata": {
      "image/png": {
       "height": 282,
       "width": 322
      },
      "needs_background": "light"
     },
     "output_type": "display_data"
    },
    {
     "data": {
      "application/javascript": [
       "\n",
       "            setTimeout(function() {\n",
       "                var nbb_cell_id = 58;\n",
       "                var nbb_unformatted_code = \"# plt.hist()\\ndose_values = datasets[\\\"training\\\"].drugs[datasets[\\\"training\\\"].drugs > 0].numpy()\\ndose_values = np.clip(dose_values, 0, 11)\\nplt.hist(dose_values, bins=100);\";\n",
       "                var nbb_formatted_code = \"# plt.hist()\\ndose_values = datasets[\\\"training\\\"].drugs[datasets[\\\"training\\\"].drugs > 0].numpy()\\ndose_values = np.clip(dose_values, 0, 11)\\nplt.hist(dose_values, bins=100)\";\n",
       "                var nbb_cells = Jupyter.notebook.get_cells();\n",
       "                for (var i = 0; i < nbb_cells.length; ++i) {\n",
       "                    if (nbb_cells[i].input_prompt_number == nbb_cell_id) {\n",
       "                        if (nbb_cells[i].get_text() == nbb_unformatted_code) {\n",
       "                             nbb_cells[i].set_text(nbb_formatted_code);\n",
       "                        }\n",
       "                        break;\n",
       "                    }\n",
       "                }\n",
       "            }, 500);\n",
       "            "
      ],
      "text/plain": [
       "<IPython.core.display.Javascript object>"
      ]
     },
     "metadata": {},
     "output_type": "display_data"
    }
   ],
   "source": [
    "# plt.hist()\n",
    "dose_values = datasets[\"training\"].drugs[datasets[\"training\"].drugs > 0].numpy()\n",
    "dose_values = np.clip(dose_values, 0, 11)\n",
    "plt.hist(dose_values, bins=100)"
   ]
  },
  {
   "cell_type": "code",
   "execution_count": 171,
   "id": "7a90e3fd",
   "metadata": {},
   "outputs": [
    {
     "data": {
      "application/javascript": [
       "\n",
       "            setTimeout(function() {\n",
       "                var nbb_cell_id = 171;\n",
       "                var nbb_unformatted_code = \"adata_subset = adata[adata.obs.split1 == \\\"test\\\"].copy()\\ncutoff = 5\\n\\n\\ndef create_categories(adata, group: list):\\n    pert_cat = \\\"\\\"\\n    if \\\"cell_line\\\" in group:\\n        pert_cat += adata.obs.cell_type.astype(str)\\n    if \\\"drugs\\\" in group:\\n        pert_cat += \\\"_\\\" + adata.obs.condition.astype(str)\\n    if \\\"dose\\\" in group:\\n        pert_cat += \\\"_\\\" + adata.obs.dose_val.astype(str)\\n\\n    pert_cat = pert_cat[pert_cat.apply(lambda s: \\\"DMSO\\\" not in s)]\\n    return pert_cat\\n\\n\\ndef valid_categories(cats, cutoff):\\n    return cats.value_counts().index[cats.value_counts() > cutoff]\";\n",
       "                var nbb_formatted_code = \"adata_subset = adata[adata.obs.split1 == \\\"test\\\"].copy()\\ncutoff = 5\\n\\n\\ndef create_categories(adata, group: list):\\n    pert_cat = \\\"\\\"\\n    if \\\"cell_line\\\" in group:\\n        pert_cat += adata.obs.cell_type.astype(str)\\n    if \\\"drugs\\\" in group:\\n        pert_cat += \\\"_\\\" + adata.obs.condition.astype(str)\\n    if \\\"dose\\\" in group:\\n        pert_cat += \\\"_\\\" + adata.obs.dose_val.astype(str)\\n\\n    pert_cat = pert_cat[pert_cat.apply(lambda s: \\\"DMSO\\\" not in s)]\\n    return pert_cat\\n\\n\\ndef valid_categories(cats, cutoff):\\n    return cats.value_counts().index[cats.value_counts() > cutoff]\";\n",
       "                var nbb_cells = Jupyter.notebook.get_cells();\n",
       "                for (var i = 0; i < nbb_cells.length; ++i) {\n",
       "                    if (nbb_cells[i].input_prompt_number == nbb_cell_id) {\n",
       "                        if (nbb_cells[i].get_text() == nbb_unformatted_code) {\n",
       "                             nbb_cells[i].set_text(nbb_formatted_code);\n",
       "                        }\n",
       "                        break;\n",
       "                    }\n",
       "                }\n",
       "            }, 500);\n",
       "            "
      ],
      "text/plain": [
       "<IPython.core.display.Javascript object>"
      ]
     },
     "metadata": {},
     "output_type": "display_data"
    }
   ],
   "source": [
    "adata_subset = adata[adata.obs.split1 == \"test\"].copy()\n",
    "cutoff = 5\n",
    "\n",
    "\n",
    "def create_categories(adata, group: list):\n",
    "    pert_cat = \"\"\n",
    "    if \"cell_line\" in group:\n",
    "        pert_cat += adata.obs.cell_type.astype(str)\n",
    "    if \"drugs\" in group:\n",
    "        pert_cat += \"_\" + adata.obs.condition.astype(str)\n",
    "    if \"dose\" in group:\n",
    "        pert_cat += \"_\" + adata.obs.dose_val.astype(str)\n",
    "\n",
    "    pert_cat = pert_cat[pert_cat.apply(lambda s: \"DMSO\" not in s)]\n",
    "    return pert_cat\n",
    "\n",
    "\n",
    "def valid_categories(cats, cutoff):\n",
    "    return cats.value_counts().index[cats.value_counts() > cutoff]"
   ]
  },
  {
   "cell_type": "code",
   "execution_count": 172,
   "id": "e39b7f29",
   "metadata": {},
   "outputs": [
    {
     "name": "stdout",
     "output_type": "stream",
     "text": [
      "With this setting, the adata object has 12549 differnt \"pert_categories\"\n",
      "From a total of 19623 obs, 1206 belong to categories with more than 5 obs, that is 6.15%\n"
     ]
    },
    {
     "data": {
      "application/javascript": [
       "\n",
       "            setTimeout(function() {\n",
       "                var nbb_cell_id = 172;\n",
       "                var nbb_unformatted_code = \"# group by cell_line, drug, and dose\\npert_cat = create_categories(adata_subset, [\\\"cell_line\\\", \\\"drugs\\\", \\\"dose\\\"])\\n\\ncat_values = pert_cat.astype(\\\"category\\\").cat.categories\\nvalid_cats = valid_categories(pert_cat, cutoff)\\nprint(\\n    f'With this setting, the adata object has {len(cat_values)} differnt \\\"pert_categories\\\"'\\n)\\nprint(\\n    f\\\"From a total of {len(pert_cat)} obs, {pert_cat.isin(valid_cats).sum()} belong to categories with more than {cutoff} obs, that is {100*pert_cat.isin(valid_cats).sum()/len(pert_cat):.2f}%\\\"\\n)\";\n",
       "                var nbb_formatted_code = \"# group by cell_line, drug, and dose\\npert_cat = create_categories(adata_subset, [\\\"cell_line\\\", \\\"drugs\\\", \\\"dose\\\"])\\n\\ncat_values = pert_cat.astype(\\\"category\\\").cat.categories\\nvalid_cats = valid_categories(pert_cat, cutoff)\\nprint(\\n    f'With this setting, the adata object has {len(cat_values)} differnt \\\"pert_categories\\\"'\\n)\\nprint(\\n    f\\\"From a total of {len(pert_cat)} obs, {pert_cat.isin(valid_cats).sum()} belong to categories with more than {cutoff} obs, that is {100*pert_cat.isin(valid_cats).sum()/len(pert_cat):.2f}%\\\"\\n)\";\n",
       "                var nbb_cells = Jupyter.notebook.get_cells();\n",
       "                for (var i = 0; i < nbb_cells.length; ++i) {\n",
       "                    if (nbb_cells[i].input_prompt_number == nbb_cell_id) {\n",
       "                        if (nbb_cells[i].get_text() == nbb_unformatted_code) {\n",
       "                             nbb_cells[i].set_text(nbb_formatted_code);\n",
       "                        }\n",
       "                        break;\n",
       "                    }\n",
       "                }\n",
       "            }, 500);\n",
       "            "
      ],
      "text/plain": [
       "<IPython.core.display.Javascript object>"
      ]
     },
     "metadata": {},
     "output_type": "display_data"
    }
   ],
   "source": [
    "# group by cell_line, drug, and dose\n",
    "pert_cat = create_categories(adata_subset, [\"cell_line\", \"drugs\", \"dose\"])\n",
    "\n",
    "cat_values = pert_cat.astype(\"category\").cat.categories\n",
    "valid_cats = valid_categories(pert_cat, cutoff)\n",
    "print(\n",
    "    f'With this setting, the adata object has {len(cat_values)} differnt \"pert_categories\"'\n",
    ")\n",
    "print(\n",
    "    f\"From a total of {len(pert_cat)} obs, {pert_cat.isin(valid_cats).sum()} belong to categories with more than {cutoff} obs, that is {100*pert_cat.isin(valid_cats).sum()/len(pert_cat):.2f}%\"\n",
    ")"
   ]
  },
  {
   "cell_type": "code",
   "execution_count": 173,
   "id": "d5ea63b4",
   "metadata": {},
   "outputs": [
    {
     "name": "stdout",
     "output_type": "stream",
     "text": [
      "With this setting, the adata object has 2645 differnt \"pert_categories\"\n",
      "From a total of 19623 obs, 15416 belong to categories with more than 5 obs, that is 78.56%\n"
     ]
    },
    {
     "data": {
      "application/javascript": [
       "\n",
       "            setTimeout(function() {\n",
       "                var nbb_cell_id = 173;\n",
       "                var nbb_unformatted_code = \"# group by drug and dose\\npert_cat = create_categories(adata_subset, [\\\"drugs\\\", \\\"dose\\\"])\\n\\ncat_values = pert_cat.astype(\\\"category\\\").cat.categories\\nvalid_cats = valid_categories(pert_cat, cutoff)\\nprint(\\n    f'With this setting, the adata object has {len(cat_values)} differnt \\\"pert_categories\\\"'\\n)\\nprint(\\n    f\\\"From a total of {len(pert_cat)} obs, {pert_cat.isin(valid_cats).sum()} belong to categories with more than {cutoff} obs, that is {100*pert_cat.isin(valid_cats).sum()/len(pert_cat):.2f}%\\\"\\n)\";\n",
       "                var nbb_formatted_code = \"# group by drug and dose\\npert_cat = create_categories(adata_subset, [\\\"drugs\\\", \\\"dose\\\"])\\n\\ncat_values = pert_cat.astype(\\\"category\\\").cat.categories\\nvalid_cats = valid_categories(pert_cat, cutoff)\\nprint(\\n    f'With this setting, the adata object has {len(cat_values)} differnt \\\"pert_categories\\\"'\\n)\\nprint(\\n    f\\\"From a total of {len(pert_cat)} obs, {pert_cat.isin(valid_cats).sum()} belong to categories with more than {cutoff} obs, that is {100*pert_cat.isin(valid_cats).sum()/len(pert_cat):.2f}%\\\"\\n)\";\n",
       "                var nbb_cells = Jupyter.notebook.get_cells();\n",
       "                for (var i = 0; i < nbb_cells.length; ++i) {\n",
       "                    if (nbb_cells[i].input_prompt_number == nbb_cell_id) {\n",
       "                        if (nbb_cells[i].get_text() == nbb_unformatted_code) {\n",
       "                             nbb_cells[i].set_text(nbb_formatted_code);\n",
       "                        }\n",
       "                        break;\n",
       "                    }\n",
       "                }\n",
       "            }, 500);\n",
       "            "
      ],
      "text/plain": [
       "<IPython.core.display.Javascript object>"
      ]
     },
     "metadata": {},
     "output_type": "display_data"
    }
   ],
   "source": [
    "# group by drug and dose\n",
    "pert_cat = create_categories(adata_subset, [\"drugs\", \"dose\"])\n",
    "\n",
    "cat_values = pert_cat.astype(\"category\").cat.categories\n",
    "valid_cats = valid_categories(pert_cat, cutoff)\n",
    "print(\n",
    "    f'With this setting, the adata object has {len(cat_values)} differnt \"pert_categories\"'\n",
    ")\n",
    "print(\n",
    "    f\"From a total of {len(pert_cat)} obs, {pert_cat.isin(valid_cats).sum()} belong to categories with more than {cutoff} obs, that is {100*pert_cat.isin(valid_cats).sum()/len(pert_cat):.2f}%\"\n",
    ")"
   ]
  },
  {
   "cell_type": "code",
   "execution_count": 174,
   "id": "335a6494",
   "metadata": {},
   "outputs": [
    {
     "name": "stdout",
     "output_type": "stream",
     "text": [
      "With this setting, the adata object has 6774 differnt \"pert_categories\"\n",
      "From a total of 19623 obs, 8308 belong to categories with more than 5 obs, that is 42.34%\n"
     ]
    },
    {
     "data": {
      "application/javascript": [
       "\n",
       "            setTimeout(function() {\n",
       "                var nbb_cell_id = 174;\n",
       "                var nbb_unformatted_code = \"# group by cell_type and drug\\npert_cat = create_categories(adata_subset, [\\\"cell_line\\\", \\\"drugs\\\"])\\n\\ncat_values = pert_cat.astype(\\\"category\\\").cat.categories\\nvalid_cats = valid_categories(pert_cat, cutoff)\\nprint(\\n    f'With this setting, the adata object has {len(cat_values)} differnt \\\"pert_categories\\\"'\\n)\\nprint(\\n    f\\\"From a total of {len(pert_cat)} obs, {pert_cat.isin(valid_cats).sum()} belong to categories with more than {cutoff} obs, that is {100*pert_cat.isin(valid_cats).sum()/len(pert_cat):.2f}%\\\"\\n)\";\n",
       "                var nbb_formatted_code = \"# group by cell_type and drug\\npert_cat = create_categories(adata_subset, [\\\"cell_line\\\", \\\"drugs\\\"])\\n\\ncat_values = pert_cat.astype(\\\"category\\\").cat.categories\\nvalid_cats = valid_categories(pert_cat, cutoff)\\nprint(\\n    f'With this setting, the adata object has {len(cat_values)} differnt \\\"pert_categories\\\"'\\n)\\nprint(\\n    f\\\"From a total of {len(pert_cat)} obs, {pert_cat.isin(valid_cats).sum()} belong to categories with more than {cutoff} obs, that is {100*pert_cat.isin(valid_cats).sum()/len(pert_cat):.2f}%\\\"\\n)\";\n",
       "                var nbb_cells = Jupyter.notebook.get_cells();\n",
       "                for (var i = 0; i < nbb_cells.length; ++i) {\n",
       "                    if (nbb_cells[i].input_prompt_number == nbb_cell_id) {\n",
       "                        if (nbb_cells[i].get_text() == nbb_unformatted_code) {\n",
       "                             nbb_cells[i].set_text(nbb_formatted_code);\n",
       "                        }\n",
       "                        break;\n",
       "                    }\n",
       "                }\n",
       "            }, 500);\n",
       "            "
      ],
      "text/plain": [
       "<IPython.core.display.Javascript object>"
      ]
     },
     "metadata": {},
     "output_type": "display_data"
    }
   ],
   "source": [
    "# group by cell_type and drug\n",
    "pert_cat = create_categories(adata_subset, [\"cell_line\", \"drugs\"])\n",
    "\n",
    "cat_values = pert_cat.astype(\"category\").cat.categories\n",
    "valid_cats = valid_categories(pert_cat, cutoff)\n",
    "print(\n",
    "    f'With this setting, the adata object has {len(cat_values)} differnt \"pert_categories\"'\n",
    ")\n",
    "print(\n",
    "    f\"From a total of {len(pert_cat)} obs, {pert_cat.isin(valid_cats).sum()} belong to categories with more than {cutoff} obs, that is {100*pert_cat.isin(valid_cats).sum()/len(pert_cat):.2f}%\"\n",
    ")"
   ]
  },
  {
   "cell_type": "code",
   "execution_count": null,
   "id": "7e281efb",
   "metadata": {},
   "outputs": [],
   "source": []
  }
 ],
 "metadata": {
  "kernelspec": {
   "display_name": "Python 3",
   "language": "python",
   "name": "python3"
  },
  "language_info": {
   "codemirror_mode": {
    "name": "ipython",
    "version": 3
   },
   "file_extension": ".py",
   "mimetype": "text/x-python",
   "name": "python",
   "nbconvert_exporter": "python",
   "pygments_lexer": "ipython3",
   "version": "3.8.8"
  }
 },
 "nbformat": 4,
 "nbformat_minor": 5
}
